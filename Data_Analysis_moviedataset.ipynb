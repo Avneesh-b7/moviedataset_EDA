{
 "cells": [
  {
   "cell_type": "code",
   "execution_count": 1,
   "id": "5111e683",
   "metadata": {},
   "outputs": [],
   "source": [
    "# this is a exploratory data analysis were we tried to derive meaningful information from the dataset \n"
   ]
  },
  {
   "cell_type": "code",
   "execution_count": 2,
   "id": "de2877a6",
   "metadata": {},
   "outputs": [
    {
     "data": {
      "text/plain": [
       "<function mpld3._display.enable_notebook(local=False, **kwargs)>"
      ]
     },
     "execution_count": 2,
     "metadata": {},
     "output_type": "execute_result"
    }
   ],
   "source": [
    "# importing the libraries  \n",
    "\n",
    "import pandas as pd \n",
    "import numpy as np  \n",
    "import seaborn as sns \n",
    "import matplotlib.pyplot as plt \n",
    "%matplotlib inline \n",
    "import ast \n",
    "import mpld3\n",
    "mpld3.enable_notebook"
   ]
  },
  {
   "cell_type": "code",
   "execution_count": 3,
   "id": "9653e0b7",
   "metadata": {},
   "outputs": [],
   "source": [
    "# loading the data\n",
    "df_meta=pd.read_csv(\"movies_metadata.csv\",low_memory=False)"
   ]
  },
  {
   "cell_type": "code",
   "execution_count": 4,
   "id": "652d6bf6",
   "metadata": {},
   "outputs": [
    {
     "data": {
      "text/html": [
       "<div>\n",
       "<style scoped>\n",
       "    .dataframe tbody tr th:only-of-type {\n",
       "        vertical-align: middle;\n",
       "    }\n",
       "\n",
       "    .dataframe tbody tr th {\n",
       "        vertical-align: top;\n",
       "    }\n",
       "\n",
       "    .dataframe thead th {\n",
       "        text-align: right;\n",
       "    }\n",
       "</style>\n",
       "<table border=\"1\" class=\"dataframe\">\n",
       "  <thead>\n",
       "    <tr style=\"text-align: right;\">\n",
       "      <th></th>\n",
       "      <th>0</th>\n",
       "      <th>1</th>\n",
       "      <th>2</th>\n",
       "      <th>3</th>\n",
       "      <th>4</th>\n",
       "    </tr>\n",
       "  </thead>\n",
       "  <tbody>\n",
       "    <tr>\n",
       "      <th>adult</th>\n",
       "      <td>False</td>\n",
       "      <td>False</td>\n",
       "      <td>False</td>\n",
       "      <td>False</td>\n",
       "      <td>False</td>\n",
       "    </tr>\n",
       "    <tr>\n",
       "      <th>belongs_to_collection</th>\n",
       "      <td>{'id': 10194, 'name': 'Toy Story Collection', ...</td>\n",
       "      <td>NaN</td>\n",
       "      <td>{'id': 119050, 'name': 'Grumpy Old Men Collect...</td>\n",
       "      <td>NaN</td>\n",
       "      <td>{'id': 96871, 'name': 'Father of the Bride Col...</td>\n",
       "    </tr>\n",
       "    <tr>\n",
       "      <th>budget</th>\n",
       "      <td>30000000</td>\n",
       "      <td>65000000</td>\n",
       "      <td>0</td>\n",
       "      <td>16000000</td>\n",
       "      <td>0</td>\n",
       "    </tr>\n",
       "    <tr>\n",
       "      <th>genres</th>\n",
       "      <td>[{'id': 16, 'name': 'Animation'}, {'id': 35, '...</td>\n",
       "      <td>[{'id': 12, 'name': 'Adventure'}, {'id': 14, '...</td>\n",
       "      <td>[{'id': 10749, 'name': 'Romance'}, {'id': 35, ...</td>\n",
       "      <td>[{'id': 35, 'name': 'Comedy'}, {'id': 18, 'nam...</td>\n",
       "      <td>[{'id': 35, 'name': 'Comedy'}]</td>\n",
       "    </tr>\n",
       "    <tr>\n",
       "      <th>homepage</th>\n",
       "      <td>http://toystory.disney.com/toy-story</td>\n",
       "      <td>NaN</td>\n",
       "      <td>NaN</td>\n",
       "      <td>NaN</td>\n",
       "      <td>NaN</td>\n",
       "    </tr>\n",
       "    <tr>\n",
       "      <th>id</th>\n",
       "      <td>862</td>\n",
       "      <td>8844</td>\n",
       "      <td>15602</td>\n",
       "      <td>31357</td>\n",
       "      <td>11862</td>\n",
       "    </tr>\n",
       "    <tr>\n",
       "      <th>imdb_id</th>\n",
       "      <td>tt0114709</td>\n",
       "      <td>tt0113497</td>\n",
       "      <td>tt0113228</td>\n",
       "      <td>tt0114885</td>\n",
       "      <td>tt0113041</td>\n",
       "    </tr>\n",
       "    <tr>\n",
       "      <th>original_language</th>\n",
       "      <td>en</td>\n",
       "      <td>en</td>\n",
       "      <td>en</td>\n",
       "      <td>en</td>\n",
       "      <td>en</td>\n",
       "    </tr>\n",
       "    <tr>\n",
       "      <th>original_title</th>\n",
       "      <td>Toy Story</td>\n",
       "      <td>Jumanji</td>\n",
       "      <td>Grumpier Old Men</td>\n",
       "      <td>Waiting to Exhale</td>\n",
       "      <td>Father of the Bride Part II</td>\n",
       "    </tr>\n",
       "    <tr>\n",
       "      <th>overview</th>\n",
       "      <td>Led by Woody, Andy's toys live happily in his ...</td>\n",
       "      <td>When siblings Judy and Peter discover an encha...</td>\n",
       "      <td>A family wedding reignites the ancient feud be...</td>\n",
       "      <td>Cheated on, mistreated and stepped on, the wom...</td>\n",
       "      <td>Just when George Banks has recovered from his ...</td>\n",
       "    </tr>\n",
       "    <tr>\n",
       "      <th>popularity</th>\n",
       "      <td>21.946943</td>\n",
       "      <td>17.015539</td>\n",
       "      <td>11.7129</td>\n",
       "      <td>3.859495</td>\n",
       "      <td>8.387519</td>\n",
       "    </tr>\n",
       "    <tr>\n",
       "      <th>poster_path</th>\n",
       "      <td>/rhIRbceoE9lR4veEXuwCC2wARtG.jpg</td>\n",
       "      <td>/vzmL6fP7aPKNKPRTFnZmiUfciyV.jpg</td>\n",
       "      <td>/6ksm1sjKMFLbO7UY2i6G1ju9SML.jpg</td>\n",
       "      <td>/16XOMpEaLWkrcPqSQqhTmeJuqQl.jpg</td>\n",
       "      <td>/e64sOI48hQXyru7naBFyssKFxVd.jpg</td>\n",
       "    </tr>\n",
       "    <tr>\n",
       "      <th>production_companies</th>\n",
       "      <td>[{'name': 'Pixar Animation Studios', 'id': 3}]</td>\n",
       "      <td>[{'name': 'TriStar Pictures', 'id': 559}, {'na...</td>\n",
       "      <td>[{'name': 'Warner Bros.', 'id': 6194}, {'name'...</td>\n",
       "      <td>[{'name': 'Twentieth Century Fox Film Corporat...</td>\n",
       "      <td>[{'name': 'Sandollar Productions', 'id': 5842}...</td>\n",
       "    </tr>\n",
       "    <tr>\n",
       "      <th>production_countries</th>\n",
       "      <td>[{'iso_3166_1': 'US', 'name': 'United States o...</td>\n",
       "      <td>[{'iso_3166_1': 'US', 'name': 'United States o...</td>\n",
       "      <td>[{'iso_3166_1': 'US', 'name': 'United States o...</td>\n",
       "      <td>[{'iso_3166_1': 'US', 'name': 'United States o...</td>\n",
       "      <td>[{'iso_3166_1': 'US', 'name': 'United States o...</td>\n",
       "    </tr>\n",
       "    <tr>\n",
       "      <th>release_date</th>\n",
       "      <td>1995-10-30</td>\n",
       "      <td>1995-12-15</td>\n",
       "      <td>1995-12-22</td>\n",
       "      <td>1995-12-22</td>\n",
       "      <td>1995-02-10</td>\n",
       "    </tr>\n",
       "    <tr>\n",
       "      <th>revenue</th>\n",
       "      <td>373554033.0</td>\n",
       "      <td>262797249.0</td>\n",
       "      <td>0.0</td>\n",
       "      <td>81452156.0</td>\n",
       "      <td>76578911.0</td>\n",
       "    </tr>\n",
       "    <tr>\n",
       "      <th>runtime</th>\n",
       "      <td>81.0</td>\n",
       "      <td>104.0</td>\n",
       "      <td>101.0</td>\n",
       "      <td>127.0</td>\n",
       "      <td>106.0</td>\n",
       "    </tr>\n",
       "    <tr>\n",
       "      <th>spoken_languages</th>\n",
       "      <td>[{'iso_639_1': 'en', 'name': 'English'}]</td>\n",
       "      <td>[{'iso_639_1': 'en', 'name': 'English'}, {'iso...</td>\n",
       "      <td>[{'iso_639_1': 'en', 'name': 'English'}]</td>\n",
       "      <td>[{'iso_639_1': 'en', 'name': 'English'}]</td>\n",
       "      <td>[{'iso_639_1': 'en', 'name': 'English'}]</td>\n",
       "    </tr>\n",
       "    <tr>\n",
       "      <th>status</th>\n",
       "      <td>Released</td>\n",
       "      <td>Released</td>\n",
       "      <td>Released</td>\n",
       "      <td>Released</td>\n",
       "      <td>Released</td>\n",
       "    </tr>\n",
       "    <tr>\n",
       "      <th>tagline</th>\n",
       "      <td>NaN</td>\n",
       "      <td>Roll the dice and unleash the excitement!</td>\n",
       "      <td>Still Yelling. Still Fighting. Still Ready for...</td>\n",
       "      <td>Friends are the people who let you be yourself...</td>\n",
       "      <td>Just When His World Is Back To Normal... He's ...</td>\n",
       "    </tr>\n",
       "    <tr>\n",
       "      <th>title</th>\n",
       "      <td>Toy Story</td>\n",
       "      <td>Jumanji</td>\n",
       "      <td>Grumpier Old Men</td>\n",
       "      <td>Waiting to Exhale</td>\n",
       "      <td>Father of the Bride Part II</td>\n",
       "    </tr>\n",
       "    <tr>\n",
       "      <th>video</th>\n",
       "      <td>False</td>\n",
       "      <td>False</td>\n",
       "      <td>False</td>\n",
       "      <td>False</td>\n",
       "      <td>False</td>\n",
       "    </tr>\n",
       "    <tr>\n",
       "      <th>vote_average</th>\n",
       "      <td>7.7</td>\n",
       "      <td>6.9</td>\n",
       "      <td>6.5</td>\n",
       "      <td>6.1</td>\n",
       "      <td>5.7</td>\n",
       "    </tr>\n",
       "    <tr>\n",
       "      <th>vote_count</th>\n",
       "      <td>5415.0</td>\n",
       "      <td>2413.0</td>\n",
       "      <td>92.0</td>\n",
       "      <td>34.0</td>\n",
       "      <td>173.0</td>\n",
       "    </tr>\n",
       "  </tbody>\n",
       "</table>\n",
       "</div>"
      ],
      "text/plain": [
       "                                                                       0  \\\n",
       "adult                                                              False   \n",
       "belongs_to_collection  {'id': 10194, 'name': 'Toy Story Collection', ...   \n",
       "budget                                                          30000000   \n",
       "genres                 [{'id': 16, 'name': 'Animation'}, {'id': 35, '...   \n",
       "homepage                            http://toystory.disney.com/toy-story   \n",
       "id                                                                   862   \n",
       "imdb_id                                                        tt0114709   \n",
       "original_language                                                     en   \n",
       "original_title                                                 Toy Story   \n",
       "overview               Led by Woody, Andy's toys live happily in his ...   \n",
       "popularity                                                     21.946943   \n",
       "poster_path                             /rhIRbceoE9lR4veEXuwCC2wARtG.jpg   \n",
       "production_companies      [{'name': 'Pixar Animation Studios', 'id': 3}]   \n",
       "production_countries   [{'iso_3166_1': 'US', 'name': 'United States o...   \n",
       "release_date                                                  1995-10-30   \n",
       "revenue                                                      373554033.0   \n",
       "runtime                                                             81.0   \n",
       "spoken_languages                [{'iso_639_1': 'en', 'name': 'English'}]   \n",
       "status                                                          Released   \n",
       "tagline                                                              NaN   \n",
       "title                                                          Toy Story   \n",
       "video                                                              False   \n",
       "vote_average                                                         7.7   \n",
       "vote_count                                                        5415.0   \n",
       "\n",
       "                                                                       1  \\\n",
       "adult                                                              False   \n",
       "belongs_to_collection                                                NaN   \n",
       "budget                                                          65000000   \n",
       "genres                 [{'id': 12, 'name': 'Adventure'}, {'id': 14, '...   \n",
       "homepage                                                             NaN   \n",
       "id                                                                  8844   \n",
       "imdb_id                                                        tt0113497   \n",
       "original_language                                                     en   \n",
       "original_title                                                   Jumanji   \n",
       "overview               When siblings Judy and Peter discover an encha...   \n",
       "popularity                                                     17.015539   \n",
       "poster_path                             /vzmL6fP7aPKNKPRTFnZmiUfciyV.jpg   \n",
       "production_companies   [{'name': 'TriStar Pictures', 'id': 559}, {'na...   \n",
       "production_countries   [{'iso_3166_1': 'US', 'name': 'United States o...   \n",
       "release_date                                                  1995-12-15   \n",
       "revenue                                                      262797249.0   \n",
       "runtime                                                            104.0   \n",
       "spoken_languages       [{'iso_639_1': 'en', 'name': 'English'}, {'iso...   \n",
       "status                                                          Released   \n",
       "tagline                        Roll the dice and unleash the excitement!   \n",
       "title                                                            Jumanji   \n",
       "video                                                              False   \n",
       "vote_average                                                         6.9   \n",
       "vote_count                                                        2413.0   \n",
       "\n",
       "                                                                       2  \\\n",
       "adult                                                              False   \n",
       "belongs_to_collection  {'id': 119050, 'name': 'Grumpy Old Men Collect...   \n",
       "budget                                                                 0   \n",
       "genres                 [{'id': 10749, 'name': 'Romance'}, {'id': 35, ...   \n",
       "homepage                                                             NaN   \n",
       "id                                                                 15602   \n",
       "imdb_id                                                        tt0113228   \n",
       "original_language                                                     en   \n",
       "original_title                                          Grumpier Old Men   \n",
       "overview               A family wedding reignites the ancient feud be...   \n",
       "popularity                                                       11.7129   \n",
       "poster_path                             /6ksm1sjKMFLbO7UY2i6G1ju9SML.jpg   \n",
       "production_companies   [{'name': 'Warner Bros.', 'id': 6194}, {'name'...   \n",
       "production_countries   [{'iso_3166_1': 'US', 'name': 'United States o...   \n",
       "release_date                                                  1995-12-22   \n",
       "revenue                                                              0.0   \n",
       "runtime                                                            101.0   \n",
       "spoken_languages                [{'iso_639_1': 'en', 'name': 'English'}]   \n",
       "status                                                          Released   \n",
       "tagline                Still Yelling. Still Fighting. Still Ready for...   \n",
       "title                                                   Grumpier Old Men   \n",
       "video                                                              False   \n",
       "vote_average                                                         6.5   \n",
       "vote_count                                                          92.0   \n",
       "\n",
       "                                                                       3  \\\n",
       "adult                                                              False   \n",
       "belongs_to_collection                                                NaN   \n",
       "budget                                                          16000000   \n",
       "genres                 [{'id': 35, 'name': 'Comedy'}, {'id': 18, 'nam...   \n",
       "homepage                                                             NaN   \n",
       "id                                                                 31357   \n",
       "imdb_id                                                        tt0114885   \n",
       "original_language                                                     en   \n",
       "original_title                                         Waiting to Exhale   \n",
       "overview               Cheated on, mistreated and stepped on, the wom...   \n",
       "popularity                                                      3.859495   \n",
       "poster_path                             /16XOMpEaLWkrcPqSQqhTmeJuqQl.jpg   \n",
       "production_companies   [{'name': 'Twentieth Century Fox Film Corporat...   \n",
       "production_countries   [{'iso_3166_1': 'US', 'name': 'United States o...   \n",
       "release_date                                                  1995-12-22   \n",
       "revenue                                                       81452156.0   \n",
       "runtime                                                            127.0   \n",
       "spoken_languages                [{'iso_639_1': 'en', 'name': 'English'}]   \n",
       "status                                                          Released   \n",
       "tagline                Friends are the people who let you be yourself...   \n",
       "title                                                  Waiting to Exhale   \n",
       "video                                                              False   \n",
       "vote_average                                                         6.1   \n",
       "vote_count                                                          34.0   \n",
       "\n",
       "                                                                       4  \n",
       "adult                                                              False  \n",
       "belongs_to_collection  {'id': 96871, 'name': 'Father of the Bride Col...  \n",
       "budget                                                                 0  \n",
       "genres                                    [{'id': 35, 'name': 'Comedy'}]  \n",
       "homepage                                                             NaN  \n",
       "id                                                                 11862  \n",
       "imdb_id                                                        tt0113041  \n",
       "original_language                                                     en  \n",
       "original_title                               Father of the Bride Part II  \n",
       "overview               Just when George Banks has recovered from his ...  \n",
       "popularity                                                      8.387519  \n",
       "poster_path                             /e64sOI48hQXyru7naBFyssKFxVd.jpg  \n",
       "production_companies   [{'name': 'Sandollar Productions', 'id': 5842}...  \n",
       "production_countries   [{'iso_3166_1': 'US', 'name': 'United States o...  \n",
       "release_date                                                  1995-02-10  \n",
       "revenue                                                       76578911.0  \n",
       "runtime                                                            106.0  \n",
       "spoken_languages                [{'iso_639_1': 'en', 'name': 'English'}]  \n",
       "status                                                          Released  \n",
       "tagline                Just When His World Is Back To Normal... He's ...  \n",
       "title                                        Father of the Bride Part II  \n",
       "video                                                              False  \n",
       "vote_average                                                         5.7  \n",
       "vote_count                                                         173.0  "
      ]
     },
     "execution_count": 4,
     "metadata": {},
     "output_type": "execute_result"
    }
   ],
   "source": [
    "df_meta.head(5).transpose()"
   ]
  },
  {
   "cell_type": "code",
   "execution_count": 5,
   "id": "86795d6b",
   "metadata": {},
   "outputs": [
    {
     "data": {
      "text/plain": [
       "(45466, 24)"
      ]
     },
     "execution_count": 5,
     "metadata": {},
     "output_type": "execute_result"
    }
   ],
   "source": [
    "# this dataframe has 45466 rows and 24 colums\n",
    "df_meta.shape"
   ]
  },
  {
   "cell_type": "code",
   "execution_count": 6,
   "id": "02010f81",
   "metadata": {},
   "outputs": [
    {
     "name": "stdout",
     "output_type": "stream",
     "text": [
      "<class 'pandas.core.frame.DataFrame'>\n",
      "RangeIndex: 45466 entries, 0 to 45465\n",
      "Data columns (total 24 columns):\n",
      " #   Column                 Non-Null Count  Dtype  \n",
      "---  ------                 --------------  -----  \n",
      " 0   adult                  45466 non-null  object \n",
      " 1   belongs_to_collection  4494 non-null   object \n",
      " 2   budget                 45466 non-null  object \n",
      " 3   genres                 45466 non-null  object \n",
      " 4   homepage               7782 non-null   object \n",
      " 5   id                     45466 non-null  object \n",
      " 6   imdb_id                45449 non-null  object \n",
      " 7   original_language      45455 non-null  object \n",
      " 8   original_title         45466 non-null  object \n",
      " 9   overview               44512 non-null  object \n",
      " 10  popularity             45461 non-null  object \n",
      " 11  poster_path            45080 non-null  object \n",
      " 12  production_companies   45463 non-null  object \n",
      " 13  production_countries   45463 non-null  object \n",
      " 14  release_date           45379 non-null  object \n",
      " 15  revenue                45460 non-null  float64\n",
      " 16  runtime                45203 non-null  float64\n",
      " 17  spoken_languages       45460 non-null  object \n",
      " 18  status                 45379 non-null  object \n",
      " 19  tagline                20412 non-null  object \n",
      " 20  title                  45460 non-null  object \n",
      " 21  video                  45460 non-null  object \n",
      " 22  vote_average           45460 non-null  float64\n",
      " 23  vote_count             45460 non-null  float64\n",
      "dtypes: float64(4), object(20)\n",
      "memory usage: 8.3+ MB\n"
     ]
    }
   ],
   "source": [
    "# information about the datatypes of various columns and how many non null entries are there for each column \n",
    "\n",
    "df_meta.info()\n",
    "\n",
    "# we can see that in the columns -\"belongs_to_collection\" , \"homepage\" and \"tagline\" there are many NaN values"
   ]
  },
  {
   "cell_type": "code",
   "execution_count": null,
   "id": "626fe733",
   "metadata": {},
   "outputs": [],
   "source": []
  },
  {
   "cell_type": "code",
   "execution_count": null,
   "id": "663caf1c",
   "metadata": {},
   "outputs": [],
   "source": []
  },
  {
   "cell_type": "code",
   "execution_count": null,
   "id": "420b9bd4",
   "metadata": {},
   "outputs": [],
   "source": []
  },
  {
   "cell_type": "code",
   "execution_count": 7,
   "id": "479e8d97",
   "metadata": {},
   "outputs": [],
   "source": [
    "# in the next step we attempt to clean the data and make it suitable for us to perform operations on the dataset"
   ]
  },
  {
   "cell_type": "code",
   "execution_count": 8,
   "id": "e167e6b8",
   "metadata": {},
   "outputs": [
    {
     "data": {
      "text/html": [
       "<div>\n",
       "<style scoped>\n",
       "    .dataframe tbody tr th:only-of-type {\n",
       "        vertical-align: middle;\n",
       "    }\n",
       "\n",
       "    .dataframe tbody tr th {\n",
       "        vertical-align: top;\n",
       "    }\n",
       "\n",
       "    .dataframe thead th {\n",
       "        text-align: right;\n",
       "    }\n",
       "</style>\n",
       "<table border=\"1\" class=\"dataframe\">\n",
       "  <thead>\n",
       "    <tr style=\"text-align: right;\">\n",
       "      <th></th>\n",
       "      <th>adult</th>\n",
       "      <th>belongs_to_collection</th>\n",
       "      <th>budget</th>\n",
       "      <th>genres</th>\n",
       "      <th>homepage</th>\n",
       "      <th>id</th>\n",
       "      <th>imdb_id</th>\n",
       "      <th>original_language</th>\n",
       "      <th>original_title</th>\n",
       "      <th>overview</th>\n",
       "      <th>...</th>\n",
       "      <th>release_date</th>\n",
       "      <th>revenue</th>\n",
       "      <th>runtime</th>\n",
       "      <th>spoken_languages</th>\n",
       "      <th>status</th>\n",
       "      <th>tagline</th>\n",
       "      <th>title</th>\n",
       "      <th>video</th>\n",
       "      <th>vote_average</th>\n",
       "      <th>vote_count</th>\n",
       "    </tr>\n",
       "  </thead>\n",
       "  <tbody>\n",
       "    <tr>\n",
       "      <th>28</th>\n",
       "      <td>False</td>\n",
       "      <td>NaN</td>\n",
       "      <td>18000000</td>\n",
       "      <td>[{'id': 14, 'name': 'Fantasy'}, {'id': 878, 'n...</td>\n",
       "      <td>NaN</td>\n",
       "      <td>902</td>\n",
       "      <td>tt0112682</td>\n",
       "      <td>fr</td>\n",
       "      <td>La Cité des Enfants Perdus</td>\n",
       "      <td>A scientist in a surrealist society kidnaps ch...</td>\n",
       "      <td>...</td>\n",
       "      <td>1995-05-16</td>\n",
       "      <td>1738611.0</td>\n",
       "      <td>108.0</td>\n",
       "      <td>[{'iso_639_1': 'cn', 'name': '广州话 / 廣州話'}, {'i...</td>\n",
       "      <td>Released</td>\n",
       "      <td>Where happily ever after is just a dream.</td>\n",
       "      <td>The City of Lost Children</td>\n",
       "      <td>False</td>\n",
       "      <td>7.6</td>\n",
       "      <td>308.0</td>\n",
       "    </tr>\n",
       "    <tr>\n",
       "      <th>29</th>\n",
       "      <td>False</td>\n",
       "      <td>NaN</td>\n",
       "      <td>0</td>\n",
       "      <td>[{'id': 18, 'name': 'Drama'}, {'id': 80, 'name...</td>\n",
       "      <td>NaN</td>\n",
       "      <td>37557</td>\n",
       "      <td>tt0115012</td>\n",
       "      <td>zh</td>\n",
       "      <td>摇啊摇，摇到外婆桥</td>\n",
       "      <td>A provincial boy related to a Shanghai crime f...</td>\n",
       "      <td>...</td>\n",
       "      <td>1995-04-30</td>\n",
       "      <td>0.0</td>\n",
       "      <td>108.0</td>\n",
       "      <td>[{'iso_639_1': 'zh', 'name': '普通话'}]</td>\n",
       "      <td>Released</td>\n",
       "      <td>In 1930's Shanghai violence was not the proble...</td>\n",
       "      <td>Shanghai Triad</td>\n",
       "      <td>False</td>\n",
       "      <td>6.5</td>\n",
       "      <td>17.0</td>\n",
       "    </tr>\n",
       "    <tr>\n",
       "      <th>32</th>\n",
       "      <td>False</td>\n",
       "      <td>NaN</td>\n",
       "      <td>0</td>\n",
       "      <td>[{'id': 10749, 'name': 'Romance'}, {'id': 12, ...</td>\n",
       "      <td>NaN</td>\n",
       "      <td>78802</td>\n",
       "      <td>tt0114952</td>\n",
       "      <td>fr</td>\n",
       "      <td>Guillaumet, les ailes du courage</td>\n",
       "      <td>NaN</td>\n",
       "      <td>...</td>\n",
       "      <td>1996-09-18</td>\n",
       "      <td>0.0</td>\n",
       "      <td>50.0</td>\n",
       "      <td>[{'iso_639_1': 'en', 'name': 'English'}]</td>\n",
       "      <td>Released</td>\n",
       "      <td>NaN</td>\n",
       "      <td>Wings of Courage</td>\n",
       "      <td>False</td>\n",
       "      <td>6.8</td>\n",
       "      <td>4.0</td>\n",
       "    </tr>\n",
       "    <tr>\n",
       "      <th>57</th>\n",
       "      <td>False</td>\n",
       "      <td>NaN</td>\n",
       "      <td>0</td>\n",
       "      <td>[{'id': 35, 'name': 'Comedy'}, {'id': 18, 'nam...</td>\n",
       "      <td>NaN</td>\n",
       "      <td>11010</td>\n",
       "      <td>tt0110877</td>\n",
       "      <td>it</td>\n",
       "      <td>Il postino</td>\n",
       "      <td>Simple Italian postman learns to love poetry w...</td>\n",
       "      <td>...</td>\n",
       "      <td>1994-09-22</td>\n",
       "      <td>0.0</td>\n",
       "      <td>108.0</td>\n",
       "      <td>[{'iso_639_1': 'it', 'name': 'Italiano'}, {'is...</td>\n",
       "      <td>Released</td>\n",
       "      <td>NaN</td>\n",
       "      <td>The Postman</td>\n",
       "      <td>False</td>\n",
       "      <td>7.6</td>\n",
       "      <td>181.0</td>\n",
       "    </tr>\n",
       "    <tr>\n",
       "      <th>58</th>\n",
       "      <td>False</td>\n",
       "      <td>NaN</td>\n",
       "      <td>0</td>\n",
       "      <td>[{'id': 53, 'name': 'Thriller'}, {'id': 18, 'n...</td>\n",
       "      <td>NaN</td>\n",
       "      <td>99040</td>\n",
       "      <td>tt0112714</td>\n",
       "      <td>fr</td>\n",
       "      <td>Le confessionnal</td>\n",
       "      <td>The year is 1952, in Quebec City. Rachel (16),...</td>\n",
       "      <td>...</td>\n",
       "      <td>1995-09-29</td>\n",
       "      <td>0.0</td>\n",
       "      <td>100.0</td>\n",
       "      <td>[{'iso_639_1': 'en', 'name': 'English'}, {'iso...</td>\n",
       "      <td>Released</td>\n",
       "      <td>NaN</td>\n",
       "      <td>The Confessional</td>\n",
       "      <td>False</td>\n",
       "      <td>6.5</td>\n",
       "      <td>2.0</td>\n",
       "    </tr>\n",
       "    <tr>\n",
       "      <th>...</th>\n",
       "      <td>...</td>\n",
       "      <td>...</td>\n",
       "      <td>...</td>\n",
       "      <td>...</td>\n",
       "      <td>...</td>\n",
       "      <td>...</td>\n",
       "      <td>...</td>\n",
       "      <td>...</td>\n",
       "      <td>...</td>\n",
       "      <td>...</td>\n",
       "      <td>...</td>\n",
       "      <td>...</td>\n",
       "      <td>...</td>\n",
       "      <td>...</td>\n",
       "      <td>...</td>\n",
       "      <td>...</td>\n",
       "      <td>...</td>\n",
       "      <td>...</td>\n",
       "      <td>...</td>\n",
       "      <td>...</td>\n",
       "      <td>...</td>\n",
       "    </tr>\n",
       "    <tr>\n",
       "      <th>45453</th>\n",
       "      <td>False</td>\n",
       "      <td>NaN</td>\n",
       "      <td>0</td>\n",
       "      <td>[{'id': 80, 'name': 'Crime'}, {'id': 18, 'name...</td>\n",
       "      <td>NaN</td>\n",
       "      <td>404604</td>\n",
       "      <td>tt5690142</td>\n",
       "      <td>hi</td>\n",
       "      <td>Maa</td>\n",
       "      <td>The bliss of a biology teacher’s family life i...</td>\n",
       "      <td>...</td>\n",
       "      <td>2017-07-07</td>\n",
       "      <td>0.0</td>\n",
       "      <td>146.0</td>\n",
       "      <td>[{'iso_639_1': 'hi', 'name': 'हिन्दी'}]</td>\n",
       "      <td>Released</td>\n",
       "      <td>NaN</td>\n",
       "      <td>Mom</td>\n",
       "      <td>False</td>\n",
       "      <td>6.6</td>\n",
       "      <td>14.0</td>\n",
       "    </tr>\n",
       "    <tr>\n",
       "      <th>45455</th>\n",
       "      <td>False</td>\n",
       "      <td>NaN</td>\n",
       "      <td>0</td>\n",
       "      <td>[]</td>\n",
       "      <td>NaN</td>\n",
       "      <td>67179</td>\n",
       "      <td>tt0069215</td>\n",
       "      <td>it</td>\n",
       "      <td>San Michele aveva un gallo</td>\n",
       "      <td>Sentenced to life imprisonment for illegal act...</td>\n",
       "      <td>...</td>\n",
       "      <td>1972-01-01</td>\n",
       "      <td>0.0</td>\n",
       "      <td>90.0</td>\n",
       "      <td>[{'iso_639_1': 'it', 'name': 'Italiano'}]</td>\n",
       "      <td>Released</td>\n",
       "      <td>NaN</td>\n",
       "      <td>St. Michael Had a Rooster</td>\n",
       "      <td>False</td>\n",
       "      <td>6.0</td>\n",
       "      <td>3.0</td>\n",
       "    </tr>\n",
       "    <tr>\n",
       "      <th>45461</th>\n",
       "      <td>False</td>\n",
       "      <td>NaN</td>\n",
       "      <td>0</td>\n",
       "      <td>[{'id': 18, 'name': 'Drama'}, {'id': 10751, 'n...</td>\n",
       "      <td>http://www.imdb.com/title/tt6209470/</td>\n",
       "      <td>439050</td>\n",
       "      <td>tt6209470</td>\n",
       "      <td>fa</td>\n",
       "      <td>رگ خواب</td>\n",
       "      <td>Rising and falling between a man and woman.</td>\n",
       "      <td>...</td>\n",
       "      <td>NaN</td>\n",
       "      <td>0.0</td>\n",
       "      <td>90.0</td>\n",
       "      <td>[{'iso_639_1': 'fa', 'name': 'فارسی'}]</td>\n",
       "      <td>Released</td>\n",
       "      <td>Rising and falling between a man and woman</td>\n",
       "      <td>Subdue</td>\n",
       "      <td>False</td>\n",
       "      <td>4.0</td>\n",
       "      <td>1.0</td>\n",
       "    </tr>\n",
       "    <tr>\n",
       "      <th>45462</th>\n",
       "      <td>False</td>\n",
       "      <td>NaN</td>\n",
       "      <td>0</td>\n",
       "      <td>[{'id': 18, 'name': 'Drama'}]</td>\n",
       "      <td>NaN</td>\n",
       "      <td>111109</td>\n",
       "      <td>tt2028550</td>\n",
       "      <td>tl</td>\n",
       "      <td>Siglo ng Pagluluwal</td>\n",
       "      <td>An artist struggles to finish his work while a...</td>\n",
       "      <td>...</td>\n",
       "      <td>2011-11-17</td>\n",
       "      <td>0.0</td>\n",
       "      <td>360.0</td>\n",
       "      <td>[{'iso_639_1': 'tl', 'name': ''}]</td>\n",
       "      <td>Released</td>\n",
       "      <td>NaN</td>\n",
       "      <td>Century of Birthing</td>\n",
       "      <td>False</td>\n",
       "      <td>9.0</td>\n",
       "      <td>3.0</td>\n",
       "    </tr>\n",
       "    <tr>\n",
       "      <th>45464</th>\n",
       "      <td>False</td>\n",
       "      <td>NaN</td>\n",
       "      <td>0</td>\n",
       "      <td>[]</td>\n",
       "      <td>NaN</td>\n",
       "      <td>227506</td>\n",
       "      <td>tt0008536</td>\n",
       "      <td>en</td>\n",
       "      <td>Satana likuyushchiy</td>\n",
       "      <td>In a small town live two brothers, one a minis...</td>\n",
       "      <td>...</td>\n",
       "      <td>1917-10-21</td>\n",
       "      <td>0.0</td>\n",
       "      <td>87.0</td>\n",
       "      <td>[]</td>\n",
       "      <td>Released</td>\n",
       "      <td>NaN</td>\n",
       "      <td>Satan Triumphant</td>\n",
       "      <td>False</td>\n",
       "      <td>0.0</td>\n",
       "      <td>0.0</td>\n",
       "    </tr>\n",
       "  </tbody>\n",
       "</table>\n",
       "<p>11402 rows × 24 columns</p>\n",
       "</div>"
      ],
      "text/plain": [
       "       adult belongs_to_collection    budget  \\\n",
       "28     False                   NaN  18000000   \n",
       "29     False                   NaN         0   \n",
       "32     False                   NaN         0   \n",
       "57     False                   NaN         0   \n",
       "58     False                   NaN         0   \n",
       "...      ...                   ...       ...   \n",
       "45453  False                   NaN         0   \n",
       "45455  False                   NaN         0   \n",
       "45461  False                   NaN         0   \n",
       "45462  False                   NaN         0   \n",
       "45464  False                   NaN         0   \n",
       "\n",
       "                                                  genres  \\\n",
       "28     [{'id': 14, 'name': 'Fantasy'}, {'id': 878, 'n...   \n",
       "29     [{'id': 18, 'name': 'Drama'}, {'id': 80, 'name...   \n",
       "32     [{'id': 10749, 'name': 'Romance'}, {'id': 12, ...   \n",
       "57     [{'id': 35, 'name': 'Comedy'}, {'id': 18, 'nam...   \n",
       "58     [{'id': 53, 'name': 'Thriller'}, {'id': 18, 'n...   \n",
       "...                                                  ...   \n",
       "45453  [{'id': 80, 'name': 'Crime'}, {'id': 18, 'name...   \n",
       "45455                                                 []   \n",
       "45461  [{'id': 18, 'name': 'Drama'}, {'id': 10751, 'n...   \n",
       "45462                      [{'id': 18, 'name': 'Drama'}]   \n",
       "45464                                                 []   \n",
       "\n",
       "                                   homepage      id    imdb_id  \\\n",
       "28                                      NaN     902  tt0112682   \n",
       "29                                      NaN   37557  tt0115012   \n",
       "32                                      NaN   78802  tt0114952   \n",
       "57                                      NaN   11010  tt0110877   \n",
       "58                                      NaN   99040  tt0112714   \n",
       "...                                     ...     ...        ...   \n",
       "45453                                   NaN  404604  tt5690142   \n",
       "45455                                   NaN   67179  tt0069215   \n",
       "45461  http://www.imdb.com/title/tt6209470/  439050  tt6209470   \n",
       "45462                                   NaN  111109  tt2028550   \n",
       "45464                                   NaN  227506  tt0008536   \n",
       "\n",
       "      original_language                    original_title  \\\n",
       "28                   fr        La Cité des Enfants Perdus   \n",
       "29                   zh                         摇啊摇，摇到外婆桥   \n",
       "32                   fr  Guillaumet, les ailes du courage   \n",
       "57                   it                        Il postino   \n",
       "58                   fr                  Le confessionnal   \n",
       "...                 ...                               ...   \n",
       "45453                hi                               Maa   \n",
       "45455                it        San Michele aveva un gallo   \n",
       "45461                fa                           رگ خواب   \n",
       "45462                tl               Siglo ng Pagluluwal   \n",
       "45464                en               Satana likuyushchiy   \n",
       "\n",
       "                                                overview  ... release_date  \\\n",
       "28     A scientist in a surrealist society kidnaps ch...  ...   1995-05-16   \n",
       "29     A provincial boy related to a Shanghai crime f...  ...   1995-04-30   \n",
       "32                                                   NaN  ...   1996-09-18   \n",
       "57     Simple Italian postman learns to love poetry w...  ...   1994-09-22   \n",
       "58     The year is 1952, in Quebec City. Rachel (16),...  ...   1995-09-29   \n",
       "...                                                  ...  ...          ...   \n",
       "45453  The bliss of a biology teacher’s family life i...  ...   2017-07-07   \n",
       "45455  Sentenced to life imprisonment for illegal act...  ...   1972-01-01   \n",
       "45461        Rising and falling between a man and woman.  ...          NaN   \n",
       "45462  An artist struggles to finish his work while a...  ...   2011-11-17   \n",
       "45464  In a small town live two brothers, one a minis...  ...   1917-10-21   \n",
       "\n",
       "         revenue runtime                                   spoken_languages  \\\n",
       "28     1738611.0   108.0  [{'iso_639_1': 'cn', 'name': '广州话 / 廣州話'}, {'i...   \n",
       "29           0.0   108.0               [{'iso_639_1': 'zh', 'name': '普通话'}]   \n",
       "32           0.0    50.0           [{'iso_639_1': 'en', 'name': 'English'}]   \n",
       "57           0.0   108.0  [{'iso_639_1': 'it', 'name': 'Italiano'}, {'is...   \n",
       "58           0.0   100.0  [{'iso_639_1': 'en', 'name': 'English'}, {'iso...   \n",
       "...          ...     ...                                                ...   \n",
       "45453        0.0   146.0            [{'iso_639_1': 'hi', 'name': 'हिन्दी'}]   \n",
       "45455        0.0    90.0          [{'iso_639_1': 'it', 'name': 'Italiano'}]   \n",
       "45461        0.0    90.0             [{'iso_639_1': 'fa', 'name': 'فارسی'}]   \n",
       "45462        0.0   360.0                  [{'iso_639_1': 'tl', 'name': ''}]   \n",
       "45464        0.0    87.0                                                 []   \n",
       "\n",
       "         status                                            tagline  \\\n",
       "28     Released          Where happily ever after is just a dream.   \n",
       "29     Released  In 1930's Shanghai violence was not the proble...   \n",
       "32     Released                                                NaN   \n",
       "57     Released                                                NaN   \n",
       "58     Released                                                NaN   \n",
       "...         ...                                                ...   \n",
       "45453  Released                                                NaN   \n",
       "45455  Released                                                NaN   \n",
       "45461  Released         Rising and falling between a man and woman   \n",
       "45462  Released                                                NaN   \n",
       "45464  Released                                                NaN   \n",
       "\n",
       "                           title  video vote_average vote_count  \n",
       "28     The City of Lost Children  False          7.6      308.0  \n",
       "29                Shanghai Triad  False          6.5       17.0  \n",
       "32              Wings of Courage  False          6.8        4.0  \n",
       "57                   The Postman  False          7.6      181.0  \n",
       "58              The Confessional  False          6.5        2.0  \n",
       "...                          ...    ...          ...        ...  \n",
       "45453                        Mom  False          6.6       14.0  \n",
       "45455  St. Michael Had a Rooster  False          6.0        3.0  \n",
       "45461                     Subdue  False          4.0        1.0  \n",
       "45462        Century of Birthing  False          9.0        3.0  \n",
       "45464           Satan Triumphant  False          0.0        0.0  \n",
       "\n",
       "[11402 rows x 24 columns]"
      ]
     },
     "execution_count": 8,
     "metadata": {},
     "output_type": "execute_result"
    }
   ],
   "source": [
    "# there are many movies where the original title is not the same as title\n",
    "# the original title refers to the title in the native language whereas the title is the english version of the same \n",
    "# for our analysis we will be using the title in english so we can safely drop the \"original title column\"\n",
    "\n",
    "df_meta[df_meta[\"original_title\"]!=df_meta[\"title\"]]\n"
   ]
  },
  {
   "cell_type": "code",
   "execution_count": 9,
   "id": "98306b29",
   "metadata": {},
   "outputs": [],
   "source": [
    "df_meta.drop(columns=\"original_title\",inplace=True)"
   ]
  },
  {
   "cell_type": "code",
   "execution_count": 10,
   "id": "186b5f1e",
   "metadata": {
    "scrolled": true
   },
   "outputs": [
    {
     "data": {
      "text/plain": [
       "(38052, 23)"
      ]
     },
     "execution_count": 10,
     "metadata": {},
     "output_type": "execute_result"
    }
   ],
   "source": [
    "# here we see that most of the movies have revenue as 0 amost 38000 movies have revenue as 0\n",
    "df_meta[df_meta[\"revenue\"]==0].shape"
   ]
  },
  {
   "cell_type": "code",
   "execution_count": 11,
   "id": "da5158f1",
   "metadata": {},
   "outputs": [],
   "source": [
    "# we replace the 0 values with NaN values for the revenue column\n",
    "df_meta[\"revenue\"]=df_meta[\"revenue\"].replace(0.0,np.nan)"
   ]
  },
  {
   "cell_type": "code",
   "execution_count": 12,
   "id": "f81459e6",
   "metadata": {},
   "outputs": [
    {
     "data": {
      "text/plain": [
       "0        373554033.0\n",
       "1        262797249.0\n",
       "2                NaN\n",
       "3         81452156.0\n",
       "4         76578911.0\n",
       "            ...     \n",
       "45461            NaN\n",
       "45462            NaN\n",
       "45463            NaN\n",
       "45464            NaN\n",
       "45465            NaN\n",
       "Name: revenue, Length: 45466, dtype: float64"
      ]
     },
     "execution_count": 12,
     "metadata": {},
     "output_type": "execute_result"
    }
   ],
   "source": [
    "# we check the datatype of the entries in the revenue column\n",
    "df_meta[\"revenue\"]"
   ]
  },
  {
   "cell_type": "code",
   "execution_count": 13,
   "id": "da0ad7b3",
   "metadata": {},
   "outputs": [
    {
     "data": {
      "text/plain": [
       "dtype('O')"
      ]
     },
     "execution_count": 13,
     "metadata": {},
     "output_type": "execute_result"
    }
   ],
   "source": [
    "# but for the budget colum we see the datatype to be a Object \n",
    "# so we need to convert it to a number(int/float) to perform operations on it\n",
    "df_meta[\"budget\"].dtypes"
   ]
  },
  {
   "cell_type": "code",
   "execution_count": null,
   "id": "fe35e91c",
   "metadata": {},
   "outputs": [],
   "source": []
  },
  {
   "cell_type": "code",
   "execution_count": 14,
   "id": "3260ccf8",
   "metadata": {},
   "outputs": [
    {
     "data": {
      "text/plain": [
       "True"
      ]
     },
     "execution_count": 14,
     "metadata": {},
     "output_type": "execute_result"
    }
   ],
   "source": [
    "# isnumeric() returns a boolean value to check if the expression can be evaluated as a number \n",
    "a=\"0\"\n",
    "type(a)\n",
    "a.isnumeric()"
   ]
  },
  {
   "cell_type": "code",
   "execution_count": 15,
   "id": "fd8115cf",
   "metadata": {},
   "outputs": [
    {
     "name": "stdout",
     "output_type": "stream",
     "text": [
      "19730\n",
      "29503\n",
      "35587\n"
     ]
    }
   ],
   "source": [
    "# using the \"for loop\" we checked if there are any expressions which are not numeric and got the index of those rows\n",
    "cter=0\n",
    "for i in df_meta[\"budget\"]:\n",
    "    if i.isnumeric():\n",
    "        cter=cter+1\n",
    "    else:\n",
    "        print(cter)\n",
    "        cter=cter+1"
   ]
  },
  {
   "cell_type": "code",
   "execution_count": 16,
   "id": "138cf224",
   "metadata": {},
   "outputs": [
    {
     "name": "stdout",
     "output_type": "stream",
     "text": [
      "/ff9qCepilowshEtG2GYWwzt2bs4.jpg\n",
      "/zV8bHuSL6WXoD6FWogP9j4x80bL.jpg\n",
      "/zaSf5OG7V8X8gqFvly88zDdRm46.jpg\n"
     ]
    }
   ],
   "source": [
    "print(df_meta[\"budget\"][19730])\n",
    "print(df_meta[\"budget\"][29503])\n",
    "print(df_meta[\"budget\"][35587])\n"
   ]
  },
  {
   "cell_type": "code",
   "execution_count": 17,
   "id": "f9bb80bc",
   "metadata": {},
   "outputs": [
    {
     "data": {
      "text/plain": [
       "19730"
      ]
     },
     "execution_count": 17,
     "metadata": {},
     "output_type": "execute_result"
    }
   ],
   "source": [
    "df_meta.index[19730]"
   ]
  },
  {
   "cell_type": "code",
   "execution_count": 18,
   "id": "07e2cd1a",
   "metadata": {},
   "outputs": [],
   "source": [
    "### we can drop the above rows from the data set and then apply the \"con_to_nan\" function so that we can set all the 0 values \n",
    "# to NaN values"
   ]
  },
  {
   "cell_type": "code",
   "execution_count": 19,
   "id": "9bdec851",
   "metadata": {},
   "outputs": [],
   "source": [
    "# we can drorp these values using - df_meta.drop(df_meta.index[19730],df_meta.index[29503],df_meta.index[35587])\n",
    "# then can we can apply the con_to_nan function \n",
    "def con_to_nan(x):\n",
    "    if x==0:\n",
    "        return np.nan\n",
    "    else:\n",
    "        return x \n",
    "    \n",
    "df_meta[\"budget\"]=df_meta[\"budget\"].apply(con_to_nan)"
   ]
  },
  {
   "cell_type": "code",
   "execution_count": 20,
   "id": "f373e4cf",
   "metadata": {},
   "outputs": [],
   "source": [
    "# to converrt budget to numeric values we can also do it in a single step \n",
    "# \"coerce\" helps to set invalid parsing as NaN \n",
    "df_meta[\"budget\"]=pd.to_numeric(df_meta[\"budget\"],errors=\"coerce\")\n"
   ]
  },
  {
   "cell_type": "code",
   "execution_count": 21,
   "id": "83396a1b",
   "metadata": {},
   "outputs": [
    {
     "data": {
      "text/plain": [
       "0    30000000.0\n",
       "1    65000000.0\n",
       "2           0.0\n",
       "3    16000000.0\n",
       "4           0.0\n",
       "Name: budget, dtype: float64"
      ]
     },
     "execution_count": 21,
     "metadata": {},
     "output_type": "execute_result"
    }
   ],
   "source": [
    "# the 0 vallues have been converted to NaN\n",
    "df_meta[\"budget\"].head()"
   ]
  },
  {
   "cell_type": "code",
   "execution_count": 22,
   "id": "041dd935",
   "metadata": {},
   "outputs": [],
   "source": [
    "# we add a \"times_return\" column to calculate the revenue to budget ratio\n",
    "df_meta[\"times_return\"]=(df_meta[\"revenue\"]/df_meta[\"budget\"])"
   ]
  },
  {
   "cell_type": "code",
   "execution_count": 23,
   "id": "779de643",
   "metadata": {},
   "outputs": [
    {
     "data": {
      "text/plain": [
       "0        12.451801\n",
       "1         4.043035\n",
       "2              NaN\n",
       "3         5.090760\n",
       "4              inf\n",
       "           ...    \n",
       "45461          NaN\n",
       "45462          NaN\n",
       "45463          NaN\n",
       "45464          NaN\n",
       "45465          NaN\n",
       "Name: times_return, Length: 45466, dtype: float64"
      ]
     },
     "execution_count": 23,
     "metadata": {},
     "output_type": "execute_result"
    }
   ],
   "source": [
    "df_meta[\"times_return\"]"
   ]
  },
  {
   "cell_type": "code",
   "execution_count": 24,
   "id": "cf0b1370",
   "metadata": {},
   "outputs": [
    {
     "data": {
      "text/html": [
       "<div>\n",
       "<style scoped>\n",
       "    .dataframe tbody tr th:only-of-type {\n",
       "        vertical-align: middle;\n",
       "    }\n",
       "\n",
       "    .dataframe tbody tr th {\n",
       "        vertical-align: top;\n",
       "    }\n",
       "\n",
       "    .dataframe thead th {\n",
       "        text-align: right;\n",
       "    }\n",
       "</style>\n",
       "<table border=\"1\" class=\"dataframe\">\n",
       "  <thead>\n",
       "    <tr style=\"text-align: right;\">\n",
       "      <th></th>\n",
       "      <th>0</th>\n",
       "      <th>1</th>\n",
       "      <th>2</th>\n",
       "      <th>3</th>\n",
       "      <th>4</th>\n",
       "    </tr>\n",
       "  </thead>\n",
       "  <tbody>\n",
       "    <tr>\n",
       "      <th>adult</th>\n",
       "      <td>False</td>\n",
       "      <td>False</td>\n",
       "      <td>False</td>\n",
       "      <td>False</td>\n",
       "      <td>False</td>\n",
       "    </tr>\n",
       "    <tr>\n",
       "      <th>belongs_to_collection</th>\n",
       "      <td>{'id': 10194, 'name': 'Toy Story Collection', ...</td>\n",
       "      <td>NaN</td>\n",
       "      <td>{'id': 119050, 'name': 'Grumpy Old Men Collect...</td>\n",
       "      <td>NaN</td>\n",
       "      <td>{'id': 96871, 'name': 'Father of the Bride Col...</td>\n",
       "    </tr>\n",
       "    <tr>\n",
       "      <th>budget</th>\n",
       "      <td>30000000.0</td>\n",
       "      <td>65000000.0</td>\n",
       "      <td>0.0</td>\n",
       "      <td>16000000.0</td>\n",
       "      <td>0.0</td>\n",
       "    </tr>\n",
       "    <tr>\n",
       "      <th>genres</th>\n",
       "      <td>[{'id': 16, 'name': 'Animation'}, {'id': 35, '...</td>\n",
       "      <td>[{'id': 12, 'name': 'Adventure'}, {'id': 14, '...</td>\n",
       "      <td>[{'id': 10749, 'name': 'Romance'}, {'id': 35, ...</td>\n",
       "      <td>[{'id': 35, 'name': 'Comedy'}, {'id': 18, 'nam...</td>\n",
       "      <td>[{'id': 35, 'name': 'Comedy'}]</td>\n",
       "    </tr>\n",
       "    <tr>\n",
       "      <th>homepage</th>\n",
       "      <td>http://toystory.disney.com/toy-story</td>\n",
       "      <td>NaN</td>\n",
       "      <td>NaN</td>\n",
       "      <td>NaN</td>\n",
       "      <td>NaN</td>\n",
       "    </tr>\n",
       "    <tr>\n",
       "      <th>id</th>\n",
       "      <td>862</td>\n",
       "      <td>8844</td>\n",
       "      <td>15602</td>\n",
       "      <td>31357</td>\n",
       "      <td>11862</td>\n",
       "    </tr>\n",
       "    <tr>\n",
       "      <th>imdb_id</th>\n",
       "      <td>tt0114709</td>\n",
       "      <td>tt0113497</td>\n",
       "      <td>tt0113228</td>\n",
       "      <td>tt0114885</td>\n",
       "      <td>tt0113041</td>\n",
       "    </tr>\n",
       "    <tr>\n",
       "      <th>original_language</th>\n",
       "      <td>en</td>\n",
       "      <td>en</td>\n",
       "      <td>en</td>\n",
       "      <td>en</td>\n",
       "      <td>en</td>\n",
       "    </tr>\n",
       "    <tr>\n",
       "      <th>overview</th>\n",
       "      <td>Led by Woody, Andy's toys live happily in his ...</td>\n",
       "      <td>When siblings Judy and Peter discover an encha...</td>\n",
       "      <td>A family wedding reignites the ancient feud be...</td>\n",
       "      <td>Cheated on, mistreated and stepped on, the wom...</td>\n",
       "      <td>Just when George Banks has recovered from his ...</td>\n",
       "    </tr>\n",
       "    <tr>\n",
       "      <th>popularity</th>\n",
       "      <td>21.946943</td>\n",
       "      <td>17.015539</td>\n",
       "      <td>11.7129</td>\n",
       "      <td>3.859495</td>\n",
       "      <td>8.387519</td>\n",
       "    </tr>\n",
       "    <tr>\n",
       "      <th>poster_path</th>\n",
       "      <td>/rhIRbceoE9lR4veEXuwCC2wARtG.jpg</td>\n",
       "      <td>/vzmL6fP7aPKNKPRTFnZmiUfciyV.jpg</td>\n",
       "      <td>/6ksm1sjKMFLbO7UY2i6G1ju9SML.jpg</td>\n",
       "      <td>/16XOMpEaLWkrcPqSQqhTmeJuqQl.jpg</td>\n",
       "      <td>/e64sOI48hQXyru7naBFyssKFxVd.jpg</td>\n",
       "    </tr>\n",
       "    <tr>\n",
       "      <th>production_companies</th>\n",
       "      <td>[{'name': 'Pixar Animation Studios', 'id': 3}]</td>\n",
       "      <td>[{'name': 'TriStar Pictures', 'id': 559}, {'na...</td>\n",
       "      <td>[{'name': 'Warner Bros.', 'id': 6194}, {'name'...</td>\n",
       "      <td>[{'name': 'Twentieth Century Fox Film Corporat...</td>\n",
       "      <td>[{'name': 'Sandollar Productions', 'id': 5842}...</td>\n",
       "    </tr>\n",
       "    <tr>\n",
       "      <th>production_countries</th>\n",
       "      <td>[{'iso_3166_1': 'US', 'name': 'United States o...</td>\n",
       "      <td>[{'iso_3166_1': 'US', 'name': 'United States o...</td>\n",
       "      <td>[{'iso_3166_1': 'US', 'name': 'United States o...</td>\n",
       "      <td>[{'iso_3166_1': 'US', 'name': 'United States o...</td>\n",
       "      <td>[{'iso_3166_1': 'US', 'name': 'United States o...</td>\n",
       "    </tr>\n",
       "    <tr>\n",
       "      <th>release_date</th>\n",
       "      <td>1995-10-30</td>\n",
       "      <td>1995-12-15</td>\n",
       "      <td>1995-12-22</td>\n",
       "      <td>1995-12-22</td>\n",
       "      <td>1995-02-10</td>\n",
       "    </tr>\n",
       "    <tr>\n",
       "      <th>revenue</th>\n",
       "      <td>373554033.0</td>\n",
       "      <td>262797249.0</td>\n",
       "      <td>NaN</td>\n",
       "      <td>81452156.0</td>\n",
       "      <td>76578911.0</td>\n",
       "    </tr>\n",
       "    <tr>\n",
       "      <th>runtime</th>\n",
       "      <td>81.0</td>\n",
       "      <td>104.0</td>\n",
       "      <td>101.0</td>\n",
       "      <td>127.0</td>\n",
       "      <td>106.0</td>\n",
       "    </tr>\n",
       "    <tr>\n",
       "      <th>spoken_languages</th>\n",
       "      <td>[{'iso_639_1': 'en', 'name': 'English'}]</td>\n",
       "      <td>[{'iso_639_1': 'en', 'name': 'English'}, {'iso...</td>\n",
       "      <td>[{'iso_639_1': 'en', 'name': 'English'}]</td>\n",
       "      <td>[{'iso_639_1': 'en', 'name': 'English'}]</td>\n",
       "      <td>[{'iso_639_1': 'en', 'name': 'English'}]</td>\n",
       "    </tr>\n",
       "    <tr>\n",
       "      <th>status</th>\n",
       "      <td>Released</td>\n",
       "      <td>Released</td>\n",
       "      <td>Released</td>\n",
       "      <td>Released</td>\n",
       "      <td>Released</td>\n",
       "    </tr>\n",
       "    <tr>\n",
       "      <th>tagline</th>\n",
       "      <td>NaN</td>\n",
       "      <td>Roll the dice and unleash the excitement!</td>\n",
       "      <td>Still Yelling. Still Fighting. Still Ready for...</td>\n",
       "      <td>Friends are the people who let you be yourself...</td>\n",
       "      <td>Just When His World Is Back To Normal... He's ...</td>\n",
       "    </tr>\n",
       "    <tr>\n",
       "      <th>title</th>\n",
       "      <td>Toy Story</td>\n",
       "      <td>Jumanji</td>\n",
       "      <td>Grumpier Old Men</td>\n",
       "      <td>Waiting to Exhale</td>\n",
       "      <td>Father of the Bride Part II</td>\n",
       "    </tr>\n",
       "    <tr>\n",
       "      <th>video</th>\n",
       "      <td>False</td>\n",
       "      <td>False</td>\n",
       "      <td>False</td>\n",
       "      <td>False</td>\n",
       "      <td>False</td>\n",
       "    </tr>\n",
       "    <tr>\n",
       "      <th>vote_average</th>\n",
       "      <td>7.7</td>\n",
       "      <td>6.9</td>\n",
       "      <td>6.5</td>\n",
       "      <td>6.1</td>\n",
       "      <td>5.7</td>\n",
       "    </tr>\n",
       "    <tr>\n",
       "      <th>vote_count</th>\n",
       "      <td>5415.0</td>\n",
       "      <td>2413.0</td>\n",
       "      <td>92.0</td>\n",
       "      <td>34.0</td>\n",
       "      <td>173.0</td>\n",
       "    </tr>\n",
       "    <tr>\n",
       "      <th>times_return</th>\n",
       "      <td>12.451801</td>\n",
       "      <td>4.043035</td>\n",
       "      <td>NaN</td>\n",
       "      <td>5.09076</td>\n",
       "      <td>inf</td>\n",
       "    </tr>\n",
       "  </tbody>\n",
       "</table>\n",
       "</div>"
      ],
      "text/plain": [
       "                                                                       0  \\\n",
       "adult                                                              False   \n",
       "belongs_to_collection  {'id': 10194, 'name': 'Toy Story Collection', ...   \n",
       "budget                                                        30000000.0   \n",
       "genres                 [{'id': 16, 'name': 'Animation'}, {'id': 35, '...   \n",
       "homepage                            http://toystory.disney.com/toy-story   \n",
       "id                                                                   862   \n",
       "imdb_id                                                        tt0114709   \n",
       "original_language                                                     en   \n",
       "overview               Led by Woody, Andy's toys live happily in his ...   \n",
       "popularity                                                     21.946943   \n",
       "poster_path                             /rhIRbceoE9lR4veEXuwCC2wARtG.jpg   \n",
       "production_companies      [{'name': 'Pixar Animation Studios', 'id': 3}]   \n",
       "production_countries   [{'iso_3166_1': 'US', 'name': 'United States o...   \n",
       "release_date                                                  1995-10-30   \n",
       "revenue                                                      373554033.0   \n",
       "runtime                                                             81.0   \n",
       "spoken_languages                [{'iso_639_1': 'en', 'name': 'English'}]   \n",
       "status                                                          Released   \n",
       "tagline                                                              NaN   \n",
       "title                                                          Toy Story   \n",
       "video                                                              False   \n",
       "vote_average                                                         7.7   \n",
       "vote_count                                                        5415.0   \n",
       "times_return                                                   12.451801   \n",
       "\n",
       "                                                                       1  \\\n",
       "adult                                                              False   \n",
       "belongs_to_collection                                                NaN   \n",
       "budget                                                        65000000.0   \n",
       "genres                 [{'id': 12, 'name': 'Adventure'}, {'id': 14, '...   \n",
       "homepage                                                             NaN   \n",
       "id                                                                  8844   \n",
       "imdb_id                                                        tt0113497   \n",
       "original_language                                                     en   \n",
       "overview               When siblings Judy and Peter discover an encha...   \n",
       "popularity                                                     17.015539   \n",
       "poster_path                             /vzmL6fP7aPKNKPRTFnZmiUfciyV.jpg   \n",
       "production_companies   [{'name': 'TriStar Pictures', 'id': 559}, {'na...   \n",
       "production_countries   [{'iso_3166_1': 'US', 'name': 'United States o...   \n",
       "release_date                                                  1995-12-15   \n",
       "revenue                                                      262797249.0   \n",
       "runtime                                                            104.0   \n",
       "spoken_languages       [{'iso_639_1': 'en', 'name': 'English'}, {'iso...   \n",
       "status                                                          Released   \n",
       "tagline                        Roll the dice and unleash the excitement!   \n",
       "title                                                            Jumanji   \n",
       "video                                                              False   \n",
       "vote_average                                                         6.9   \n",
       "vote_count                                                        2413.0   \n",
       "times_return                                                    4.043035   \n",
       "\n",
       "                                                                       2  \\\n",
       "adult                                                              False   \n",
       "belongs_to_collection  {'id': 119050, 'name': 'Grumpy Old Men Collect...   \n",
       "budget                                                               0.0   \n",
       "genres                 [{'id': 10749, 'name': 'Romance'}, {'id': 35, ...   \n",
       "homepage                                                             NaN   \n",
       "id                                                                 15602   \n",
       "imdb_id                                                        tt0113228   \n",
       "original_language                                                     en   \n",
       "overview               A family wedding reignites the ancient feud be...   \n",
       "popularity                                                       11.7129   \n",
       "poster_path                             /6ksm1sjKMFLbO7UY2i6G1ju9SML.jpg   \n",
       "production_companies   [{'name': 'Warner Bros.', 'id': 6194}, {'name'...   \n",
       "production_countries   [{'iso_3166_1': 'US', 'name': 'United States o...   \n",
       "release_date                                                  1995-12-22   \n",
       "revenue                                                              NaN   \n",
       "runtime                                                            101.0   \n",
       "spoken_languages                [{'iso_639_1': 'en', 'name': 'English'}]   \n",
       "status                                                          Released   \n",
       "tagline                Still Yelling. Still Fighting. Still Ready for...   \n",
       "title                                                   Grumpier Old Men   \n",
       "video                                                              False   \n",
       "vote_average                                                         6.5   \n",
       "vote_count                                                          92.0   \n",
       "times_return                                                         NaN   \n",
       "\n",
       "                                                                       3  \\\n",
       "adult                                                              False   \n",
       "belongs_to_collection                                                NaN   \n",
       "budget                                                        16000000.0   \n",
       "genres                 [{'id': 35, 'name': 'Comedy'}, {'id': 18, 'nam...   \n",
       "homepage                                                             NaN   \n",
       "id                                                                 31357   \n",
       "imdb_id                                                        tt0114885   \n",
       "original_language                                                     en   \n",
       "overview               Cheated on, mistreated and stepped on, the wom...   \n",
       "popularity                                                      3.859495   \n",
       "poster_path                             /16XOMpEaLWkrcPqSQqhTmeJuqQl.jpg   \n",
       "production_companies   [{'name': 'Twentieth Century Fox Film Corporat...   \n",
       "production_countries   [{'iso_3166_1': 'US', 'name': 'United States o...   \n",
       "release_date                                                  1995-12-22   \n",
       "revenue                                                       81452156.0   \n",
       "runtime                                                            127.0   \n",
       "spoken_languages                [{'iso_639_1': 'en', 'name': 'English'}]   \n",
       "status                                                          Released   \n",
       "tagline                Friends are the people who let you be yourself...   \n",
       "title                                                  Waiting to Exhale   \n",
       "video                                                              False   \n",
       "vote_average                                                         6.1   \n",
       "vote_count                                                          34.0   \n",
       "times_return                                                     5.09076   \n",
       "\n",
       "                                                                       4  \n",
       "adult                                                              False  \n",
       "belongs_to_collection  {'id': 96871, 'name': 'Father of the Bride Col...  \n",
       "budget                                                               0.0  \n",
       "genres                                    [{'id': 35, 'name': 'Comedy'}]  \n",
       "homepage                                                             NaN  \n",
       "id                                                                 11862  \n",
       "imdb_id                                                        tt0113041  \n",
       "original_language                                                     en  \n",
       "overview               Just when George Banks has recovered from his ...  \n",
       "popularity                                                      8.387519  \n",
       "poster_path                             /e64sOI48hQXyru7naBFyssKFxVd.jpg  \n",
       "production_companies   [{'name': 'Sandollar Productions', 'id': 5842}...  \n",
       "production_countries   [{'iso_3166_1': 'US', 'name': 'United States o...  \n",
       "release_date                                                  1995-02-10  \n",
       "revenue                                                       76578911.0  \n",
       "runtime                                                            106.0  \n",
       "spoken_languages                [{'iso_639_1': 'en', 'name': 'English'}]  \n",
       "status                                                          Released  \n",
       "tagline                Just When His World Is Back To Normal... He's ...  \n",
       "title                                        Father of the Bride Part II  \n",
       "video                                                              False  \n",
       "vote_average                                                         5.7  \n",
       "vote_count                                                         173.0  \n",
       "times_return                                                         inf  "
      ]
     },
     "execution_count": 24,
     "metadata": {},
     "output_type": "execute_result"
    }
   ],
   "source": [
    "df_meta.head().transpose()"
   ]
  },
  {
   "cell_type": "code",
   "execution_count": null,
   "id": "56dfcd68",
   "metadata": {},
   "outputs": [],
   "source": []
  },
  {
   "cell_type": "code",
   "execution_count": null,
   "id": "4ec416bd",
   "metadata": {},
   "outputs": [],
   "source": []
  },
  {
   "cell_type": "code",
   "execution_count": 25,
   "id": "062d4082",
   "metadata": {},
   "outputs": [],
   "source": [
    "\n",
    "############################################################################################ PRODUCTION COUNTRIES ##############\n",
    "#to find out which are the countries where the highest number of movies are produced \n"
   ]
  },
  {
   "cell_type": "code",
   "execution_count": 26,
   "id": "dd1417dd",
   "metadata": {},
   "outputs": [],
   "source": [
    "# to see what an entry looks like in the dataset\n",
    "test_lis=df_meta[\"production_countries\"][23401]"
   ]
  },
  {
   "cell_type": "code",
   "execution_count": 27,
   "id": "d7010ce6",
   "metadata": {},
   "outputs": [],
   "source": [
    "# relpacing the NaN values using \"[]\" so that we can apply the ast.literal eval function\n",
    "df_meta[\"production_countries\"]=df_meta[\"production_countries\"].replace(np.nan,\"[]\")"
   ]
  },
  {
   "cell_type": "code",
   "execution_count": 28,
   "id": "0ed5a4e4",
   "metadata": {},
   "outputs": [
    {
     "data": {
      "text/html": [
       "<div>\n",
       "<style scoped>\n",
       "    .dataframe tbody tr th:only-of-type {\n",
       "        vertical-align: middle;\n",
       "    }\n",
       "\n",
       "    .dataframe tbody tr th {\n",
       "        vertical-align: top;\n",
       "    }\n",
       "\n",
       "    .dataframe thead th {\n",
       "        text-align: right;\n",
       "    }\n",
       "</style>\n",
       "<table border=\"1\" class=\"dataframe\">\n",
       "  <thead>\n",
       "    <tr style=\"text-align: right;\">\n",
       "      <th></th>\n",
       "      <th>adult</th>\n",
       "      <th>belongs_to_collection</th>\n",
       "      <th>budget</th>\n",
       "      <th>genres</th>\n",
       "      <th>homepage</th>\n",
       "      <th>id</th>\n",
       "      <th>imdb_id</th>\n",
       "      <th>original_language</th>\n",
       "      <th>overview</th>\n",
       "      <th>popularity</th>\n",
       "      <th>...</th>\n",
       "      <th>revenue</th>\n",
       "      <th>runtime</th>\n",
       "      <th>spoken_languages</th>\n",
       "      <th>status</th>\n",
       "      <th>tagline</th>\n",
       "      <th>title</th>\n",
       "      <th>video</th>\n",
       "      <th>vote_average</th>\n",
       "      <th>vote_count</th>\n",
       "      <th>times_return</th>\n",
       "    </tr>\n",
       "  </thead>\n",
       "  <tbody>\n",
       "  </tbody>\n",
       "</table>\n",
       "<p>0 rows × 24 columns</p>\n",
       "</div>"
      ],
      "text/plain": [
       "Empty DataFrame\n",
       "Columns: [adult, belongs_to_collection, budget, genres, homepage, id, imdb_id, original_language, overview, popularity, poster_path, production_companies, production_countries, release_date, revenue, runtime, spoken_languages, status, tagline, title, video, vote_average, vote_count, times_return]\n",
       "Index: []\n",
       "\n",
       "[0 rows x 24 columns]"
      ]
     },
     "execution_count": 28,
     "metadata": {},
     "output_type": "execute_result"
    }
   ],
   "source": [
    "df_meta[df_meta[\"production_countries\"].isna()==True]"
   ]
  },
  {
   "cell_type": "code",
   "execution_count": 29,
   "id": "9df4b1d0",
   "metadata": {},
   "outputs": [
    {
     "data": {
      "text/plain": [
       "False"
      ]
     },
     "execution_count": 29,
     "metadata": {},
     "output_type": "execute_result"
    }
   ],
   "source": [
    "# isinstance method returns a boolean value \n",
    "isinstance(df_meta[\"production_countries\"][0],list)"
   ]
  },
  {
   "cell_type": "code",
   "execution_count": 30,
   "id": "007f6027",
   "metadata": {},
   "outputs": [],
   "source": [
    "df_meta[\"production_countries\"]=df_meta['production_countries'].apply(ast.literal_eval)"
   ]
  },
  {
   "cell_type": "code",
   "execution_count": 31,
   "id": "86f0f64e",
   "metadata": {},
   "outputs": [],
   "source": [
    "# this con to list function helps extract the names of countries of movies where they were produced\n",
    "# we get all the countries and make a new colum out of it called as \"only_prod_country9\"\n",
    "def con_to_lis(x):\n",
    "    if isinstance(x,list)==True:\n",
    "        return [i[\"name\"] for i in x]\n",
    "    else:\n",
    "        return []\n",
    "        \n",
    "df_meta[\"only_prod_country\"]=df_meta[\"production_countries\"].apply(con_to_lis)\n"
   ]
  },
  {
   "cell_type": "code",
   "execution_count": 32,
   "id": "81fe85c7",
   "metadata": {},
   "outputs": [
    {
     "data": {
      "text/plain": [
       "True"
      ]
     },
     "execution_count": 32,
     "metadata": {},
     "output_type": "execute_result"
    }
   ],
   "source": [
    "isinstance(df_meta[\"production_countries\"][123],list)"
   ]
  },
  {
   "cell_type": "code",
   "execution_count": 33,
   "id": "03bbdc51",
   "metadata": {},
   "outputs": [
    {
     "data": {
      "text/plain": [
       "0    [United States of America]\n",
       "1    [United States of America]\n",
       "2    [United States of America]\n",
       "3    [United States of America]\n",
       "4    [United States of America]\n",
       "Name: only_prod_country, dtype: object"
      ]
     },
     "execution_count": 33,
     "metadata": {},
     "output_type": "execute_result"
    }
   ],
   "source": [
    "df_meta[\"only_prod_country\"].head()"
   ]
  },
  {
   "cell_type": "code",
   "execution_count": 34,
   "id": "eb4b1446",
   "metadata": {},
   "outputs": [],
   "source": [
    "# \"all_country_counts\" is a dictionary that keeps a count of how many times a country has appeared in the dataset \n",
    "all_country_counts={}\n",
    "\n",
    "def country_counter(x):\n",
    "    for i in x:\n",
    "        if i not in all_country_counts:\n",
    "            all_country_counts[i]=1\n",
    "        elif i in all_country_counts:\n",
    "            all_country_counts[i]=all_country_counts[i]+1\n",
    "\n",
    "    "
   ]
  },
  {
   "cell_type": "code",
   "execution_count": 35,
   "id": "91b12a8e",
   "metadata": {},
   "outputs": [
    {
     "data": {
      "text/plain": [
       "0        None\n",
       "1        None\n",
       "2        None\n",
       "3        None\n",
       "4        None\n",
       "         ... \n",
       "45461    None\n",
       "45462    None\n",
       "45463    None\n",
       "45464    None\n",
       "45465    None\n",
       "Name: only_prod_country, Length: 45466, dtype: object"
      ]
     },
     "execution_count": 35,
     "metadata": {},
     "output_type": "execute_result"
    }
   ],
   "source": [
    "df_meta[\"only_prod_country\"].apply(country_counter)"
   ]
  },
  {
   "cell_type": "code",
   "execution_count": null,
   "id": "80e0b217",
   "metadata": {},
   "outputs": [],
   "source": []
  },
  {
   "cell_type": "code",
   "execution_count": 36,
   "id": "7ec59369",
   "metadata": {},
   "outputs": [],
   "source": [
    "# we are creating a new dataframe called \"countries\" where we have the countries and their counts\n",
    "countries=pd.DataFrame.from_dict(all_country_counts.items())"
   ]
  },
  {
   "cell_type": "code",
   "execution_count": 37,
   "id": "0fe65f20",
   "metadata": {},
   "outputs": [],
   "source": [
    "countries.rename(columns={0:\"country_name\",1:\"number_of_movies\"},inplace=True)"
   ]
  },
  {
   "cell_type": "code",
   "execution_count": 38,
   "id": "7196b099",
   "metadata": {},
   "outputs": [],
   "source": [
    "# sorting the \"countries\" dataframe by the count in decending order\n",
    "countries=countries.sort_values(by=[\"number_of_movies\"],ascending=False)\n",
    "\n",
    "# these are the top 10 countries in the \"countries\" dataframe\n",
    "t10_countries=countries.head(10)"
   ]
  },
  {
   "cell_type": "code",
   "execution_count": 39,
   "id": "03af6e35",
   "metadata": {},
   "outputs": [
    {
     "data": {
      "text/plain": [
       "<AxesSubplot:xlabel='country_name', ylabel='number_of_movies'>"
      ]
     },
     "execution_count": 39,
     "metadata": {},
     "output_type": "execute_result"
    },
    {
     "data": {
      "image/png": "[encoded data removed]",
      "text/plain": [
       "<Figure size 1368x360 with 1 Axes>"
      ]
     },
     "metadata": {
      "needs_background": "light"
     },
     "output_type": "display_data"
    }
   ],
   "source": [
    "# plotting the \"t10_countries\"\n",
    "fig_dims=(19,5)\n",
    "fig,ax=plt.subplots(figsize=fig_dims)\n",
    "sns.barplot(data=t10_countries,x=t10_countries[\"country_name\"],y=t10_countries[\"number_of_movies\"])"
   ]
  },
  {
   "cell_type": "code",
   "execution_count": null,
   "id": "d12b7f27",
   "metadata": {},
   "outputs": [],
   "source": []
  },
  {
   "cell_type": "code",
   "execution_count": 40,
   "id": "09ed5999",
   "metadata": {},
   "outputs": [],
   "source": [
    "################### we can also draw a world map regarding were all the movies are produced #####################\n"
   ]
  },
  {
   "cell_type": "code",
   "execution_count": 41,
   "id": "ea41c669",
   "metadata": {},
   "outputs": [],
   "source": [
    "\n",
    "############################################################################################ FRANCHISE MOVIES ##################"
   ]
  },
  {
   "cell_type": "code",
   "execution_count": 42,
   "id": "b25441b5",
   "metadata": {},
   "outputs": [],
   "source": [
    "# selecting all the rows where the franchise is not null and making a new dataframe called \"franchise\"\n",
    "franchise=df_meta[df_meta[\"belongs_to_collection\"].notnull()]"
   ]
  },
  {
   "cell_type": "code",
   "execution_count": 43,
   "id": "bc0e9c26",
   "metadata": {},
   "outputs": [
    {
     "name": "stderr",
     "output_type": "stream",
     "text": [
      "<ipython-input-43-b7da4d98ff3b>:2: SettingWithCopyWarning: \n",
      "A value is trying to be set on a copy of a slice from a DataFrame.\n",
      "Try using .loc[row_indexer,col_indexer] = value instead\n",
      "\n",
      "See the caveats in the documentation: https://pandas.pydata.org/pandas-docs/stable/user_guide/indexing.html#returning-a-view-versus-a-copy\n",
      "  franchise[\"belongs_to_collection\"]=franchise[\"belongs_to_collection\"].apply(ast.literal_eval).apply(lambda x: x[\"name\"] if isinstance(x,dict) else np.nan)\n"
     ]
    }
   ],
   "source": [
    "# in this step we apply ast.literal_eval to \"belongs to collection\" column and get the franchise name is it is there else return np.nan\n",
    "franchise[\"belongs_to_collection\"]=franchise[\"belongs_to_collection\"].apply(ast.literal_eval).apply(lambda x: x[\"name\"] if isinstance(x,dict) else np.nan)"
   ]
  },
  {
   "cell_type": "code",
   "execution_count": 44,
   "id": "d14ac06c",
   "metadata": {},
   "outputs": [],
   "source": [
    "franchise=franchise[franchise[\"belongs_to_collection\"].notnull()]"
   ]
  },
  {
   "cell_type": "code",
   "execution_count": 45,
   "id": "983d6d5f",
   "metadata": {},
   "outputs": [
    {
     "data": {
      "text/html": [
       "<div>\n",
       "<style scoped>\n",
       "    .dataframe tbody tr th:only-of-type {\n",
       "        vertical-align: middle;\n",
       "    }\n",
       "\n",
       "    .dataframe tbody tr th {\n",
       "        vertical-align: top;\n",
       "    }\n",
       "\n",
       "    .dataframe thead th {\n",
       "        text-align: right;\n",
       "    }\n",
       "</style>\n",
       "<table border=\"1\" class=\"dataframe\">\n",
       "  <thead>\n",
       "    <tr style=\"text-align: right;\">\n",
       "      <th></th>\n",
       "      <th>0</th>\n",
       "      <th>2</th>\n",
       "      <th>4</th>\n",
       "    </tr>\n",
       "  </thead>\n",
       "  <tbody>\n",
       "    <tr>\n",
       "      <th>adult</th>\n",
       "      <td>False</td>\n",
       "      <td>False</td>\n",
       "      <td>False</td>\n",
       "    </tr>\n",
       "    <tr>\n",
       "      <th>belongs_to_collection</th>\n",
       "      <td>Toy Story Collection</td>\n",
       "      <td>Grumpy Old Men Collection</td>\n",
       "      <td>Father of the Bride Collection</td>\n",
       "    </tr>\n",
       "    <tr>\n",
       "      <th>budget</th>\n",
       "      <td>30000000.0</td>\n",
       "      <td>0.0</td>\n",
       "      <td>0.0</td>\n",
       "    </tr>\n",
       "    <tr>\n",
       "      <th>genres</th>\n",
       "      <td>[{'id': 16, 'name': 'Animation'}, {'id': 35, '...</td>\n",
       "      <td>[{'id': 10749, 'name': 'Romance'}, {'id': 35, ...</td>\n",
       "      <td>[{'id': 35, 'name': 'Comedy'}]</td>\n",
       "    </tr>\n",
       "    <tr>\n",
       "      <th>homepage</th>\n",
       "      <td>http://toystory.disney.com/toy-story</td>\n",
       "      <td>NaN</td>\n",
       "      <td>NaN</td>\n",
       "    </tr>\n",
       "    <tr>\n",
       "      <th>id</th>\n",
       "      <td>862</td>\n",
       "      <td>15602</td>\n",
       "      <td>11862</td>\n",
       "    </tr>\n",
       "    <tr>\n",
       "      <th>imdb_id</th>\n",
       "      <td>tt0114709</td>\n",
       "      <td>tt0113228</td>\n",
       "      <td>tt0113041</td>\n",
       "    </tr>\n",
       "    <tr>\n",
       "      <th>original_language</th>\n",
       "      <td>en</td>\n",
       "      <td>en</td>\n",
       "      <td>en</td>\n",
       "    </tr>\n",
       "    <tr>\n",
       "      <th>overview</th>\n",
       "      <td>Led by Woody, Andy's toys live happily in his ...</td>\n",
       "      <td>A family wedding reignites the ancient feud be...</td>\n",
       "      <td>Just when George Banks has recovered from his ...</td>\n",
       "    </tr>\n",
       "    <tr>\n",
       "      <th>popularity</th>\n",
       "      <td>21.946943</td>\n",
       "      <td>11.7129</td>\n",
       "      <td>8.387519</td>\n",
       "    </tr>\n",
       "    <tr>\n",
       "      <th>poster_path</th>\n",
       "      <td>/rhIRbceoE9lR4veEXuwCC2wARtG.jpg</td>\n",
       "      <td>/6ksm1sjKMFLbO7UY2i6G1ju9SML.jpg</td>\n",
       "      <td>/e64sOI48hQXyru7naBFyssKFxVd.jpg</td>\n",
       "    </tr>\n",
       "    <tr>\n",
       "      <th>production_companies</th>\n",
       "      <td>[{'name': 'Pixar Animation Studios', 'id': 3}]</td>\n",
       "      <td>[{'name': 'Warner Bros.', 'id': 6194}, {'name'...</td>\n",
       "      <td>[{'name': 'Sandollar Productions', 'id': 5842}...</td>\n",
       "    </tr>\n",
       "    <tr>\n",
       "      <th>production_countries</th>\n",
       "      <td>[{'iso_3166_1': 'US', 'name': 'United States o...</td>\n",
       "      <td>[{'iso_3166_1': 'US', 'name': 'United States o...</td>\n",
       "      <td>[{'iso_3166_1': 'US', 'name': 'United States o...</td>\n",
       "    </tr>\n",
       "    <tr>\n",
       "      <th>release_date</th>\n",
       "      <td>1995-10-30</td>\n",
       "      <td>1995-12-22</td>\n",
       "      <td>1995-02-10</td>\n",
       "    </tr>\n",
       "    <tr>\n",
       "      <th>revenue</th>\n",
       "      <td>373554033.0</td>\n",
       "      <td>NaN</td>\n",
       "      <td>76578911.0</td>\n",
       "    </tr>\n",
       "    <tr>\n",
       "      <th>runtime</th>\n",
       "      <td>81.0</td>\n",
       "      <td>101.0</td>\n",
       "      <td>106.0</td>\n",
       "    </tr>\n",
       "    <tr>\n",
       "      <th>spoken_languages</th>\n",
       "      <td>[{'iso_639_1': 'en', 'name': 'English'}]</td>\n",
       "      <td>[{'iso_639_1': 'en', 'name': 'English'}]</td>\n",
       "      <td>[{'iso_639_1': 'en', 'name': 'English'}]</td>\n",
       "    </tr>\n",
       "    <tr>\n",
       "      <th>status</th>\n",
       "      <td>Released</td>\n",
       "      <td>Released</td>\n",
       "      <td>Released</td>\n",
       "    </tr>\n",
       "    <tr>\n",
       "      <th>tagline</th>\n",
       "      <td>NaN</td>\n",
       "      <td>Still Yelling. Still Fighting. Still Ready for...</td>\n",
       "      <td>Just When His World Is Back To Normal... He's ...</td>\n",
       "    </tr>\n",
       "    <tr>\n",
       "      <th>title</th>\n",
       "      <td>Toy Story</td>\n",
       "      <td>Grumpier Old Men</td>\n",
       "      <td>Father of the Bride Part II</td>\n",
       "    </tr>\n",
       "    <tr>\n",
       "      <th>video</th>\n",
       "      <td>False</td>\n",
       "      <td>False</td>\n",
       "      <td>False</td>\n",
       "    </tr>\n",
       "    <tr>\n",
       "      <th>vote_average</th>\n",
       "      <td>7.7</td>\n",
       "      <td>6.5</td>\n",
       "      <td>5.7</td>\n",
       "    </tr>\n",
       "    <tr>\n",
       "      <th>vote_count</th>\n",
       "      <td>5415.0</td>\n",
       "      <td>92.0</td>\n",
       "      <td>173.0</td>\n",
       "    </tr>\n",
       "    <tr>\n",
       "      <th>times_return</th>\n",
       "      <td>12.451801</td>\n",
       "      <td>NaN</td>\n",
       "      <td>inf</td>\n",
       "    </tr>\n",
       "    <tr>\n",
       "      <th>only_prod_country</th>\n",
       "      <td>[United States of America]</td>\n",
       "      <td>[United States of America]</td>\n",
       "      <td>[United States of America]</td>\n",
       "    </tr>\n",
       "  </tbody>\n",
       "</table>\n",
       "</div>"
      ],
      "text/plain": [
       "                                                                       0  \\\n",
       "adult                                                              False   \n",
       "belongs_to_collection                               Toy Story Collection   \n",
       "budget                                                        30000000.0   \n",
       "genres                 [{'id': 16, 'name': 'Animation'}, {'id': 35, '...   \n",
       "homepage                            http://toystory.disney.com/toy-story   \n",
       "id                                                                   862   \n",
       "imdb_id                                                        tt0114709   \n",
       "original_language                                                     en   \n",
       "overview               Led by Woody, Andy's toys live happily in his ...   \n",
       "popularity                                                     21.946943   \n",
       "poster_path                             /rhIRbceoE9lR4veEXuwCC2wARtG.jpg   \n",
       "production_companies      [{'name': 'Pixar Animation Studios', 'id': 3}]   \n",
       "production_countries   [{'iso_3166_1': 'US', 'name': 'United States o...   \n",
       "release_date                                                  1995-10-30   \n",
       "revenue                                                      373554033.0   \n",
       "runtime                                                             81.0   \n",
       "spoken_languages                [{'iso_639_1': 'en', 'name': 'English'}]   \n",
       "status                                                          Released   \n",
       "tagline                                                              NaN   \n",
       "title                                                          Toy Story   \n",
       "video                                                              False   \n",
       "vote_average                                                         7.7   \n",
       "vote_count                                                        5415.0   \n",
       "times_return                                                   12.451801   \n",
       "only_prod_country                             [United States of America]   \n",
       "\n",
       "                                                                       2  \\\n",
       "adult                                                              False   \n",
       "belongs_to_collection                          Grumpy Old Men Collection   \n",
       "budget                                                               0.0   \n",
       "genres                 [{'id': 10749, 'name': 'Romance'}, {'id': 35, ...   \n",
       "homepage                                                             NaN   \n",
       "id                                                                 15602   \n",
       "imdb_id                                                        tt0113228   \n",
       "original_language                                                     en   \n",
       "overview               A family wedding reignites the ancient feud be...   \n",
       "popularity                                                       11.7129   \n",
       "poster_path                             /6ksm1sjKMFLbO7UY2i6G1ju9SML.jpg   \n",
       "production_companies   [{'name': 'Warner Bros.', 'id': 6194}, {'name'...   \n",
       "production_countries   [{'iso_3166_1': 'US', 'name': 'United States o...   \n",
       "release_date                                                  1995-12-22   \n",
       "revenue                                                              NaN   \n",
       "runtime                                                            101.0   \n",
       "spoken_languages                [{'iso_639_1': 'en', 'name': 'English'}]   \n",
       "status                                                          Released   \n",
       "tagline                Still Yelling. Still Fighting. Still Ready for...   \n",
       "title                                                   Grumpier Old Men   \n",
       "video                                                              False   \n",
       "vote_average                                                         6.5   \n",
       "vote_count                                                          92.0   \n",
       "times_return                                                         NaN   \n",
       "only_prod_country                             [United States of America]   \n",
       "\n",
       "                                                                       4  \n",
       "adult                                                              False  \n",
       "belongs_to_collection                     Father of the Bride Collection  \n",
       "budget                                                               0.0  \n",
       "genres                                    [{'id': 35, 'name': 'Comedy'}]  \n",
       "homepage                                                             NaN  \n",
       "id                                                                 11862  \n",
       "imdb_id                                                        tt0113041  \n",
       "original_language                                                     en  \n",
       "overview               Just when George Banks has recovered from his ...  \n",
       "popularity                                                      8.387519  \n",
       "poster_path                             /e64sOI48hQXyru7naBFyssKFxVd.jpg  \n",
       "production_companies   [{'name': 'Sandollar Productions', 'id': 5842}...  \n",
       "production_countries   [{'iso_3166_1': 'US', 'name': 'United States o...  \n",
       "release_date                                                  1995-02-10  \n",
       "revenue                                                       76578911.0  \n",
       "runtime                                                            106.0  \n",
       "spoken_languages                [{'iso_639_1': 'en', 'name': 'English'}]  \n",
       "status                                                          Released  \n",
       "tagline                Just When His World Is Back To Normal... He's ...  \n",
       "title                                        Father of the Bride Part II  \n",
       "video                                                              False  \n",
       "vote_average                                                         5.7  \n",
       "vote_count                                                         173.0  \n",
       "times_return                                                         inf  \n",
       "only_prod_country                             [United States of America]  "
      ]
     },
     "execution_count": 45,
     "metadata": {},
     "output_type": "execute_result"
    }
   ],
   "source": [
    "franchise.head(3).transpose()"
   ]
  },
  {
   "cell_type": "code",
   "execution_count": 46,
   "id": "c8c361c7",
   "metadata": {},
   "outputs": [],
   "source": [
    "# we sorted the franchise df using the revenue column in descending order\n",
    "franchise=franchise.sort_values(\"revenue\",ascending=False)\n",
    "\n",
    "# we can analyse the highest grossing collecctions and their mean sum and count\n",
    "# also we can create charts if needed for the same\n"
   ]
  },
  {
   "cell_type": "code",
   "execution_count": null,
   "id": "9f4fd546",
   "metadata": {},
   "outputs": [],
   "source": []
  },
  {
   "cell_type": "code",
   "execution_count": 47,
   "id": "cf042731",
   "metadata": {},
   "outputs": [
    {
     "data": {
      "text/html": [
       "<div>\n",
       "<style scoped>\n",
       "    .dataframe tbody tr th:only-of-type {\n",
       "        vertical-align: middle;\n",
       "    }\n",
       "\n",
       "    .dataframe tbody tr th {\n",
       "        vertical-align: top;\n",
       "    }\n",
       "\n",
       "    .dataframe thead th {\n",
       "        text-align: right;\n",
       "    }\n",
       "</style>\n",
       "<table border=\"1\" class=\"dataframe\">\n",
       "  <thead>\n",
       "    <tr style=\"text-align: right;\">\n",
       "      <th></th>\n",
       "      <th>revenue</th>\n",
       "    </tr>\n",
       "    <tr>\n",
       "      <th>belongs_to_collection</th>\n",
       "      <th></th>\n",
       "    </tr>\n",
       "  </thead>\n",
       "  <tbody>\n",
       "    <tr>\n",
       "      <th>Avatar Collection</th>\n",
       "      <td>2.787965e+09</td>\n",
       "    </tr>\n",
       "    <tr>\n",
       "      <th>The Avengers Collection</th>\n",
       "      <td>1.462481e+09</td>\n",
       "    </tr>\n",
       "    <tr>\n",
       "      <th>Frozen Collection</th>\n",
       "      <td>1.274219e+09</td>\n",
       "    </tr>\n",
       "    <tr>\n",
       "      <th>Finding Nemo Collection</th>\n",
       "      <td>9.844532e+08</td>\n",
       "    </tr>\n",
       "    <tr>\n",
       "      <th>The Hobbit Collection</th>\n",
       "      <td>9.785078e+08</td>\n",
       "    </tr>\n",
       "    <tr>\n",
       "      <th>The Lord of the Rings Collection</th>\n",
       "      <td>9.721816e+08</td>\n",
       "    </tr>\n",
       "    <tr>\n",
       "      <th>Harry Potter Collection</th>\n",
       "      <td>9.634209e+08</td>\n",
       "    </tr>\n",
       "    <tr>\n",
       "      <th>Star Wars Collection</th>\n",
       "      <td>9.293118e+08</td>\n",
       "    </tr>\n",
       "    <tr>\n",
       "      <th>Despicable Me Collection</th>\n",
       "      <td>9.227676e+08</td>\n",
       "    </tr>\n",
       "    <tr>\n",
       "      <th>Pirates of the Caribbean Collection</th>\n",
       "      <td>9.043154e+08</td>\n",
       "    </tr>\n",
       "  </tbody>\n",
       "</table>\n",
       "</div>"
      ],
      "text/plain": [
       "                                          revenue\n",
       "belongs_to_collection                            \n",
       "Avatar Collection                    2.787965e+09\n",
       "The Avengers Collection              1.462481e+09\n",
       "Frozen Collection                    1.274219e+09\n",
       "Finding Nemo Collection              9.844532e+08\n",
       "The Hobbit Collection                9.785078e+08\n",
       "The Lord of the Rings Collection     9.721816e+08\n",
       "Harry Potter Collection              9.634209e+08\n",
       "Star Wars Collection                 9.293118e+08\n",
       "Despicable Me Collection             9.227676e+08\n",
       "Pirates of the Caribbean Collection  9.043154e+08"
      ]
     },
     "execution_count": 47,
     "metadata": {},
     "output_type": "execute_result"
    }
   ],
   "source": [
    "# calculating mean of each collection \n",
    "franchise.groupby(\"belongs_to_collection\").mean().sort_values(\"revenue\",ascending=False)[['revenue']].head(10)"
   ]
  },
  {
   "cell_type": "code",
   "execution_count": 48,
   "id": "9b10ec78",
   "metadata": {},
   "outputs": [
    {
     "data": {
      "text/html": [
       "<div>\n",
       "<style scoped>\n",
       "    .dataframe tbody tr th:only-of-type {\n",
       "        vertical-align: middle;\n",
       "    }\n",
       "\n",
       "    .dataframe tbody tr th {\n",
       "        vertical-align: top;\n",
       "    }\n",
       "\n",
       "    .dataframe thead th {\n",
       "        text-align: right;\n",
       "    }\n",
       "</style>\n",
       "<table border=\"1\" class=\"dataframe\">\n",
       "  <thead>\n",
       "    <tr style=\"text-align: right;\">\n",
       "      <th></th>\n",
       "      <th>revenue</th>\n",
       "    </tr>\n",
       "    <tr>\n",
       "      <th>belongs_to_collection</th>\n",
       "      <th></th>\n",
       "    </tr>\n",
       "  </thead>\n",
       "  <tbody>\n",
       "    <tr>\n",
       "      <th>Harry Potter Collection</th>\n",
       "      <td>7.707367e+09</td>\n",
       "    </tr>\n",
       "    <tr>\n",
       "      <th>Star Wars Collection</th>\n",
       "      <td>7.434495e+09</td>\n",
       "    </tr>\n",
       "    <tr>\n",
       "      <th>James Bond Collection</th>\n",
       "      <td>7.106970e+09</td>\n",
       "    </tr>\n",
       "    <tr>\n",
       "      <th>The Fast and the Furious Collection</th>\n",
       "      <td>5.125099e+09</td>\n",
       "    </tr>\n",
       "    <tr>\n",
       "      <th>Pirates of the Caribbean Collection</th>\n",
       "      <td>4.521577e+09</td>\n",
       "    </tr>\n",
       "    <tr>\n",
       "      <th>Transformers Collection</th>\n",
       "      <td>4.366101e+09</td>\n",
       "    </tr>\n",
       "    <tr>\n",
       "      <th>Despicable Me Collection</th>\n",
       "      <td>3.691070e+09</td>\n",
       "    </tr>\n",
       "    <tr>\n",
       "      <th>The Twilight Collection</th>\n",
       "      <td>3.342107e+09</td>\n",
       "    </tr>\n",
       "    <tr>\n",
       "      <th>Ice Age Collection</th>\n",
       "      <td>3.216709e+09</td>\n",
       "    </tr>\n",
       "    <tr>\n",
       "      <th>Jurassic Park Collection</th>\n",
       "      <td>3.031484e+09</td>\n",
       "    </tr>\n",
       "  </tbody>\n",
       "</table>\n",
       "</div>"
      ],
      "text/plain": [
       "                                          revenue\n",
       "belongs_to_collection                            \n",
       "Harry Potter Collection              7.707367e+09\n",
       "Star Wars Collection                 7.434495e+09\n",
       "James Bond Collection                7.106970e+09\n",
       "The Fast and the Furious Collection  5.125099e+09\n",
       "Pirates of the Caribbean Collection  4.521577e+09\n",
       "Transformers Collection              4.366101e+09\n",
       "Despicable Me Collection             3.691070e+09\n",
       "The Twilight Collection              3.342107e+09\n",
       "Ice Age Collection                   3.216709e+09\n",
       "Jurassic Park Collection             3.031484e+09"
      ]
     },
     "execution_count": 48,
     "metadata": {},
     "output_type": "execute_result"
    }
   ],
   "source": [
    "# calculating sum of revenues of each collection \n",
    "franchise.groupby(\"belongs_to_collection\").sum().sort_values(\"revenue\",ascending=False)[[\"revenue\"]].head(10)"
   ]
  },
  {
   "cell_type": "code",
   "execution_count": 49,
   "id": "65f96ac2",
   "metadata": {},
   "outputs": [
    {
     "data": {
      "text/html": [
       "<div>\n",
       "<style scoped>\n",
       "    .dataframe tbody tr th:only-of-type {\n",
       "        vertical-align: middle;\n",
       "    }\n",
       "\n",
       "    .dataframe tbody tr th {\n",
       "        vertical-align: top;\n",
       "    }\n",
       "\n",
       "    .dataframe thead th {\n",
       "        text-align: right;\n",
       "    }\n",
       "</style>\n",
       "<table border=\"1\" class=\"dataframe\">\n",
       "  <thead>\n",
       "    <tr style=\"text-align: right;\">\n",
       "      <th></th>\n",
       "      <th>revenue</th>\n",
       "    </tr>\n",
       "    <tr>\n",
       "      <th>belongs_to_collection</th>\n",
       "      <th></th>\n",
       "    </tr>\n",
       "  </thead>\n",
       "  <tbody>\n",
       "    <tr>\n",
       "      <th>James Bond Collection</th>\n",
       "      <td>26</td>\n",
       "    </tr>\n",
       "    <tr>\n",
       "      <th>Friday the 13th Collection</th>\n",
       "      <td>12</td>\n",
       "    </tr>\n",
       "    <tr>\n",
       "      <th>Pokémon Collection</th>\n",
       "      <td>11</td>\n",
       "    </tr>\n",
       "    <tr>\n",
       "      <th>Harry Potter Collection</th>\n",
       "      <td>8</td>\n",
       "    </tr>\n",
       "    <tr>\n",
       "      <th>Halloween Collection</th>\n",
       "      <td>8</td>\n",
       "    </tr>\n",
       "    <tr>\n",
       "      <th>A Nightmare on Elm Street Collection</th>\n",
       "      <td>8</td>\n",
       "    </tr>\n",
       "    <tr>\n",
       "      <th>The Fast and the Furious Collection</th>\n",
       "      <td>8</td>\n",
       "    </tr>\n",
       "    <tr>\n",
       "      <th>The Pink Panther (Original) Collection</th>\n",
       "      <td>8</td>\n",
       "    </tr>\n",
       "    <tr>\n",
       "      <th>Star Wars Collection</th>\n",
       "      <td>8</td>\n",
       "    </tr>\n",
       "    <tr>\n",
       "      <th>Police Academy Collection</th>\n",
       "      <td>7</td>\n",
       "    </tr>\n",
       "  </tbody>\n",
       "</table>\n",
       "</div>"
      ],
      "text/plain": [
       "                                        revenue\n",
       "belongs_to_collection                          \n",
       "James Bond Collection                        26\n",
       "Friday the 13th Collection                   12\n",
       "Pokémon Collection                           11\n",
       "Harry Potter Collection                       8\n",
       "Halloween Collection                          8\n",
       "A Nightmare on Elm Street Collection          8\n",
       "The Fast and the Furious Collection           8\n",
       "The Pink Panther (Original) Collection        8\n",
       "Star Wars Collection                          8\n",
       "Police Academy Collection                     7"
      ]
     },
     "execution_count": 49,
     "metadata": {},
     "output_type": "execute_result"
    }
   ],
   "source": [
    "# calculating count of each collection \n",
    "franchise.groupby(\"belongs_to_collection\").count().sort_values(\"revenue\",ascending=False)[[\"revenue\"]].head(10)\n",
    "\n",
    "# the revenue column here is actually the count column "
   ]
  },
  {
   "cell_type": "code",
   "execution_count": null,
   "id": "0b48c519",
   "metadata": {},
   "outputs": [],
   "source": []
  },
  {
   "cell_type": "code",
   "execution_count": null,
   "id": "483e8969",
   "metadata": {},
   "outputs": [],
   "source": []
  },
  {
   "cell_type": "code",
   "execution_count": null,
   "id": "327bfb25",
   "metadata": {},
   "outputs": [],
   "source": []
  },
  {
   "cell_type": "code",
   "execution_count": null,
   "id": "d00a4309",
   "metadata": {},
   "outputs": [],
   "source": []
  },
  {
   "cell_type": "code",
   "execution_count": null,
   "id": "3b4d17d6",
   "metadata": {},
   "outputs": [],
   "source": []
  },
  {
   "cell_type": "code",
   "execution_count": 50,
   "id": "b04949e5",
   "metadata": {},
   "outputs": [],
   "source": [
    "\n",
    "# production companies and taking them out of the database "
   ]
  },
  {
   "cell_type": "code",
   "execution_count": null,
   "id": "8f8e0134",
   "metadata": {},
   "outputs": [],
   "source": []
  },
  {
   "cell_type": "code",
   "execution_count": 51,
   "id": "ff9881e5",
   "metadata": {},
   "outputs": [],
   "source": [
    "# we filled the Nan values with \"[]\" so that we can apply ast.literal_eval\n",
    "df_meta[\"production_companies\"]=df_meta[\"production_companies\"].fillna(\"[]\")\n"
   ]
  },
  {
   "cell_type": "code",
   "execution_count": 52,
   "id": "b348142d",
   "metadata": {},
   "outputs": [],
   "source": [
    "prod_comp=df_meta.drop(df_meta[df_meta[\"production_companies\"]==\"[]\"].index)"
   ]
  },
  {
   "cell_type": "code",
   "execution_count": 53,
   "id": "e7a869f2",
   "metadata": {},
   "outputs": [],
   "source": [
    "# using our give_company_name function we can get the company names of the various production companies\n",
    "def give_company_names(x):\n",
    "    l1=[]\n",
    "    for i in x:\n",
    "        l1.append(i[\"name\"])\n",
    "    return l1"
   ]
  },
  {
   "cell_type": "code",
   "execution_count": 54,
   "id": "3f524e7a",
   "metadata": {},
   "outputs": [
    {
     "data": {
      "text/plain": [
       "['Warner Bros.', 'Lancaster Gate']"
      ]
     },
     "execution_count": 54,
     "metadata": {},
     "output_type": "execute_result"
    }
   ],
   "source": [
    "give_company_names([{'name': 'Warner Bros.', 'id': 6194}, {'name': 'Lancaster Gate', 'id': 19464}])\n"
   ]
  },
  {
   "cell_type": "code",
   "execution_count": null,
   "id": "b17dfea2",
   "metadata": {},
   "outputs": [],
   "source": []
  },
  {
   "cell_type": "code",
   "execution_count": null,
   "id": "c47535d2",
   "metadata": {},
   "outputs": [],
   "source": []
  },
  {
   "cell_type": "code",
   "execution_count": 55,
   "id": "3cff01e9",
   "metadata": {},
   "outputs": [],
   "source": [
    "############################### ORIGINAL LANGUAGE #############################################################################"
   ]
  },
  {
   "cell_type": "code",
   "execution_count": 56,
   "id": "b16545e9",
   "metadata": {},
   "outputs": [],
   "source": [
    "# the \"df_lang\" dataframe has the counts of various original production languages of movies \n",
    "df_lang=pd.DataFrame(df_meta[\"original_language\"].value_counts())"
   ]
  },
  {
   "cell_type": "code",
   "execution_count": 57,
   "id": "c7c5fa80",
   "metadata": {},
   "outputs": [
    {
     "data": {
      "text/html": [
       "<div>\n",
       "<style scoped>\n",
       "    .dataframe tbody tr th:only-of-type {\n",
       "        vertical-align: middle;\n",
       "    }\n",
       "\n",
       "    .dataframe tbody tr th {\n",
       "        vertical-align: top;\n",
       "    }\n",
       "\n",
       "    .dataframe thead th {\n",
       "        text-align: right;\n",
       "    }\n",
       "</style>\n",
       "<table border=\"1\" class=\"dataframe\">\n",
       "  <thead>\n",
       "    <tr style=\"text-align: right;\">\n",
       "      <th></th>\n",
       "      <th>original_language</th>\n",
       "    </tr>\n",
       "  </thead>\n",
       "  <tbody>\n",
       "    <tr>\n",
       "      <th>en</th>\n",
       "      <td>32269</td>\n",
       "    </tr>\n",
       "    <tr>\n",
       "      <th>fr</th>\n",
       "      <td>2438</td>\n",
       "    </tr>\n",
       "    <tr>\n",
       "      <th>it</th>\n",
       "      <td>1529</td>\n",
       "    </tr>\n",
       "    <tr>\n",
       "      <th>ja</th>\n",
       "      <td>1350</td>\n",
       "    </tr>\n",
       "    <tr>\n",
       "      <th>de</th>\n",
       "      <td>1080</td>\n",
       "    </tr>\n",
       "    <tr>\n",
       "      <th>...</th>\n",
       "      <td>...</td>\n",
       "    </tr>\n",
       "    <tr>\n",
       "      <th>eo</th>\n",
       "      <td>1</td>\n",
       "    </tr>\n",
       "    <tr>\n",
       "      <th>mt</th>\n",
       "      <td>1</td>\n",
       "    </tr>\n",
       "    <tr>\n",
       "      <th>gl</th>\n",
       "      <td>1</td>\n",
       "    </tr>\n",
       "    <tr>\n",
       "      <th>uz</th>\n",
       "      <td>1</td>\n",
       "    </tr>\n",
       "    <tr>\n",
       "      <th>la</th>\n",
       "      <td>1</td>\n",
       "    </tr>\n",
       "  </tbody>\n",
       "</table>\n",
       "<p>92 rows × 1 columns</p>\n",
       "</div>"
      ],
      "text/plain": [
       "    original_language\n",
       "en              32269\n",
       "fr               2438\n",
       "it               1529\n",
       "ja               1350\n",
       "de               1080\n",
       "..                ...\n",
       "eo                  1\n",
       "mt                  1\n",
       "gl                  1\n",
       "uz                  1\n",
       "la                  1\n",
       "\n",
       "[92 rows x 1 columns]"
      ]
     },
     "execution_count": 57,
     "metadata": {},
     "output_type": "execute_result"
    }
   ],
   "source": [
    "df_lang"
   ]
  },
  {
   "cell_type": "code",
   "execution_count": 58,
   "id": "0d6da795",
   "metadata": {},
   "outputs": [],
   "source": [
    "df_lang[\"language\"]=df_lang.index\n",
    "df_lang.columns=[\"number\",\"language\"]\n"
   ]
  },
  {
   "cell_type": "code",
   "execution_count": 59,
   "id": "c1dccfaa",
   "metadata": {},
   "outputs": [
    {
     "data": {
      "text/html": [
       "<div>\n",
       "<style scoped>\n",
       "    .dataframe tbody tr th:only-of-type {\n",
       "        vertical-align: middle;\n",
       "    }\n",
       "\n",
       "    .dataframe tbody tr th {\n",
       "        vertical-align: top;\n",
       "    }\n",
       "\n",
       "    .dataframe thead th {\n",
       "        text-align: right;\n",
       "    }\n",
       "</style>\n",
       "<table border=\"1\" class=\"dataframe\">\n",
       "  <thead>\n",
       "    <tr style=\"text-align: right;\">\n",
       "      <th></th>\n",
       "      <th>number</th>\n",
       "      <th>language</th>\n",
       "    </tr>\n",
       "  </thead>\n",
       "  <tbody>\n",
       "    <tr>\n",
       "      <th>en</th>\n",
       "      <td>32269</td>\n",
       "      <td>en</td>\n",
       "    </tr>\n",
       "    <tr>\n",
       "      <th>fr</th>\n",
       "      <td>2438</td>\n",
       "      <td>fr</td>\n",
       "    </tr>\n",
       "    <tr>\n",
       "      <th>it</th>\n",
       "      <td>1529</td>\n",
       "      <td>it</td>\n",
       "    </tr>\n",
       "    <tr>\n",
       "      <th>ja</th>\n",
       "      <td>1350</td>\n",
       "      <td>ja</td>\n",
       "    </tr>\n",
       "    <tr>\n",
       "      <th>de</th>\n",
       "      <td>1080</td>\n",
       "      <td>de</td>\n",
       "    </tr>\n",
       "    <tr>\n",
       "      <th>...</th>\n",
       "      <td>...</td>\n",
       "      <td>...</td>\n",
       "    </tr>\n",
       "    <tr>\n",
       "      <th>eo</th>\n",
       "      <td>1</td>\n",
       "      <td>eo</td>\n",
       "    </tr>\n",
       "    <tr>\n",
       "      <th>mt</th>\n",
       "      <td>1</td>\n",
       "      <td>mt</td>\n",
       "    </tr>\n",
       "    <tr>\n",
       "      <th>gl</th>\n",
       "      <td>1</td>\n",
       "      <td>gl</td>\n",
       "    </tr>\n",
       "    <tr>\n",
       "      <th>uz</th>\n",
       "      <td>1</td>\n",
       "      <td>uz</td>\n",
       "    </tr>\n",
       "    <tr>\n",
       "      <th>la</th>\n",
       "      <td>1</td>\n",
       "      <td>la</td>\n",
       "    </tr>\n",
       "  </tbody>\n",
       "</table>\n",
       "<p>92 rows × 2 columns</p>\n",
       "</div>"
      ],
      "text/plain": [
       "    number language\n",
       "en   32269       en\n",
       "fr    2438       fr\n",
       "it    1529       it\n",
       "ja    1350       ja\n",
       "de    1080       de\n",
       "..     ...      ...\n",
       "eo       1       eo\n",
       "mt       1       mt\n",
       "gl       1       gl\n",
       "uz       1       uz\n",
       "la       1       la\n",
       "\n",
       "[92 rows x 2 columns]"
      ]
     },
     "execution_count": 59,
     "metadata": {},
     "output_type": "execute_result"
    }
   ],
   "source": [
    "df_lang"
   ]
  },
  {
   "cell_type": "code",
   "execution_count": 60,
   "id": "00218645",
   "metadata": {},
   "outputs": [
    {
     "data": {
      "text/plain": [
       "(92, 2)"
      ]
     },
     "execution_count": 60,
     "metadata": {},
     "output_type": "execute_result"
    }
   ],
   "source": [
    "df_lang.shape\n",
    "#so we have 93 total langauges (as the index starts from 0)"
   ]
  },
  {
   "cell_type": "code",
   "execution_count": 61,
   "id": "b958dc34",
   "metadata": {},
   "outputs": [],
   "source": [
    "df_lang=pd.DataFrame(df_lang)"
   ]
  },
  {
   "cell_type": "code",
   "execution_count": 62,
   "id": "cc6609c6",
   "metadata": {},
   "outputs": [
    {
     "data": {
      "text/html": [
       "<div>\n",
       "<style scoped>\n",
       "    .dataframe tbody tr th:only-of-type {\n",
       "        vertical-align: middle;\n",
       "    }\n",
       "\n",
       "    .dataframe tbody tr th {\n",
       "        vertical-align: top;\n",
       "    }\n",
       "\n",
       "    .dataframe thead th {\n",
       "        text-align: right;\n",
       "    }\n",
       "</style>\n",
       "<table border=\"1\" class=\"dataframe\">\n",
       "  <thead>\n",
       "    <tr style=\"text-align: right;\">\n",
       "      <th></th>\n",
       "      <th>number</th>\n",
       "      <th>language</th>\n",
       "    </tr>\n",
       "  </thead>\n",
       "  <tbody>\n",
       "    <tr>\n",
       "      <th>en</th>\n",
       "      <td>32269</td>\n",
       "      <td>en</td>\n",
       "    </tr>\n",
       "    <tr>\n",
       "      <th>fr</th>\n",
       "      <td>2438</td>\n",
       "      <td>fr</td>\n",
       "    </tr>\n",
       "    <tr>\n",
       "      <th>it</th>\n",
       "      <td>1529</td>\n",
       "      <td>it</td>\n",
       "    </tr>\n",
       "    <tr>\n",
       "      <th>ja</th>\n",
       "      <td>1350</td>\n",
       "      <td>ja</td>\n",
       "    </tr>\n",
       "    <tr>\n",
       "      <th>de</th>\n",
       "      <td>1080</td>\n",
       "      <td>de</td>\n",
       "    </tr>\n",
       "  </tbody>\n",
       "</table>\n",
       "</div>"
      ],
      "text/plain": [
       "    number language\n",
       "en   32269       en\n",
       "fr    2438       fr\n",
       "it    1529       it\n",
       "ja    1350       ja\n",
       "de    1080       de"
      ]
     },
     "execution_count": 62,
     "metadata": {},
     "output_type": "execute_result"
    }
   ],
   "source": [
    "df_lang.head()"
   ]
  },
  {
   "cell_type": "code",
   "execution_count": 63,
   "id": "5ab699ae",
   "metadata": {},
   "outputs": [
    {
     "data": {
      "text/plain": [
       "<AxesSubplot:xlabel='language', ylabel='number'>"
      ]
     },
     "execution_count": 63,
     "metadata": {},
     "output_type": "execute_result"
    },
    {
     "data": {
      "image/png": "[encoded data removed]",
      "text/plain": [
       "<Figure size 864x360 with 1 Axes>"
      ]
     },
     "metadata": {
      "needs_background": "light"
     },
     "output_type": "display_data"
    }
   ],
   "source": [
    "# plotting the graph for languages \n",
    "plt.figure(figsize=(12,5))\n",
    "sns.barplot(x=\"language\",y=\"number\", data=df_lang.head(10))"
   ]
  },
  {
   "cell_type": "code",
   "execution_count": 64,
   "id": "f196f8dc",
   "metadata": {},
   "outputs": [],
   "source": [
    "# as expected the english language films are in majority and rest of the languages are far behind "
   ]
  },
  {
   "cell_type": "code",
   "execution_count": null,
   "id": "0831f89f",
   "metadata": {},
   "outputs": [],
   "source": []
  },
  {
   "cell_type": "code",
   "execution_count": null,
   "id": "c4ab7fb9",
   "metadata": {},
   "outputs": [],
   "source": []
  },
  {
   "cell_type": "code",
   "execution_count": null,
   "id": "e96aa852",
   "metadata": {},
   "outputs": [],
   "source": []
  },
  {
   "cell_type": "code",
   "execution_count": 65,
   "id": "c061b9f9",
   "metadata": {},
   "outputs": [],
   "source": [
    "#################################### POPULARITY ################################################################################"
   ]
  },
  {
   "cell_type": "code",
   "execution_count": 66,
   "id": "74eea8c7",
   "metadata": {},
   "outputs": [],
   "source": [
    "# this fuction helps us analyse the poopularity column by removing the NaN values and coverting the strings to float\n",
    "def clean_pop_col(x):\n",
    "    try:\n",
    "        return float(x)\n",
    "    except:\n",
    "        return np.nan\n"
   ]
  },
  {
   "cell_type": "code",
   "execution_count": 67,
   "id": "722194b1",
   "metadata": {},
   "outputs": [],
   "source": [
    "df_meta[\"popularity\"]=df_meta[\"popularity\"].apply(clean_pop_col).astype(\"float\")"
   ]
  },
  {
   "cell_type": "code",
   "execution_count": 68,
   "id": "0ba0dec5",
   "metadata": {},
   "outputs": [
    {
     "data": {
      "text/plain": [
       "count    45460.000000\n",
       "mean         2.921478\n",
       "std          6.005414\n",
       "min          0.000000\n",
       "25%          0.385948\n",
       "50%          1.127685\n",
       "75%          3.678902\n",
       "max        547.488298\n",
       "Name: popularity, dtype: float64"
      ]
     },
     "execution_count": 68,
     "metadata": {},
     "output_type": "execute_result"
    }
   ],
   "source": [
    "df_meta[\"popularity\"].describe()"
   ]
  },
  {
   "cell_type": "code",
   "execution_count": 69,
   "id": "ebb6f031",
   "metadata": {},
   "outputs": [
    {
     "data": {
      "text/plain": [
       "<seaborn.axisgrid.FacetGrid at 0x2bdb18b4370>"
      ]
     },
     "execution_count": 69,
     "metadata": {},
     "output_type": "execute_result"
    },
    {
     "data": {
      "text/plain": [
       "<Figure size 720x360 with 0 Axes>"
      ]
     },
     "metadata": {},
     "output_type": "display_data"
    },
    {
     "data": {
      "image/png": "[encoded data removed]",
      "text/plain": [
       "<Figure size 360x360 with 1 Axes>"
      ]
     },
     "metadata": {
      "needs_background": "light"
     },
     "output_type": "display_data"
    }
   ],
   "source": [
    "# we filled the NaN values using the median of the popularity values \n",
    "plt.figure(figsize=(10,5))\n",
    "sns.displot(df_meta[\"popularity\"].fillna(df_meta['popularity'].median()))"
   ]
  },
  {
   "cell_type": "code",
   "execution_count": 70,
   "id": "8eb31e7c",
   "metadata": {},
   "outputs": [
    {
     "data": {
      "text/plain": [
       "<AxesSubplot:ylabel='Frequency'>"
      ]
     },
     "execution_count": 70,
     "metadata": {},
     "output_type": "execute_result"
    },
    {
     "data": {
      "image/png": "[encoded data removed]",
      "text/plain": [
       "<Figure size 432x288 with 1 Axes>"
      ]
     },
     "metadata": {
      "needs_background": "light"
     },
     "output_type": "display_data"
    }
   ],
   "source": [
    "df_meta[\"popularity\"].plot(logy=True,kind=\"hist\")\n",
    "# this shows that popularity is an extremely skewed quantity "
   ]
  },
  {
   "cell_type": "code",
   "execution_count": null,
   "id": "eceb8f57",
   "metadata": {},
   "outputs": [],
   "source": []
  },
  {
   "cell_type": "code",
   "execution_count": null,
   "id": "3a7662d2",
   "metadata": {},
   "outputs": [],
   "source": []
  },
  {
   "cell_type": "code",
   "execution_count": null,
   "id": "368e993f",
   "metadata": {},
   "outputs": [],
   "source": []
  },
  {
   "cell_type": "code",
   "execution_count": 72,
   "id": "2e229ec6",
   "metadata": {},
   "outputs": [],
   "source": [
    "# getting the most popular movies by popularity score"
   ]
  },
  {
   "cell_type": "code",
   "execution_count": 73,
   "id": "a6aeec6a",
   "metadata": {},
   "outputs": [
    {
     "data": {
      "text/plain": [
       "<AxesSubplot:xlabel='title', ylabel='popularity'>"
      ]
     },
     "execution_count": 73,
     "metadata": {},
     "output_type": "execute_result"
    },
    {
     "data": {
      "image/png": "[encoded data removed]",
      "text/plain": [
       "<Figure size 1440x360 with 1 Axes>"
      ]
     },
     "metadata": {
      "needs_background": "light"
     },
     "output_type": "display_data"
    }
   ],
   "source": [
    "plt.figure(figsize=(20,5))\n",
    "sns.barplot(data=df_meta[[\"title\",\"popularity\"]].sort_values(by=\"popularity\",ascending=False).head(10),x=\"title\",y=\"popularity\")"
   ]
  },
  {
   "cell_type": "code",
   "execution_count": 74,
   "id": "a6934a2c",
   "metadata": {},
   "outputs": [],
   "source": [
    "# most voted movies by vote count"
   ]
  },
  {
   "cell_type": "code",
   "execution_count": 75,
   "id": "01498d22",
   "metadata": {},
   "outputs": [
    {
     "data": {
      "text/html": [
       "<div>\n",
       "<style scoped>\n",
       "    .dataframe tbody tr th:only-of-type {\n",
       "        vertical-align: middle;\n",
       "    }\n",
       "\n",
       "    .dataframe tbody tr th {\n",
       "        vertical-align: top;\n",
       "    }\n",
       "\n",
       "    .dataframe thead th {\n",
       "        text-align: right;\n",
       "    }\n",
       "</style>\n",
       "<table border=\"1\" class=\"dataframe\">\n",
       "  <thead>\n",
       "    <tr style=\"text-align: right;\">\n",
       "      <th></th>\n",
       "      <th>vote_count</th>\n",
       "      <th>title</th>\n",
       "    </tr>\n",
       "  </thead>\n",
       "  <tbody>\n",
       "    <tr>\n",
       "      <th>15480</th>\n",
       "      <td>14075.0</td>\n",
       "      <td>Inception</td>\n",
       "    </tr>\n",
       "    <tr>\n",
       "      <th>12481</th>\n",
       "      <td>12269.0</td>\n",
       "      <td>The Dark Knight</td>\n",
       "    </tr>\n",
       "    <tr>\n",
       "      <th>14551</th>\n",
       "      <td>12114.0</td>\n",
       "      <td>Avatar</td>\n",
       "    </tr>\n",
       "    <tr>\n",
       "      <th>17818</th>\n",
       "      <td>12000.0</td>\n",
       "      <td>The Avengers</td>\n",
       "    </tr>\n",
       "    <tr>\n",
       "      <th>26564</th>\n",
       "      <td>11444.0</td>\n",
       "      <td>Deadpool</td>\n",
       "    </tr>\n",
       "    <tr>\n",
       "      <th>22879</th>\n",
       "      <td>11187.0</td>\n",
       "      <td>Interstellar</td>\n",
       "    </tr>\n",
       "    <tr>\n",
       "      <th>20051</th>\n",
       "      <td>10297.0</td>\n",
       "      <td>Django Unchained</td>\n",
       "    </tr>\n",
       "    <tr>\n",
       "      <th>23753</th>\n",
       "      <td>10014.0</td>\n",
       "      <td>Guardians of the Galaxy</td>\n",
       "    </tr>\n",
       "    <tr>\n",
       "      <th>2843</th>\n",
       "      <td>9678.0</td>\n",
       "      <td>Fight Club</td>\n",
       "    </tr>\n",
       "    <tr>\n",
       "      <th>18244</th>\n",
       "      <td>9634.0</td>\n",
       "      <td>The Hunger Games</td>\n",
       "    </tr>\n",
       "  </tbody>\n",
       "</table>\n",
       "</div>"
      ],
      "text/plain": [
       "       vote_count                    title\n",
       "15480     14075.0                Inception\n",
       "12481     12269.0          The Dark Knight\n",
       "14551     12114.0                   Avatar\n",
       "17818     12000.0             The Avengers\n",
       "26564     11444.0                 Deadpool\n",
       "22879     11187.0             Interstellar\n",
       "20051     10297.0         Django Unchained\n",
       "23753     10014.0  Guardians of the Galaxy\n",
       "2843       9678.0               Fight Club\n",
       "18244      9634.0         The Hunger Games"
      ]
     },
     "execution_count": 75,
     "metadata": {},
     "output_type": "execute_result"
    }
   ],
   "source": [
    "# we use the sort_values to sort the dataframe\n",
    "df_meta[[\"vote_count\",\"title\"]].sort_values(by=\"vote_count\",ascending=False).head(10)"
   ]
  },
  {
   "cell_type": "code",
   "execution_count": 76,
   "id": "80e728be",
   "metadata": {},
   "outputs": [
    {
     "data": {
      "text/plain": [
       "<AxesSubplot:xlabel='title', ylabel='vote_count'>"
      ]
     },
     "execution_count": 76,
     "metadata": {},
     "output_type": "execute_result"
    },
    {
     "data": {
      "image/png": "[encoded data removed]",
      "text/plain": [
       "<Figure size 1440x360 with 1 Axes>"
      ]
     },
     "metadata": {
      "needs_background": "light"
     },
     "output_type": "display_data"
    }
   ],
   "source": [
    "# plotting the graph for the same\n",
    "plt.figure(figsize=(20,5))\n",
    "sns.barplot(data=df_meta[[\"vote_count\",\"title\"]].sort_values(by=\"vote_count\",ascending=False).head(10),x=\"title\",y=\"vote_count\")"
   ]
  },
  {
   "cell_type": "code",
   "execution_count": 77,
   "id": "fe6d6df1",
   "metadata": {},
   "outputs": [],
   "source": [
    "# the ret_year function helps get the year from \"release_date\" column \n",
    "def ret_year(x):\n",
    "    return eval(x[:4])\n",
    "\n",
    "# we replace the NaN values\n",
    "df_meta[\"release_date\"]=df_meta[\"release_date\"].replace(np.nan,\"0000-00-00\")\n",
    "df_meta[\"year_of_release\"]=df_meta[\"release_date\"].apply(ret_year)"
   ]
  },
  {
   "cell_type": "code",
   "execution_count": 78,
   "id": "d8de99c4",
   "metadata": {},
   "outputs": [
    {
     "data": {
      "text/html": [
       "<div>\n",
       "<style scoped>\n",
       "    .dataframe tbody tr th:only-of-type {\n",
       "        vertical-align: middle;\n",
       "    }\n",
       "\n",
       "    .dataframe tbody tr th {\n",
       "        vertical-align: top;\n",
       "    }\n",
       "\n",
       "    .dataframe thead th {\n",
       "        text-align: right;\n",
       "    }\n",
       "</style>\n",
       "<table border=\"1\" class=\"dataframe\">\n",
       "  <thead>\n",
       "    <tr style=\"text-align: right;\">\n",
       "      <th></th>\n",
       "      <th>title</th>\n",
       "      <th>popularity</th>\n",
       "      <th>year_of_release</th>\n",
       "    </tr>\n",
       "  </thead>\n",
       "  <tbody>\n",
       "    <tr>\n",
       "      <th>30700</th>\n",
       "      <td>Minions</td>\n",
       "      <td>547.488298</td>\n",
       "      <td>2015</td>\n",
       "    </tr>\n",
       "    <tr>\n",
       "      <th>33356</th>\n",
       "      <td>Wonder Woman</td>\n",
       "      <td>294.337037</td>\n",
       "      <td>2017</td>\n",
       "    </tr>\n",
       "    <tr>\n",
       "      <th>42222</th>\n",
       "      <td>Beauty and the Beast</td>\n",
       "      <td>287.253654</td>\n",
       "      <td>2017</td>\n",
       "    </tr>\n",
       "    <tr>\n",
       "      <th>43644</th>\n",
       "      <td>Baby Driver</td>\n",
       "      <td>228.032744</td>\n",
       "      <td>2017</td>\n",
       "    </tr>\n",
       "    <tr>\n",
       "      <th>24455</th>\n",
       "      <td>Big Hero 6</td>\n",
       "      <td>213.849907</td>\n",
       "      <td>2014</td>\n",
       "    </tr>\n",
       "    <tr>\n",
       "      <th>26564</th>\n",
       "      <td>Deadpool</td>\n",
       "      <td>187.860492</td>\n",
       "      <td>2016</td>\n",
       "    </tr>\n",
       "    <tr>\n",
       "      <th>26566</th>\n",
       "      <td>Guardians of the Galaxy Vol. 2</td>\n",
       "      <td>185.330992</td>\n",
       "      <td>2017</td>\n",
       "    </tr>\n",
       "    <tr>\n",
       "      <th>14551</th>\n",
       "      <td>Avatar</td>\n",
       "      <td>185.070892</td>\n",
       "      <td>2009</td>\n",
       "    </tr>\n",
       "    <tr>\n",
       "      <th>24351</th>\n",
       "      <td>John Wick</td>\n",
       "      <td>183.870374</td>\n",
       "      <td>2014</td>\n",
       "    </tr>\n",
       "    <tr>\n",
       "      <th>23675</th>\n",
       "      <td>Gone Girl</td>\n",
       "      <td>154.801009</td>\n",
       "      <td>2014</td>\n",
       "    </tr>\n",
       "  </tbody>\n",
       "</table>\n",
       "</div>"
      ],
      "text/plain": [
       "                                title  popularity  year_of_release\n",
       "30700                         Minions  547.488298             2015\n",
       "33356                    Wonder Woman  294.337037             2017\n",
       "42222            Beauty and the Beast  287.253654             2017\n",
       "43644                     Baby Driver  228.032744             2017\n",
       "24455                      Big Hero 6  213.849907             2014\n",
       "26564                        Deadpool  187.860492             2016\n",
       "26566  Guardians of the Galaxy Vol. 2  185.330992             2017\n",
       "14551                          Avatar  185.070892             2009\n",
       "24351                       John Wick  183.870374             2014\n",
       "23675                       Gone Girl  154.801009             2014"
      ]
     },
     "execution_count": 78,
     "metadata": {},
     "output_type": "execute_result"
    }
   ],
   "source": [
    "df_meta[[\"title\",\"popularity\",\"year_of_release\"]].sort_values(by=\"popularity\",ascending=False).head(10)"
   ]
  },
  {
   "cell_type": "code",
   "execution_count": 79,
   "id": "05b84cb0",
   "metadata": {},
   "outputs": [],
   "source": [
    "# a data distribution plot of vote averages"
   ]
  },
  {
   "cell_type": "code",
   "execution_count": 173,
   "id": "fe084b5a",
   "metadata": {},
   "outputs": [
    {
     "data": {
      "text/html": [
       "<div>\n",
       "<style scoped>\n",
       "    .dataframe tbody tr th:only-of-type {\n",
       "        vertical-align: middle;\n",
       "    }\n",
       "\n",
       "    .dataframe tbody tr th {\n",
       "        vertical-align: top;\n",
       "    }\n",
       "\n",
       "    .dataframe thead th {\n",
       "        text-align: right;\n",
       "    }\n",
       "</style>\n",
       "<table border=\"1\" class=\"dataframe\">\n",
       "  <thead>\n",
       "    <tr style=\"text-align: right;\">\n",
       "      <th></th>\n",
       "      <th>vote_average</th>\n",
       "      <th>title</th>\n",
       "      <th>vote_count</th>\n",
       "      <th>year_of_release</th>\n",
       "    </tr>\n",
       "  </thead>\n",
       "  <tbody>\n",
       "    <tr>\n",
       "      <th>314</th>\n",
       "      <td>8.5</td>\n",
       "      <td>The Shawshank Redemption</td>\n",
       "      <td>8358.0</td>\n",
       "      <td>1994</td>\n",
       "    </tr>\n",
       "    <tr>\n",
       "      <th>834</th>\n",
       "      <td>8.5</td>\n",
       "      <td>The Godfather</td>\n",
       "      <td>6024.0</td>\n",
       "      <td>1972</td>\n",
       "    </tr>\n",
       "    <tr>\n",
       "      <th>2211</th>\n",
       "      <td>8.3</td>\n",
       "      <td>Life Is Beautiful</td>\n",
       "      <td>3643.0</td>\n",
       "      <td>1997</td>\n",
       "    </tr>\n",
       "    <tr>\n",
       "      <th>5481</th>\n",
       "      <td>8.3</td>\n",
       "      <td>Spirited Away</td>\n",
       "      <td>3968.0</td>\n",
       "      <td>2001</td>\n",
       "    </tr>\n",
       "    <tr>\n",
       "      <th>1152</th>\n",
       "      <td>8.3</td>\n",
       "      <td>One Flew Over the Cuckoo's Nest</td>\n",
       "      <td>3001.0</td>\n",
       "      <td>1975</td>\n",
       "    </tr>\n",
       "    <tr>\n",
       "      <th>...</th>\n",
       "      <td>...</td>\n",
       "      <td>...</td>\n",
       "      <td>...</td>\n",
       "      <td>...</td>\n",
       "    </tr>\n",
       "    <tr>\n",
       "      <th>20447</th>\n",
       "      <td>5.2</td>\n",
       "      <td>A Good Day to Die Hard</td>\n",
       "      <td>3519.0</td>\n",
       "      <td>2013</td>\n",
       "    </tr>\n",
       "    <tr>\n",
       "      <th>17272</th>\n",
       "      <td>5.1</td>\n",
       "      <td>Green Lantern</td>\n",
       "      <td>2551.0</td>\n",
       "      <td>2011</td>\n",
       "    </tr>\n",
       "    <tr>\n",
       "      <th>21018</th>\n",
       "      <td>5.0</td>\n",
       "      <td>After Earth</td>\n",
       "      <td>2579.0</td>\n",
       "      <td>2013</td>\n",
       "    </tr>\n",
       "    <tr>\n",
       "      <th>30556</th>\n",
       "      <td>4.9</td>\n",
       "      <td>Independence Day: Resurgence</td>\n",
       "      <td>2550.0</td>\n",
       "      <td>2016</td>\n",
       "    </tr>\n",
       "    <tr>\n",
       "      <th>26563</th>\n",
       "      <td>4.4</td>\n",
       "      <td>Fantastic Four</td>\n",
       "      <td>2322.0</td>\n",
       "      <td>2015</td>\n",
       "    </tr>\n",
       "  </tbody>\n",
       "</table>\n",
       "<p>512 rows × 4 columns</p>\n",
       "</div>"
      ],
      "text/plain": [
       "       vote_average                            title  vote_count  \\\n",
       "314             8.5         The Shawshank Redemption      8358.0   \n",
       "834             8.5                    The Godfather      6024.0   \n",
       "2211            8.3                Life Is Beautiful      3643.0   \n",
       "5481            8.3                    Spirited Away      3968.0   \n",
       "1152            8.3  One Flew Over the Cuckoo's Nest      3001.0   \n",
       "...             ...                              ...         ...   \n",
       "20447           5.2           A Good Day to Die Hard      3519.0   \n",
       "17272           5.1                    Green Lantern      2551.0   \n",
       "21018           5.0                      After Earth      2579.0   \n",
       "30556           4.9     Independence Day: Resurgence      2550.0   \n",
       "26563           4.4                   Fantastic Four      2322.0   \n",
       "\n",
       "       year_of_release  \n",
       "314               1994  \n",
       "834               1972  \n",
       "2211              1997  \n",
       "5481              2001  \n",
       "1152              1975  \n",
       "...                ...  \n",
       "20447             2013  \n",
       "17272             2011  \n",
       "21018             2013  \n",
       "30556             2016  \n",
       "26563             2015  \n",
       "\n",
       "[512 rows x 4 columns]"
      ]
     },
     "execution_count": 173,
     "metadata": {},
     "output_type": "execute_result"
    }
   ],
   "source": [
    "df_meta[df_meta[\"vote_count\"]>2000][[\"vote_average\",\"title\",\"vote_count\",\"year_of_release\"]].sort_values(\"vote_average\",ascending=False)"
   ]
  },
  {
   "cell_type": "code",
   "execution_count": 174,
   "id": "6f55e4ef",
   "metadata": {},
   "outputs": [
    {
     "data": {
      "text/plain": [
       "<AxesSubplot:xlabel='vote_average', ylabel='Count'>"
      ]
     },
     "execution_count": 174,
     "metadata": {},
     "output_type": "execute_result"
    },
    {
     "data": {
      "image/png": "[encoded data removed]",
      "text/plain": [
       "<Figure size 504x360 with 1 Axes>"
      ]
     },
     "metadata": {
      "needs_background": "light"
     },
     "output_type": "display_data"
    }
   ],
   "source": [
    "# we have replaced the NaN values with the median of the \"vote_average\" column \n",
    "plt.figure(figsize=(7,5))\n",
    "sns.histplot(df_meta[\"vote_average\"].fillna(df_meta[\"vote_average\"].median()))"
   ]
  },
  {
   "cell_type": "code",
   "execution_count": 178,
   "id": "7e2ca62f",
   "metadata": {},
   "outputs": [
    {
     "data": {
      "text/plain": [
       "5.618207215133889"
      ]
     },
     "execution_count": 178,
     "metadata": {},
     "output_type": "execute_result"
    }
   ],
   "source": [
    "# also we select only those movies which have a high vote count of more that 2000\n",
    "#the mean rating here is 5.6 which is quite low on a scal of 10 , this implies that the ratings are given on a very strict basis\n",
    "df_meta[\"vote_average\"].mean()"
   ]
  },
  {
   "cell_type": "code",
   "execution_count": null,
   "id": "c8e00dc8",
   "metadata": {},
   "outputs": [],
   "source": []
  },
  {
   "cell_type": "code",
   "execution_count": 175,
   "id": "ce8c026f",
   "metadata": {},
   "outputs": [],
   "source": [
    "# similariy between vote average and popularity "
   ]
  },
  {
   "cell_type": "code",
   "execution_count": 179,
   "id": "edc63a10",
   "metadata": {},
   "outputs": [
    {
     "data": {
      "text/plain": [
       "0.15439944286409168"
      ]
     },
     "execution_count": 179,
     "metadata": {},
     "output_type": "execute_result"
    }
   ],
   "source": [
    "df_meta[\"vote_average\"].corr(df_meta[\"popularity\"])"
   ]
  },
  {
   "cell_type": "code",
   "execution_count": null,
   "id": "a055210d",
   "metadata": {},
   "outputs": [],
   "source": [
    "# the correlation btw vote average and popularity is very low which suggests that is close to no relation "
   ]
  },
  {
   "cell_type": "code",
   "execution_count": 176,
   "id": "bf93f814",
   "metadata": {},
   "outputs": [
    {
     "data": {
      "text/plain": [
       "<seaborn.axisgrid.JointGrid at 0x2bdcee24940>"
      ]
     },
     "execution_count": 176,
     "metadata": {},
     "output_type": "execute_result"
    },
    {
     "data": {
      "text/plain": [
       "<Figure size 720x216 with 0 Axes>"
      ]
     },
     "metadata": {},
     "output_type": "display_data"
    },
    {
     "data": {
      "image/png": "[encoded data removed]",
      "text/plain": [
       "<Figure size 360x360 with 3 Axes>"
      ]
     },
     "metadata": {
      "needs_background": "light"
     },
     "output_type": "display_data"
    }
   ],
   "source": [
    "plt.figure(figsize=(10,3))\n",
    "sns.jointplot(x=\"vote_average\",y=\"popularity\",data=df_meta,height=5,kind=\"scatter\")"
   ]
  },
  {
   "cell_type": "code",
   "execution_count": 181,
   "id": "902cb3ab",
   "metadata": {},
   "outputs": [
    {
     "data": {
      "text/plain": [
       "<seaborn.axisgrid.JointGrid at 0x2bde2772e50>"
      ]
     },
     "execution_count": 181,
     "metadata": {},
     "output_type": "execute_result"
    },
    {
     "data": {
      "image/png": "[encoded data removed]",
      "text/plain": [
       "<Figure size 360x360 with 3 Axes>"
      ]
     },
     "metadata": {
      "needs_background": "light"
     },
     "output_type": "display_data"
    }
   ],
   "source": [
    "sns.jointplot(x=\"vote_average\",y=\"vote_count\",data=df_meta,height=5,kind=\"scatter\")"
   ]
  },
  {
   "cell_type": "code",
   "execution_count": 182,
   "id": "aec558e8",
   "metadata": {},
   "outputs": [
    {
     "data": {
      "text/plain": [
       "0.12360664415827008"
      ]
     },
     "execution_count": 182,
     "metadata": {},
     "output_type": "execute_result"
    }
   ],
   "source": [
    "# correlation between vote average and vote count is also very less which implies that there is no signficant relationship \n",
    "df_meta[\"vote_average\"].corr(df_meta[\"vote_count\"])"
   ]
  },
  {
   "cell_type": "code",
   "execution_count": 183,
   "id": "22d87dcd",
   "metadata": {},
   "outputs": [],
   "source": [
    "correl=df_meta.corr()"
   ]
  },
  {
   "cell_type": "code",
   "execution_count": 86,
   "id": "c412f140",
   "metadata": {},
   "outputs": [
    {
     "data": {
      "text/html": [
       "<div>\n",
       "<style scoped>\n",
       "    .dataframe tbody tr th:only-of-type {\n",
       "        vertical-align: middle;\n",
       "    }\n",
       "\n",
       "    .dataframe tbody tr th {\n",
       "        vertical-align: top;\n",
       "    }\n",
       "\n",
       "    .dataframe thead th {\n",
       "        text-align: right;\n",
       "    }\n",
       "</style>\n",
       "<table border=\"1\" class=\"dataframe\">\n",
       "  <thead>\n",
       "    <tr style=\"text-align: right;\">\n",
       "      <th></th>\n",
       "      <th>budget</th>\n",
       "      <th>popularity</th>\n",
       "      <th>revenue</th>\n",
       "      <th>runtime</th>\n",
       "      <th>vote_average</th>\n",
       "      <th>vote_count</th>\n",
       "      <th>times_return</th>\n",
       "      <th>year_of_release</th>\n",
       "    </tr>\n",
       "  </thead>\n",
       "  <tbody>\n",
       "    <tr>\n",
       "      <th>budget</th>\n",
       "      <td>1.000000</td>\n",
       "      <td>0.449645</td>\n",
       "      <td>0.744505</td>\n",
       "      <td>0.134733</td>\n",
       "      <td>0.073494</td>\n",
       "      <td>0.676642</td>\n",
       "      <td>-0.019865</td>\n",
       "      <td>0.045178</td>\n",
       "    </tr>\n",
       "    <tr>\n",
       "      <th>popularity</th>\n",
       "      <td>0.449645</td>\n",
       "      <td>1.000000</td>\n",
       "      <td>0.458104</td>\n",
       "      <td>0.129927</td>\n",
       "      <td>0.154399</td>\n",
       "      <td>0.559965</td>\n",
       "      <td>-0.008660</td>\n",
       "      <td>0.054163</td>\n",
       "    </tr>\n",
       "    <tr>\n",
       "      <th>revenue</th>\n",
       "      <td>0.744505</td>\n",
       "      <td>0.458104</td>\n",
       "      <td>1.000000</td>\n",
       "      <td>0.202615</td>\n",
       "      <td>0.149402</td>\n",
       "      <td>0.781789</td>\n",
       "      <td>-0.011329</td>\n",
       "      <td>0.079215</td>\n",
       "    </tr>\n",
       "    <tr>\n",
       "      <th>runtime</th>\n",
       "      <td>0.134733</td>\n",
       "      <td>0.129927</td>\n",
       "      <td>0.202615</td>\n",
       "      <td>1.000000</td>\n",
       "      <td>0.158146</td>\n",
       "      <td>0.113539</td>\n",
       "      <td>-0.013734</td>\n",
       "      <td>0.055797</td>\n",
       "    </tr>\n",
       "    <tr>\n",
       "      <th>vote_average</th>\n",
       "      <td>0.073494</td>\n",
       "      <td>0.154399</td>\n",
       "      <td>0.149402</td>\n",
       "      <td>0.158146</td>\n",
       "      <td>1.000000</td>\n",
       "      <td>0.123607</td>\n",
       "      <td>0.015565</td>\n",
       "      <td>0.075207</td>\n",
       "    </tr>\n",
       "    <tr>\n",
       "      <th>vote_count</th>\n",
       "      <td>0.676642</td>\n",
       "      <td>0.559965</td>\n",
       "      <td>0.781789</td>\n",
       "      <td>0.113539</td>\n",
       "      <td>0.123607</td>\n",
       "      <td>1.000000</td>\n",
       "      <td>-0.008656</td>\n",
       "      <td>0.037950</td>\n",
       "    </tr>\n",
       "    <tr>\n",
       "      <th>times_return</th>\n",
       "      <td>-0.019865</td>\n",
       "      <td>-0.008660</td>\n",
       "      <td>-0.011329</td>\n",
       "      <td>-0.013734</td>\n",
       "      <td>0.015565</td>\n",
       "      <td>-0.008656</td>\n",
       "      <td>1.000000</td>\n",
       "      <td>-0.034725</td>\n",
       "    </tr>\n",
       "    <tr>\n",
       "      <th>year_of_release</th>\n",
       "      <td>0.045178</td>\n",
       "      <td>0.054163</td>\n",
       "      <td>0.079215</td>\n",
       "      <td>0.055797</td>\n",
       "      <td>0.075207</td>\n",
       "      <td>0.037950</td>\n",
       "      <td>-0.034725</td>\n",
       "      <td>1.000000</td>\n",
       "    </tr>\n",
       "  </tbody>\n",
       "</table>\n",
       "</div>"
      ],
      "text/plain": [
       "                   budget  popularity   revenue   runtime  vote_average  \\\n",
       "budget           1.000000    0.449645  0.744505  0.134733      0.073494   \n",
       "popularity       0.449645    1.000000  0.458104  0.129927      0.154399   \n",
       "revenue          0.744505    0.458104  1.000000  0.202615      0.149402   \n",
       "runtime          0.134733    0.129927  0.202615  1.000000      0.158146   \n",
       "vote_average     0.073494    0.154399  0.149402  0.158146      1.000000   \n",
       "vote_count       0.676642    0.559965  0.781789  0.113539      0.123607   \n",
       "times_return    -0.019865   -0.008660 -0.011329 -0.013734      0.015565   \n",
       "year_of_release  0.045178    0.054163  0.079215  0.055797      0.075207   \n",
       "\n",
       "                 vote_count  times_return  year_of_release  \n",
       "budget             0.676642     -0.019865         0.045178  \n",
       "popularity         0.559965     -0.008660         0.054163  \n",
       "revenue            0.781789     -0.011329         0.079215  \n",
       "runtime            0.113539     -0.013734         0.055797  \n",
       "vote_average       0.123607      0.015565         0.075207  \n",
       "vote_count         1.000000     -0.008656         0.037950  \n",
       "times_return      -0.008656      1.000000        -0.034725  \n",
       "year_of_release    0.037950     -0.034725         1.000000  "
      ]
     },
     "execution_count": 86,
     "metadata": {},
     "output_type": "execute_result"
    }
   ],
   "source": [
    "# this is the correlation matrix which shows the correlation between all the colums with one another\n",
    "correl"
   ]
  },
  {
   "cell_type": "code",
   "execution_count": 87,
   "id": "f6bf4f6e",
   "metadata": {},
   "outputs": [
    {
     "data": {
      "text/plain": [
       "<AxesSubplot:>"
      ]
     },
     "execution_count": 87,
     "metadata": {},
     "output_type": "execute_result"
    },
    {
     "data": {
      "image/png": "[encoded data removed]",
      "text/plain": [
       "<Figure size 720x360 with 2 Axes>"
      ]
     },
     "metadata": {
      "needs_background": "light"
     },
     "output_type": "display_data"
    }
   ],
   "source": [
    "# heatmap\n",
    "plt.figure(figsize=(10,5))\n",
    "sns.heatmap(correl,annot=True,)"
   ]
  },
  {
   "cell_type": "code",
   "execution_count": null,
   "id": "54945b75",
   "metadata": {},
   "outputs": [],
   "source": []
  },
  {
   "cell_type": "code",
   "execution_count": 184,
   "id": "8a61a18a",
   "metadata": {},
   "outputs": [],
   "source": [
    "#df_meta.head(1).transpose()"
   ]
  },
  {
   "cell_type": "code",
   "execution_count": null,
   "id": "1a521d5f",
   "metadata": {},
   "outputs": [],
   "source": []
  },
  {
   "cell_type": "code",
   "execution_count": 89,
   "id": "c9f0f71e",
   "metadata": {},
   "outputs": [
    {
     "data": {
      "text/plain": [
       "'1995-10-30'"
      ]
     },
     "execution_count": 89,
     "metadata": {},
     "output_type": "execute_result"
    }
   ],
   "source": [
    "df_meta[\"release_date\"][0][:]"
   ]
  },
  {
   "cell_type": "code",
   "execution_count": 90,
   "id": "06817b21",
   "metadata": {},
   "outputs": [],
   "source": [
    "\n",
    "# getting the movie release watch month from the dataset "
   ]
  },
  {
   "cell_type": "code",
   "execution_count": 91,
   "id": "95c5fd96",
   "metadata": {},
   "outputs": [],
   "source": [
    "def extract_month(x):\n",
    "    ref={1:\"jan\",2:\"feb\",3:\"mar\",4:\"apr\",5:\"may\",6:'jun',7:\"jul\",8:\"aug\",9:\"sep\",10:\"oct\",11:\"nov\",12:\"dec\",0:\"not_available\"}\n",
    "    if x==\"0000-00-00\":\n",
    "        return \"not_available\"\n",
    "    if x[5:7]==\"01\":\n",
    "        return \"jan\"\n",
    "    if x[5:7]==\"02\":\n",
    "        return \"feb\"\n",
    "    if x[5:7]==\"03\":\n",
    "        return \"mar\"\n",
    "    if x[5:7]==\"04\":\n",
    "        return \"apr\"\n",
    "    if x[5:7]==\"05\":\n",
    "        return \"may\"\n",
    "    if x[5:7]==\"06\":\n",
    "        return \"jun\"\n",
    "    if x[5:7]==\"07\":\n",
    "        return \"jul\"\n",
    "    if x[5:7]==\"08\":\n",
    "        return \"aug\"\n",
    "    if x[5:7]==\"09\":\n",
    "        return \"sep\"\n",
    "    if x[5:7]==\"10\":\n",
    "        return \"oct\"\n",
    "    if x[5:7]==\"11\":\n",
    "        return \"nov\"\n",
    "    if x[5:7]==\"12\":\n",
    "        return \"dec\"\n"
   ]
  },
  {
   "cell_type": "code",
   "execution_count": 92,
   "id": "015322ed",
   "metadata": {},
   "outputs": [],
   "source": [
    "df_meta[\"month_of_release\"]=df_meta[\"release_date\"].apply(extract_month)"
   ]
  },
  {
   "cell_type": "code",
   "execution_count": 93,
   "id": "0d54a19b",
   "metadata": {},
   "outputs": [
    {
     "data": {
      "text/plain": [
       "0                  oct\n",
       "1                  dec\n",
       "2                  dec\n",
       "3                  dec\n",
       "4                  feb\n",
       "             ...      \n",
       "45461    not_available\n",
       "45462              nov\n",
       "45463              aug\n",
       "45464              oct\n",
       "45465              jun\n",
       "Name: month_of_release, Length: 45466, dtype: object"
      ]
     },
     "execution_count": 93,
     "metadata": {},
     "output_type": "execute_result"
    }
   ],
   "source": [
    "df_meta[\"month_of_release\"]"
   ]
  },
  {
   "cell_type": "code",
   "execution_count": 94,
   "id": "bdb9f140",
   "metadata": {},
   "outputs": [
    {
     "data": {
      "text/plain": [
       "<AxesSubplot:xlabel='month_of_release', ylabel='count'>"
      ]
     },
     "execution_count": 94,
     "metadata": {},
     "output_type": "execute_result"
    },
    {
     "data": {
      "image/png": "[encoded data removed]",
      "text/plain": [
       "<Figure size 864x504 with 1 Axes>"
      ]
     },
     "metadata": {
      "needs_background": "light"
     },
     "output_type": "display_data"
    }
   ],
   "source": [
    "# plotting the number of movies in each month \n",
    "ref=[\"jan\",\"feb\",\"mar\",\"apr\",\"may\",'jun',\"jul\",\"aug\",\"sep\",\"oct\",\"nov\",\"dec\"]\n",
    "plt.figure(figsize=(12,7))\n",
    "sns.countplot(x=df_meta[\"month_of_release\"],order=ref)"
   ]
  },
  {
   "cell_type": "code",
   "execution_count": null,
   "id": "a101059e",
   "metadata": {},
   "outputs": [],
   "source": [
    "# we see that the month january has the most number of movies "
   ]
  },
  {
   "cell_type": "code",
   "execution_count": null,
   "id": "9953e1de",
   "metadata": {},
   "outputs": [],
   "source": []
  },
  {
   "cell_type": "code",
   "execution_count": null,
   "id": "095f79cc",
   "metadata": {},
   "outputs": [],
   "source": []
  },
  {
   "cell_type": "code",
   "execution_count": null,
   "id": "d7b7336f",
   "metadata": {},
   "outputs": [],
   "source": []
  },
  {
   "cell_type": "code",
   "execution_count": 95,
   "id": "44a2f91f",
   "metadata": {},
   "outputs": [],
   "source": [
    "# average gross revenue by month for superhit movies"
   ]
  },
  {
   "cell_type": "code",
   "execution_count": 185,
   "id": "8ba85cb2",
   "metadata": {},
   "outputs": [],
   "source": [
    "# we consider movies that have a revenue of more that 50 million for this particular analysis\n",
    "gr_month=pd.DataFrame(df_meta[df_meta[\"revenue\"] > 50000000].groupby(by=\"month_of_release\")[\"revenue\"].mean())"
   ]
  },
  {
   "cell_type": "code",
   "execution_count": 186,
   "id": "1a53c588",
   "metadata": {},
   "outputs": [],
   "source": [
    "gr_month[\"months\"]=gr_month.index"
   ]
  },
  {
   "cell_type": "code",
   "execution_count": 187,
   "id": "308e1a80",
   "metadata": {},
   "outputs": [],
   "source": [
    "gr_month.reset_index(inplace=True)"
   ]
  },
  {
   "cell_type": "code",
   "execution_count": 188,
   "id": "ab1b4dfe",
   "metadata": {},
   "outputs": [
    {
     "data": {
      "text/html": [
       "<div>\n",
       "<style scoped>\n",
       "    .dataframe tbody tr th:only-of-type {\n",
       "        vertical-align: middle;\n",
       "    }\n",
       "\n",
       "    .dataframe tbody tr th {\n",
       "        vertical-align: top;\n",
       "    }\n",
       "\n",
       "    .dataframe thead th {\n",
       "        text-align: right;\n",
       "    }\n",
       "</style>\n",
       "<table border=\"1\" class=\"dataframe\">\n",
       "  <thead>\n",
       "    <tr style=\"text-align: right;\">\n",
       "      <th></th>\n",
       "      <th>month_of_release</th>\n",
       "      <th>revenue</th>\n",
       "      <th>months</th>\n",
       "    </tr>\n",
       "  </thead>\n",
       "  <tbody>\n",
       "    <tr>\n",
       "      <th>0</th>\n",
       "      <td>apr</td>\n",
       "      <td>2.034742e+08</td>\n",
       "      <td>apr</td>\n",
       "    </tr>\n",
       "    <tr>\n",
       "      <th>1</th>\n",
       "      <td>aug</td>\n",
       "      <td>1.389043e+08</td>\n",
       "      <td>aug</td>\n",
       "    </tr>\n",
       "    <tr>\n",
       "      <th>2</th>\n",
       "      <td>dec</td>\n",
       "      <td>2.030361e+08</td>\n",
       "      <td>dec</td>\n",
       "    </tr>\n",
       "    <tr>\n",
       "      <th>3</th>\n",
       "      <td>feb</td>\n",
       "      <td>1.544119e+08</td>\n",
       "      <td>feb</td>\n",
       "    </tr>\n",
       "    <tr>\n",
       "      <th>4</th>\n",
       "      <td>jan</td>\n",
       "      <td>1.144024e+08</td>\n",
       "      <td>jan</td>\n",
       "    </tr>\n",
       "    <tr>\n",
       "      <th>5</th>\n",
       "      <td>jul</td>\n",
       "      <td>2.026347e+08</td>\n",
       "      <td>jul</td>\n",
       "    </tr>\n",
       "    <tr>\n",
       "      <th>6</th>\n",
       "      <td>jun</td>\n",
       "      <td>2.791200e+08</td>\n",
       "      <td>jun</td>\n",
       "    </tr>\n",
       "    <tr>\n",
       "      <th>7</th>\n",
       "      <td>mar</td>\n",
       "      <td>1.873266e+08</td>\n",
       "      <td>mar</td>\n",
       "    </tr>\n",
       "    <tr>\n",
       "      <th>8</th>\n",
       "      <td>may</td>\n",
       "      <td>3.127802e+08</td>\n",
       "      <td>may</td>\n",
       "    </tr>\n",
       "    <tr>\n",
       "      <th>9</th>\n",
       "      <td>nov</td>\n",
       "      <td>2.411273e+08</td>\n",
       "      <td>nov</td>\n",
       "    </tr>\n",
       "    <tr>\n",
       "      <th>10</th>\n",
       "      <td>oct</td>\n",
       "      <td>1.596839e+08</td>\n",
       "      <td>oct</td>\n",
       "    </tr>\n",
       "    <tr>\n",
       "      <th>11</th>\n",
       "      <td>sep</td>\n",
       "      <td>1.425701e+08</td>\n",
       "      <td>sep</td>\n",
       "    </tr>\n",
       "  </tbody>\n",
       "</table>\n",
       "</div>"
      ],
      "text/plain": [
       "   month_of_release       revenue months\n",
       "0               apr  2.034742e+08    apr\n",
       "1               aug  1.389043e+08    aug\n",
       "2               dec  2.030361e+08    dec\n",
       "3               feb  1.544119e+08    feb\n",
       "4               jan  1.144024e+08    jan\n",
       "5               jul  2.026347e+08    jul\n",
       "6               jun  2.791200e+08    jun\n",
       "7               mar  1.873266e+08    mar\n",
       "8               may  3.127802e+08    may\n",
       "9               nov  2.411273e+08    nov\n",
       "10              oct  1.596839e+08    oct\n",
       "11              sep  1.425701e+08    sep"
      ]
     },
     "execution_count": 188,
     "metadata": {},
     "output_type": "execute_result"
    }
   ],
   "source": [
    "ref=[\"jan\",\"feb\",\"mar\",\"apr\",\"may\",'jun',\"jul\",\"aug\",\"sep\",\"oct\",\"nov\",\"dec\"]\n",
    "gr_month"
   ]
  },
  {
   "cell_type": "code",
   "execution_count": 189,
   "id": "b3f5149e",
   "metadata": {},
   "outputs": [],
   "source": [
    "gr_month.drop(9,inplace=True)"
   ]
  },
  {
   "cell_type": "code",
   "execution_count": 191,
   "id": "5a49cbd2",
   "metadata": {},
   "outputs": [
    {
     "data": {
      "text/plain": [
       "<AxesSubplot:xlabel='months', ylabel='revenue'>"
      ]
     },
     "execution_count": 191,
     "metadata": {},
     "output_type": "execute_result"
    },
    {
     "data": {
      "image/png": "[encoded data removed]",
      "text/plain": [
       "<Figure size 864x504 with 1 Axes>"
      ]
     },
     "metadata": {
      "needs_background": "light"
     },
     "output_type": "display_data"
    }
   ],
   "source": [
    "# plotting the graph \n",
    "plt.figure(figsize=(12,7))\n",
    "sns.barplot(data=gr_month,x=\"months\",y=\"revenue\",order=ref)"
   ]
  },
  {
   "cell_type": "code",
   "execution_count": null,
   "id": "6c17ca33",
   "metadata": {},
   "outputs": [],
   "source": [
    "# we can see that most highest grossing movies are released in the month of may and june "
   ]
  },
  {
   "cell_type": "code",
   "execution_count": null,
   "id": "3028f91f",
   "metadata": {},
   "outputs": [],
   "source": []
  },
  {
   "cell_type": "code",
   "execution_count": null,
   "id": "c865787d",
   "metadata": {},
   "outputs": [],
   "source": []
  },
  {
   "cell_type": "code",
   "execution_count": null,
   "id": "953d9bdf",
   "metadata": {},
   "outputs": [],
   "source": []
  },
  {
   "cell_type": "code",
   "execution_count": null,
   "id": "a90685af",
   "metadata": {},
   "outputs": [],
   "source": []
  },
  {
   "cell_type": "code",
   "execution_count": 102,
   "id": "07f8e197",
   "metadata": {},
   "outputs": [],
   "source": [
    "#number of movies released on a particular day "
   ]
  },
  {
   "cell_type": "code",
   "execution_count": 192,
   "id": "9ad480bc",
   "metadata": {},
   "outputs": [],
   "source": [
    "#df_meta.head().transpose()"
   ]
  },
  {
   "cell_type": "code",
   "execution_count": 104,
   "id": "51f62291",
   "metadata": {},
   "outputs": [
    {
     "data": {
      "text/plain": [
       "'1991-10-03'"
      ]
     },
     "execution_count": 104,
     "metadata": {},
     "output_type": "execute_result"
    }
   ],
   "source": [
    "df_meta[\"release_date\"][1234]"
   ]
  },
  {
   "cell_type": "code",
   "execution_count": 105,
   "id": "ae6a9df0",
   "metadata": {},
   "outputs": [],
   "source": [
    "import datetime"
   ]
  },
  {
   "cell_type": "code",
   "execution_count": 106,
   "id": "5afcd3f3",
   "metadata": {},
   "outputs": [],
   "source": [
    "# extract_day function helps us to get the day on which a particular movie was released\n",
    "day_lis=[\"mon\",\"tue\",\"wed\",\"thu\",\"fri\",\"sat\",\"sun\"]\n",
    "def extract_day(x):\n",
    "    try:\n",
    "        y,m,t=(int(i) for i in x.split(sep=\"-\"))\n",
    "        ans=datetime.date(y,m,t).weekday()\n",
    "        return day_lis[ans]\n",
    "    except:\n",
    "        return np.nan\n",
    "    \n",
    "        \n",
    "        \n",
    "        "
   ]
  },
  {
   "cell_type": "code",
   "execution_count": null,
   "id": "cfcc0fc6",
   "metadata": {},
   "outputs": [],
   "source": []
  },
  {
   "cell_type": "code",
   "execution_count": 107,
   "id": "f65ea95f",
   "metadata": {},
   "outputs": [],
   "source": [
    "df_meta[\"day_of_release\"]=df_meta[\"release_date\"].apply(extract_day)"
   ]
  },
  {
   "cell_type": "code",
   "execution_count": 108,
   "id": "0d339954",
   "metadata": {},
   "outputs": [],
   "source": [
    "#df_meta.head(1).transpose()"
   ]
  },
  {
   "cell_type": "code",
   "execution_count": 109,
   "id": "f2c1ca93",
   "metadata": {},
   "outputs": [],
   "source": [
    "day_df=pd.DataFrame(df_meta[\"day_of_release\"].value_counts())"
   ]
  },
  {
   "cell_type": "code",
   "execution_count": 110,
   "id": "313e7180",
   "metadata": {},
   "outputs": [],
   "source": [
    "day_df[\"days\"]=day_df.index"
   ]
  },
  {
   "cell_type": "code",
   "execution_count": 111,
   "id": "728ab276",
   "metadata": {},
   "outputs": [
    {
     "data": {
      "text/plain": [
       "<AxesSubplot:xlabel='days', ylabel='day_of_release'>"
      ]
     },
     "execution_count": 111,
     "metadata": {},
     "output_type": "execute_result"
    },
    {
     "data": {
      "image/png": "[encoded data removed]",
      "text/plain": [
       "<Figure size 432x288 with 1 Axes>"
      ]
     },
     "metadata": {
      "needs_background": "light"
     },
     "output_type": "display_data"
    }
   ],
   "source": [
    "# with the help of the barplot we can easily see that the most of the movies were released on friday , as friday marks the \n",
    "# beginning of the weekend \n",
    "sns.barplot(data=day_df,x=\"days\",y=\"day_of_release\",order=day_lis)"
   ]
  },
  {
   "cell_type": "code",
   "execution_count": null,
   "id": "8baf2a04",
   "metadata": {},
   "outputs": [],
   "source": []
  },
  {
   "cell_type": "code",
   "execution_count": null,
   "id": "4c2830c4",
   "metadata": {},
   "outputs": [],
   "source": []
  },
  {
   "cell_type": "code",
   "execution_count": null,
   "id": "c46ee268",
   "metadata": {},
   "outputs": [],
   "source": []
  },
  {
   "cell_type": "code",
   "execution_count": null,
   "id": "588d7120",
   "metadata": {},
   "outputs": [],
   "source": []
  },
  {
   "cell_type": "code",
   "execution_count": 112,
   "id": "b3fe4787",
   "metadata": {},
   "outputs": [],
   "source": [
    "# number of movires released by the year"
   ]
  },
  {
   "cell_type": "code",
   "execution_count": 113,
   "id": "b37f48f3",
   "metadata": {},
   "outputs": [],
   "source": [
    "year_df=pd.DataFrame(df_meta.groupby(by=\"year_of_release\")[\"title\"].count())"
   ]
  },
  {
   "cell_type": "code",
   "execution_count": 114,
   "id": "297c9936",
   "metadata": {},
   "outputs": [],
   "source": [
    "year_df[\"year\"]=year_df.index"
   ]
  },
  {
   "cell_type": "code",
   "execution_count": 115,
   "id": "af35295a",
   "metadata": {},
   "outputs": [],
   "source": [
    "year_df.drop(index=[0,1,12,22],inplace=True)"
   ]
  },
  {
   "cell_type": "code",
   "execution_count": 116,
   "id": "123c1f55",
   "metadata": {},
   "outputs": [
    {
     "data": {
      "text/plain": [
       "<AxesSubplot:xlabel='year', ylabel='title'>"
      ]
     },
     "execution_count": 116,
     "metadata": {},
     "output_type": "execute_result"
    },
    {
     "data": {
      "image/png": "[encoded data removed]",
      "text/plain": [
       "<Figure size 1440x504 with 1 Axes>"
      ]
     },
     "metadata": {
      "needs_background": "light"
     },
     "output_type": "display_data"
    }
   ],
   "source": [
    "# after some data cleaning and after plotting the graph we can see that there was a surge\n",
    "# in the number of movies released in between 2000 and 2020\n",
    "plt.figure(figsize=(20,7))\n",
    "sns.lineplot(data=year_df,x=\"year\",y=\"title\")"
   ]
  },
  {
   "cell_type": "code",
   "execution_count": 117,
   "id": "e9759b13",
   "metadata": {},
   "outputs": [
    {
     "data": {
      "text/plain": [
       "0        1995\n",
       "1        1995\n",
       "2        1995\n",
       "3        1995\n",
       "4        1995\n",
       "         ... \n",
       "45461       0\n",
       "45462    2011\n",
       "45463    2003\n",
       "45464    1917\n",
       "45465    2017\n",
       "Name: year_of_release, Length: 45466, dtype: int64"
      ]
     },
     "execution_count": 117,
     "metadata": {},
     "output_type": "execute_result"
    }
   ],
   "source": [
    "df_meta['year_of_release']"
   ]
  },
  {
   "cell_type": "code",
   "execution_count": 118,
   "id": "97a3b5fc",
   "metadata": {},
   "outputs": [],
   "source": [
    "# top 10 oldest movies in the database "
   ]
  },
  {
   "cell_type": "code",
   "execution_count": 119,
   "id": "8bdbf0d4",
   "metadata": {},
   "outputs": [],
   "source": [
    "oldmov_df=(df_meta[df_meta[[\"year_of_release\",\"title\"]]!=(np.nan)]).sort_values(by=\"year_of_release\",ascending=True)[[\"title\",\"year_of_release\"]]"
   ]
  },
  {
   "cell_type": "code",
   "execution_count": 120,
   "id": "af6fccb8",
   "metadata": {},
   "outputs": [
    {
     "data": {
      "text/html": [
       "<div>\n",
       "<style scoped>\n",
       "    .dataframe tbody tr th:only-of-type {\n",
       "        vertical-align: middle;\n",
       "    }\n",
       "\n",
       "    .dataframe tbody tr th {\n",
       "        vertical-align: top;\n",
       "    }\n",
       "\n",
       "    .dataframe thead th {\n",
       "        text-align: right;\n",
       "    }\n",
       "</style>\n",
       "<table border=\"1\" class=\"dataframe\">\n",
       "  <thead>\n",
       "    <tr style=\"text-align: right;\">\n",
       "      <th></th>\n",
       "      <th>title</th>\n",
       "      <th>year_of_release</th>\n",
       "    </tr>\n",
       "  </thead>\n",
       "  <tbody>\n",
       "    <tr>\n",
       "      <th>34940</th>\n",
       "      <td>Passage of Venus</td>\n",
       "      <td>1874</td>\n",
       "    </tr>\n",
       "    <tr>\n",
       "      <th>34937</th>\n",
       "      <td>Sallie Gardner at a Gallop</td>\n",
       "      <td>1878</td>\n",
       "    </tr>\n",
       "    <tr>\n",
       "      <th>41602</th>\n",
       "      <td>Buffalo Running</td>\n",
       "      <td>1883</td>\n",
       "    </tr>\n",
       "    <tr>\n",
       "      <th>34933</th>\n",
       "      <td>Man Walking Around a Corner</td>\n",
       "      <td>1887</td>\n",
       "    </tr>\n",
       "    <tr>\n",
       "      <th>34934</th>\n",
       "      <td>Accordion Player</td>\n",
       "      <td>1888</td>\n",
       "    </tr>\n",
       "    <tr>\n",
       "      <th>34938</th>\n",
       "      <td>Traffic Crossing Leeds Bridge</td>\n",
       "      <td>1888</td>\n",
       "    </tr>\n",
       "    <tr>\n",
       "      <th>34935</th>\n",
       "      <td>Monkeyshines, No. 1</td>\n",
       "      <td>1890</td>\n",
       "    </tr>\n",
       "    <tr>\n",
       "      <th>39954</th>\n",
       "      <td>Monkeyshines, No. 3</td>\n",
       "      <td>1890</td>\n",
       "    </tr>\n",
       "    <tr>\n",
       "      <th>41194</th>\n",
       "      <td>Mosquinha</td>\n",
       "      <td>1890</td>\n",
       "    </tr>\n",
       "    <tr>\n",
       "      <th>34939</th>\n",
       "      <td>London's Trafalgar Square</td>\n",
       "      <td>1890</td>\n",
       "    </tr>\n",
       "  </tbody>\n",
       "</table>\n",
       "</div>"
      ],
      "text/plain": [
       "                               title  year_of_release\n",
       "34940               Passage of Venus             1874\n",
       "34937     Sallie Gardner at a Gallop             1878\n",
       "41602                Buffalo Running             1883\n",
       "34933    Man Walking Around a Corner             1887\n",
       "34934               Accordion Player             1888\n",
       "34938  Traffic Crossing Leeds Bridge             1888\n",
       "34935            Monkeyshines, No. 1             1890\n",
       "39954            Monkeyshines, No. 3             1890\n",
       "41194                      Mosquinha             1890\n",
       "34939      London's Trafalgar Square             1890"
      ]
     },
     "execution_count": 120,
     "metadata": {},
     "output_type": "execute_result"
    }
   ],
   "source": [
    "# these are the to 10 oldest movies\n",
    "oldmov_df[oldmov_df[\"year_of_release\"]>1800].sort_values(by=\"year_of_release\").head(10)"
   ]
  },
  {
   "cell_type": "code",
   "execution_count": 193,
   "id": "4d93a936",
   "metadata": {},
   "outputs": [],
   "source": [
    "#oldmov_df[(oldmov_df[\"title\"]!=np.nan) & (oldmov_df[\"year_of_release\"]!=0)][[\"year_of_release\",\"title\"]]"
   ]
  },
  {
   "cell_type": "code",
   "execution_count": null,
   "id": "2756335a",
   "metadata": {},
   "outputs": [],
   "source": []
  },
  {
   "cell_type": "code",
   "execution_count": null,
   "id": "0fbb30a9",
   "metadata": {},
   "outputs": [],
   "source": [
    "# to 10 latest movies "
   ]
  },
  {
   "cell_type": "code",
   "execution_count": 198,
   "id": "7a30fb43",
   "metadata": {},
   "outputs": [
    {
     "data": {
      "text/html": [
       "<div>\n",
       "<style scoped>\n",
       "    .dataframe tbody tr th:only-of-type {\n",
       "        vertical-align: middle;\n",
       "    }\n",
       "\n",
       "    .dataframe tbody tr th {\n",
       "        vertical-align: top;\n",
       "    }\n",
       "\n",
       "    .dataframe thead th {\n",
       "        text-align: right;\n",
       "    }\n",
       "</style>\n",
       "<table border=\"1\" class=\"dataframe\">\n",
       "  <thead>\n",
       "    <tr style=\"text-align: right;\">\n",
       "      <th></th>\n",
       "      <th>title</th>\n",
       "      <th>year_of_release</th>\n",
       "    </tr>\n",
       "  </thead>\n",
       "  <tbody>\n",
       "    <tr>\n",
       "      <th>26559</th>\n",
       "      <td>Avatar 2</td>\n",
       "      <td>2020</td>\n",
       "    </tr>\n",
       "    <tr>\n",
       "      <th>38130</th>\n",
       "      <td>Mary Shelley</td>\n",
       "      <td>2018</td>\n",
       "    </tr>\n",
       "    <tr>\n",
       "      <th>33359</th>\n",
       "      <td>Iron Sky: The Coming Race</td>\n",
       "      <td>2018</td>\n",
       "    </tr>\n",
       "    <tr>\n",
       "      <th>38885</th>\n",
       "      <td>The Other Side of the Wind</td>\n",
       "      <td>2018</td>\n",
       "    </tr>\n",
       "    <tr>\n",
       "      <th>30402</th>\n",
       "      <td>Bad Boys for Life</td>\n",
       "      <td>2018</td>\n",
       "    </tr>\n",
       "    <tr>\n",
       "      <th>44535</th>\n",
       "      <td>Mobile Homes</td>\n",
       "      <td>2018</td>\n",
       "    </tr>\n",
       "    <tr>\n",
       "      <th>42701</th>\n",
       "      <td>Asteria</td>\n",
       "      <td>2017</td>\n",
       "    </tr>\n",
       "    <tr>\n",
       "      <th>42654</th>\n",
       "      <td>Britney Ever After</td>\n",
       "      <td>2017</td>\n",
       "    </tr>\n",
       "    <tr>\n",
       "      <th>42684</th>\n",
       "      <td>Nick Cannon: Stand Up, Don't Shoot</td>\n",
       "      <td>2017</td>\n",
       "    </tr>\n",
       "    <tr>\n",
       "      <th>42687</th>\n",
       "      <td>Fair Haven</td>\n",
       "      <td>2017</td>\n",
       "    </tr>\n",
       "  </tbody>\n",
       "</table>\n",
       "</div>"
      ],
      "text/plain": [
       "                                    title  year_of_release\n",
       "26559                            Avatar 2             2020\n",
       "38130                        Mary Shelley             2018\n",
       "33359           Iron Sky: The Coming Race             2018\n",
       "38885          The Other Side of the Wind             2018\n",
       "30402                   Bad Boys for Life             2018\n",
       "44535                        Mobile Homes             2018\n",
       "42701                             Asteria             2017\n",
       "42654                  Britney Ever After             2017\n",
       "42684  Nick Cannon: Stand Up, Don't Shoot             2017\n",
       "42687                          Fair Haven             2017"
      ]
     },
     "execution_count": 198,
     "metadata": {},
     "output_type": "execute_result"
    }
   ],
   "source": [
    "oldmov_df[oldmov_df[\"year_of_release\"]>1800].sort_values(by=\"year_of_release\",ascending=False).head(10) "
   ]
  },
  {
   "cell_type": "code",
   "execution_count": null,
   "id": "76673787",
   "metadata": {},
   "outputs": [],
   "source": []
  },
  {
   "cell_type": "code",
   "execution_count": 122,
   "id": "9be16a77",
   "metadata": {},
   "outputs": [],
   "source": [
    "# spoken language analysis "
   ]
  },
  {
   "cell_type": "code",
   "execution_count": 123,
   "id": "5ba21f7a",
   "metadata": {},
   "outputs": [],
   "source": [
    "# the analysis_spokenlanguage gives us the count of the number of languages in which the movie is avaliable\n",
    "df_meta[\"analysis_spokenlanguage\"]=df_meta[\"spoken_languages\"].fillna(\"[]\").apply(ast.literal_eval)"
   ]
  },
  {
   "cell_type": "code",
   "execution_count": 124,
   "id": "9f3eccb1",
   "metadata": {},
   "outputs": [],
   "source": [
    "df_meta[\"analysis_spokenlanguage\"]=df_meta[\"analysis_spokenlanguage\"].apply(lambda x: len(x) if isinstance(x,list) else np.nan)"
   ]
  },
  {
   "cell_type": "code",
   "execution_count": 125,
   "id": "f94c7c91",
   "metadata": {},
   "outputs": [
    {
     "data": {
      "text/html": [
       "<div>\n",
       "<style scoped>\n",
       "    .dataframe tbody tr th:only-of-type {\n",
       "        vertical-align: middle;\n",
       "    }\n",
       "\n",
       "    .dataframe tbody tr th {\n",
       "        vertical-align: top;\n",
       "    }\n",
       "\n",
       "    .dataframe thead th {\n",
       "        text-align: right;\n",
       "    }\n",
       "</style>\n",
       "<table border=\"1\" class=\"dataframe\">\n",
       "  <thead>\n",
       "    <tr style=\"text-align: right;\">\n",
       "      <th></th>\n",
       "      <th>analysis_spokenlanguage</th>\n",
       "      <th>title</th>\n",
       "    </tr>\n",
       "  </thead>\n",
       "  <tbody>\n",
       "    <tr>\n",
       "      <th>22235</th>\n",
       "      <td>19</td>\n",
       "      <td>Visions of Europe</td>\n",
       "    </tr>\n",
       "    <tr>\n",
       "      <th>35288</th>\n",
       "      <td>13</td>\n",
       "      <td>The Testaments</td>\n",
       "    </tr>\n",
       "    <tr>\n",
       "      <th>14093</th>\n",
       "      <td>12</td>\n",
       "      <td>To Each His Own Cinema</td>\n",
       "    </tr>\n",
       "    <tr>\n",
       "      <th>8789</th>\n",
       "      <td>10</td>\n",
       "      <td>The Adventures of Picasso</td>\n",
       "    </tr>\n",
       "    <tr>\n",
       "      <th>33420</th>\n",
       "      <td>9</td>\n",
       "      <td>Human</td>\n",
       "    </tr>\n",
       "    <tr>\n",
       "      <th>44983</th>\n",
       "      <td>9</td>\n",
       "      <td>The Life</td>\n",
       "    </tr>\n",
       "    <tr>\n",
       "      <th>33043</th>\n",
       "      <td>9</td>\n",
       "      <td>Son of Saul</td>\n",
       "    </tr>\n",
       "    <tr>\n",
       "      <th>14416</th>\n",
       "      <td>9</td>\n",
       "      <td>2012</td>\n",
       "    </tr>\n",
       "    <tr>\n",
       "      <th>17158</th>\n",
       "      <td>9</td>\n",
       "      <td>Pina</td>\n",
       "    </tr>\n",
       "    <tr>\n",
       "      <th>10336</th>\n",
       "      <td>8</td>\n",
       "      <td>Lord of War</td>\n",
       "    </tr>\n",
       "  </tbody>\n",
       "</table>\n",
       "</div>"
      ],
      "text/plain": [
       "       analysis_spokenlanguage                      title\n",
       "22235                       19          Visions of Europe\n",
       "35288                       13             The Testaments\n",
       "14093                       12     To Each His Own Cinema\n",
       "8789                        10  The Adventures of Picasso\n",
       "33420                        9                      Human\n",
       "44983                        9                   The Life\n",
       "33043                        9                Son of Saul\n",
       "14416                        9                       2012\n",
       "17158                        9                       Pina\n",
       "10336                        8                Lord of War"
      ]
     },
     "execution_count": 125,
     "metadata": {},
     "output_type": "execute_result"
    }
   ],
   "source": [
    "df_meta[[\"analysis_spokenlanguage\",\"title\"]].sort_values(by=\"analysis_spokenlanguage\",ascending=False).head(10)"
   ]
  },
  {
   "cell_type": "code",
   "execution_count": null,
   "id": "a73664f4",
   "metadata": {},
   "outputs": [],
   "source": []
  },
  {
   "cell_type": "code",
   "execution_count": null,
   "id": "c328ca65",
   "metadata": {},
   "outputs": [],
   "source": []
  },
  {
   "cell_type": "code",
   "execution_count": null,
   "id": "7b7befb6",
   "metadata": {},
   "outputs": [],
   "source": []
  },
  {
   "cell_type": "code",
   "execution_count": null,
   "id": "a69f6685",
   "metadata": {},
   "outputs": [],
   "source": [
    "    "
   ]
  },
  {
   "cell_type": "code",
   "execution_count": null,
   "id": "30dae0ce",
   "metadata": {},
   "outputs": [],
   "source": []
  },
  {
   "cell_type": "code",
   "execution_count": 195,
   "id": "e412b626",
   "metadata": {},
   "outputs": [],
   "source": [
    "# runtime of movies "
   ]
  },
  {
   "cell_type": "code",
   "execution_count": 194,
   "id": "22a1a446",
   "metadata": {},
   "outputs": [
    {
     "data": {
      "text/plain": [
       "<seaborn.axisgrid.FacetGrid at 0x2bde8fa8d30>"
      ]
     },
     "execution_count": 194,
     "metadata": {},
     "output_type": "execute_result"
    },
    {
     "data": {
      "image/png": "[encoded data removed]",
      "text/plain": [
       "<Figure size 360x360 with 1 Axes>"
      ]
     },
     "metadata": {
      "needs_background": "light"
     },
     "output_type": "display_data"
    }
   ],
   "source": [
    "sns.displot(df_meta[\"runtime\"])\n",
    "# since here we can see that the runtime mainly lies between 0-300 so we cosntruct a zoomed in graph for the same "
   ]
  },
  {
   "cell_type": "code",
   "execution_count": 128,
   "id": "ebb04a15",
   "metadata": {},
   "outputs": [
    {
     "data": {
      "text/html": [
       "<div>\n",
       "<style scoped>\n",
       "    .dataframe tbody tr th:only-of-type {\n",
       "        vertical-align: middle;\n",
       "    }\n",
       "\n",
       "    .dataframe tbody tr th {\n",
       "        vertical-align: top;\n",
       "    }\n",
       "\n",
       "    .dataframe thead th {\n",
       "        text-align: right;\n",
       "    }\n",
       "</style>\n",
       "<table border=\"1\" class=\"dataframe\">\n",
       "  <thead>\n",
       "    <tr style=\"text-align: right;\">\n",
       "      <th></th>\n",
       "      <th>title</th>\n",
       "      <th>runtime</th>\n",
       "    </tr>\n",
       "  </thead>\n",
       "  <tbody>\n",
       "    <tr>\n",
       "      <th>0</th>\n",
       "      <td>Toy Story</td>\n",
       "      <td>81.0</td>\n",
       "    </tr>\n",
       "    <tr>\n",
       "      <th>1</th>\n",
       "      <td>Jumanji</td>\n",
       "      <td>104.0</td>\n",
       "    </tr>\n",
       "    <tr>\n",
       "      <th>2</th>\n",
       "      <td>Grumpier Old Men</td>\n",
       "      <td>101.0</td>\n",
       "    </tr>\n",
       "    <tr>\n",
       "      <th>3</th>\n",
       "      <td>Waiting to Exhale</td>\n",
       "      <td>127.0</td>\n",
       "    </tr>\n",
       "    <tr>\n",
       "      <th>4</th>\n",
       "      <td>Father of the Bride Part II</td>\n",
       "      <td>106.0</td>\n",
       "    </tr>\n",
       "    <tr>\n",
       "      <th>...</th>\n",
       "      <td>...</td>\n",
       "      <td>...</td>\n",
       "    </tr>\n",
       "    <tr>\n",
       "      <th>45460</th>\n",
       "      <td>Robin Hood</td>\n",
       "      <td>104.0</td>\n",
       "    </tr>\n",
       "    <tr>\n",
       "      <th>45461</th>\n",
       "      <td>Subdue</td>\n",
       "      <td>90.0</td>\n",
       "    </tr>\n",
       "    <tr>\n",
       "      <th>45463</th>\n",
       "      <td>Betrayal</td>\n",
       "      <td>90.0</td>\n",
       "    </tr>\n",
       "    <tr>\n",
       "      <th>45464</th>\n",
       "      <td>Satan Triumphant</td>\n",
       "      <td>87.0</td>\n",
       "    </tr>\n",
       "    <tr>\n",
       "      <th>45465</th>\n",
       "      <td>Queerama</td>\n",
       "      <td>75.0</td>\n",
       "    </tr>\n",
       "  </tbody>\n",
       "</table>\n",
       "<p>43525 rows × 2 columns</p>\n",
       "</div>"
      ],
      "text/plain": [
       "                             title  runtime\n",
       "0                        Toy Story     81.0\n",
       "1                          Jumanji    104.0\n",
       "2                 Grumpier Old Men    101.0\n",
       "3                Waiting to Exhale    127.0\n",
       "4      Father of the Bride Part II    106.0\n",
       "...                            ...      ...\n",
       "45460                   Robin Hood    104.0\n",
       "45461                       Subdue     90.0\n",
       "45463                     Betrayal     90.0\n",
       "45464             Satan Triumphant     87.0\n",
       "45465                     Queerama     75.0\n",
       "\n",
       "[43525 rows x 2 columns]"
      ]
     },
     "execution_count": 128,
     "metadata": {},
     "output_type": "execute_result"
    }
   ],
   "source": [
    "df_meta[(df_meta[\"runtime\"]>0) & (df_meta[\"runtime\"]<300)][[\"title\",\"runtime\"]]"
   ]
  },
  {
   "cell_type": "code",
   "execution_count": 129,
   "id": "f0f8a8d8",
   "metadata": {},
   "outputs": [
    {
     "data": {
      "text/plain": [
       "<seaborn.axisgrid.FacetGrid at 0x2bdc762cb50>"
      ]
     },
     "execution_count": 129,
     "metadata": {},
     "output_type": "execute_result"
    },
    {
     "data": {
      "image/png": "[encoded data removed]",
      "text/plain": [
       "<Figure size 360x360 with 1 Axes>"
      ]
     },
     "metadata": {
      "needs_background": "light"
     },
     "output_type": "display_data"
    }
   ],
   "source": [
    "sns.displot(df_meta[(df_meta[\"runtime\"]>0) & (df_meta[\"runtime\"]<300)][\"runtime\"])"
   ]
  },
  {
   "cell_type": "code",
   "execution_count": 196,
   "id": "1917747d",
   "metadata": {},
   "outputs": [],
   "source": [
    "# we can see that most movies have a runtime of almost 100-120 minutes"
   ]
  },
  {
   "cell_type": "code",
   "execution_count": null,
   "id": "eac32fab",
   "metadata": {},
   "outputs": [],
   "source": []
  },
  {
   "cell_type": "code",
   "execution_count": null,
   "id": "74847e06",
   "metadata": {},
   "outputs": [],
   "source": [
    "# shortest movies "
   ]
  },
  {
   "cell_type": "code",
   "execution_count": 201,
   "id": "237d4903",
   "metadata": {},
   "outputs": [
    {
     "data": {
      "text/html": [
       "<div>\n",
       "<style scoped>\n",
       "    .dataframe tbody tr th:only-of-type {\n",
       "        vertical-align: middle;\n",
       "    }\n",
       "\n",
       "    .dataframe tbody tr th {\n",
       "        vertical-align: top;\n",
       "    }\n",
       "\n",
       "    .dataframe thead th {\n",
       "        text-align: right;\n",
       "    }\n",
       "</style>\n",
       "<table border=\"1\" class=\"dataframe\">\n",
       "  <thead>\n",
       "    <tr style=\"text-align: right;\">\n",
       "      <th></th>\n",
       "      <th>title</th>\n",
       "      <th>runtime</th>\n",
       "      <th>year_of_release</th>\n",
       "    </tr>\n",
       "  </thead>\n",
       "  <tbody>\n",
       "    <tr>\n",
       "      <th>35146</th>\n",
       "      <td>La Vague</td>\n",
       "      <td>1.0</td>\n",
       "      <td>1891</td>\n",
       "    </tr>\n",
       "    <tr>\n",
       "      <th>36577</th>\n",
       "      <td>Champs de Mars</td>\n",
       "      <td>1.0</td>\n",
       "      <td>1900</td>\n",
       "    </tr>\n",
       "    <tr>\n",
       "      <th>36576</th>\n",
       "      <td>Palace of Electricity</td>\n",
       "      <td>1.0</td>\n",
       "      <td>1900</td>\n",
       "    </tr>\n",
       "    <tr>\n",
       "      <th>44965</th>\n",
       "      <td>Luis Martinetti, Contortionist</td>\n",
       "      <td>1.0</td>\n",
       "      <td>1894</td>\n",
       "    </tr>\n",
       "    <tr>\n",
       "      <th>42357</th>\n",
       "      <td>A Gathering of Cats</td>\n",
       "      <td>1.0</td>\n",
       "      <td>2007</td>\n",
       "    </tr>\n",
       "    <tr>\n",
       "      <th>36575</th>\n",
       "      <td>Eiffel Tower from Trocadero Palace</td>\n",
       "      <td>1.0</td>\n",
       "      <td>1900</td>\n",
       "    </tr>\n",
       "    <tr>\n",
       "      <th>36574</th>\n",
       "      <td>Panorama of Eiffel Tower</td>\n",
       "      <td>1.0</td>\n",
       "      <td>1900</td>\n",
       "    </tr>\n",
       "    <tr>\n",
       "      <th>44714</th>\n",
       "      <td>The Infernal Caldron</td>\n",
       "      <td>1.0</td>\n",
       "      <td>1903</td>\n",
       "    </tr>\n",
       "    <tr>\n",
       "      <th>19244</th>\n",
       "      <td>The Kiss</td>\n",
       "      <td>1.0</td>\n",
       "      <td>1896</td>\n",
       "    </tr>\n",
       "    <tr>\n",
       "      <th>44646</th>\n",
       "      <td>The Vanishing Lady</td>\n",
       "      <td>1.0</td>\n",
       "      <td>1896</td>\n",
       "    </tr>\n",
       "  </tbody>\n",
       "</table>\n",
       "</div>"
      ],
      "text/plain": [
       "                                    title  runtime  year_of_release\n",
       "35146                            La Vague      1.0             1891\n",
       "36577                      Champs de Mars      1.0             1900\n",
       "36576               Palace of Electricity      1.0             1900\n",
       "44965      Luis Martinetti, Contortionist      1.0             1894\n",
       "42357                 A Gathering of Cats      1.0             2007\n",
       "36575  Eiffel Tower from Trocadero Palace      1.0             1900\n",
       "36574            Panorama of Eiffel Tower      1.0             1900\n",
       "44714                The Infernal Caldron      1.0             1903\n",
       "19244                            The Kiss      1.0             1896\n",
       "44646                  The Vanishing Lady      1.0             1896"
      ]
     },
     "execution_count": 201,
     "metadata": {},
     "output_type": "execute_result"
    }
   ],
   "source": [
    "# these movies are 1 minute each\n",
    "df_meta[(df_meta[\"runtime\"]>0)][[\"title\",\"runtime\",\"year_of_release\"]].sort_values(by=\"runtime\",ascending=True).head(10)"
   ]
  },
  {
   "cell_type": "code",
   "execution_count": 202,
   "id": "b02b2a3e",
   "metadata": {},
   "outputs": [],
   "source": [
    "# longest movies "
   ]
  },
  {
   "cell_type": "code",
   "execution_count": 203,
   "id": "15c048dc",
   "metadata": {},
   "outputs": [
    {
     "data": {
      "text/html": [
       "<div>\n",
       "<style scoped>\n",
       "    .dataframe tbody tr th:only-of-type {\n",
       "        vertical-align: middle;\n",
       "    }\n",
       "\n",
       "    .dataframe tbody tr th {\n",
       "        vertical-align: top;\n",
       "    }\n",
       "\n",
       "    .dataframe thead th {\n",
       "        text-align: right;\n",
       "    }\n",
       "</style>\n",
       "<table border=\"1\" class=\"dataframe\">\n",
       "  <thead>\n",
       "    <tr style=\"text-align: right;\">\n",
       "      <th></th>\n",
       "      <th>title</th>\n",
       "      <th>runtime</th>\n",
       "      <th>year_of_release</th>\n",
       "    </tr>\n",
       "  </thead>\n",
       "  <tbody>\n",
       "    <tr>\n",
       "      <th>24178</th>\n",
       "      <td>Centennial</td>\n",
       "      <td>1256.0</td>\n",
       "      <td>1978</td>\n",
       "    </tr>\n",
       "    <tr>\n",
       "      <th>40938</th>\n",
       "      <td>Baseball</td>\n",
       "      <td>1140.0</td>\n",
       "      <td>1994</td>\n",
       "    </tr>\n",
       "    <tr>\n",
       "      <th>19965</th>\n",
       "      <td>Jazz</td>\n",
       "      <td>1140.0</td>\n",
       "      <td>2001</td>\n",
       "    </tr>\n",
       "    <tr>\n",
       "      <th>13767</th>\n",
       "      <td>Berlin Alexanderplatz</td>\n",
       "      <td>931.0</td>\n",
       "      <td>1980</td>\n",
       "    </tr>\n",
       "    <tr>\n",
       "      <th>13953</th>\n",
       "      <td>Heimat: A Chronicle of Germany</td>\n",
       "      <td>925.0</td>\n",
       "      <td>1984</td>\n",
       "    </tr>\n",
       "    <tr>\n",
       "      <th>27855</th>\n",
       "      <td>The Story of Film: An Odyssey</td>\n",
       "      <td>900.0</td>\n",
       "      <td>2011</td>\n",
       "    </tr>\n",
       "    <tr>\n",
       "      <th>26682</th>\n",
       "      <td>Taken</td>\n",
       "      <td>877.0</td>\n",
       "      <td>2002</td>\n",
       "    </tr>\n",
       "    <tr>\n",
       "      <th>19158</th>\n",
       "      <td>The War</td>\n",
       "      <td>874.0</td>\n",
       "      <td>2007</td>\n",
       "    </tr>\n",
       "    <tr>\n",
       "      <th>34667</th>\n",
       "      <td>The Roosevelts: An Intimate History</td>\n",
       "      <td>840.0</td>\n",
       "      <td>2014</td>\n",
       "    </tr>\n",
       "    <tr>\n",
       "      <th>34732</th>\n",
       "      <td>Seventeen Moments in Spring</td>\n",
       "      <td>840.0</td>\n",
       "      <td>1973</td>\n",
       "    </tr>\n",
       "  </tbody>\n",
       "</table>\n",
       "</div>"
      ],
      "text/plain": [
       "                                     title  runtime  year_of_release\n",
       "24178                           Centennial   1256.0             1978\n",
       "40938                             Baseball   1140.0             1994\n",
       "19965                                 Jazz   1140.0             2001\n",
       "13767                Berlin Alexanderplatz    931.0             1980\n",
       "13953       Heimat: A Chronicle of Germany    925.0             1984\n",
       "27855        The Story of Film: An Odyssey    900.0             2011\n",
       "26682                                Taken    877.0             2002\n",
       "19158                              The War    874.0             2007\n",
       "34667  The Roosevelts: An Intimate History    840.0             2014\n",
       "34732          Seventeen Moments in Spring    840.0             1973"
      ]
     },
     "execution_count": 203,
     "metadata": {},
     "output_type": "execute_result"
    }
   ],
   "source": [
    "df_meta[(df_meta[\"runtime\"]>0)][[\"title\",\"runtime\",\"year_of_release\"]].sort_values(by=\"runtime\",ascending=False).head(10)"
   ]
  },
  {
   "cell_type": "code",
   "execution_count": null,
   "id": "14601ff4",
   "metadata": {},
   "outputs": [],
   "source": []
  },
  {
   "cell_type": "code",
   "execution_count": 131,
   "id": "d533b4f0",
   "metadata": {},
   "outputs": [],
   "source": [
    "\n",
    "# relationship between (runtime of the movie and the budget) & (runtime and times return)"
   ]
  },
  {
   "cell_type": "code",
   "execution_count": 132,
   "id": "facdc996",
   "metadata": {},
   "outputs": [
    {
     "data": {
      "text/plain": [
       "0.13473301803345028"
      ]
     },
     "execution_count": 132,
     "metadata": {},
     "output_type": "execute_result"
    }
   ],
   "source": [
    "df_meta[\"runtime\"].corr(df_meta[\"budget\"])"
   ]
  },
  {
   "cell_type": "code",
   "execution_count": 197,
   "id": "69e5bf2b",
   "metadata": {},
   "outputs": [
    {
     "data": {
      "text/plain": [
       "nan"
      ]
     },
     "execution_count": 197,
     "metadata": {},
     "output_type": "execute_result"
    }
   ],
   "source": [
    "# there is almost no relation between the runtime and the times retun of the movie\n",
    "# this may not be as imp as the relation between runtime and bdget \n",
    "df_meta[\"runtime\"].corr(df_meta[\"times_return\"])"
   ]
  },
  {
   "cell_type": "code",
   "execution_count": null,
   "id": "9dd61be6",
   "metadata": {},
   "outputs": [],
   "source": [
    "# we see that budget and runtime have some relationship between them as compared to runtime and times return "
   ]
  },
  {
   "cell_type": "code",
   "execution_count": null,
   "id": "f6936777",
   "metadata": {},
   "outputs": [],
   "source": []
  },
  {
   "cell_type": "code",
   "execution_count": 207,
   "id": "01f1b627",
   "metadata": {},
   "outputs": [],
   "source": [
    "# now we try to get the genres of each of the movies from the given data\n",
    "df_meta[\"genres\"]=df_meta[\"genres\"].replace(\"[]\",np.nan)"
   ]
  },
  {
   "cell_type": "code",
   "execution_count": 208,
   "id": "ac7edb4c",
   "metadata": {},
   "outputs": [],
   "source": [
    "genres_df=pd.DataFrame(df_meta[[\"genres\",\"budget\",\"runtime\",\"times_return\"]])"
   ]
  },
  {
   "cell_type": "code",
   "execution_count": 209,
   "id": "c5084bc4",
   "metadata": {},
   "outputs": [],
   "source": [
    "genres_df.dropna(inplace=True)"
   ]
  },
  {
   "cell_type": "code",
   "execution_count": 210,
   "id": "df6b4dac",
   "metadata": {},
   "outputs": [],
   "source": [
    "genres_df[\"genres\"]=genres_df[\"genres\"].apply(ast.literal_eval)"
   ]
  },
  {
   "cell_type": "code",
   "execution_count": 211,
   "id": "c0d2d231",
   "metadata": {},
   "outputs": [],
   "source": [
    "# this function helps to get the generes of the movies and we make a new column to represent genres named \"only_gen\"\n",
    "def extract_gen(x):\n",
    "    l=[]\n",
    "    for i in x:\n",
    "        l.append(i[\"name\"])\n",
    "    return l"
   ]
  },
  {
   "cell_type": "code",
   "execution_count": 212,
   "id": "5819509e",
   "metadata": {},
   "outputs": [],
   "source": [
    "genres_df[\"only_gen\"]=genres_df[\"genres\"].apply(extract_gen)"
   ]
  },
  {
   "cell_type": "code",
   "execution_count": 213,
   "id": "e2951711",
   "metadata": {},
   "outputs": [
    {
     "data": {
      "text/html": [
       "<div>\n",
       "<style scoped>\n",
       "    .dataframe tbody tr th:only-of-type {\n",
       "        vertical-align: middle;\n",
       "    }\n",
       "\n",
       "    .dataframe tbody tr th {\n",
       "        vertical-align: top;\n",
       "    }\n",
       "\n",
       "    .dataframe thead th {\n",
       "        text-align: right;\n",
       "    }\n",
       "</style>\n",
       "<table border=\"1\" class=\"dataframe\">\n",
       "  <thead>\n",
       "    <tr style=\"text-align: right;\">\n",
       "      <th></th>\n",
       "      <th>genres</th>\n",
       "      <th>budget</th>\n",
       "      <th>runtime</th>\n",
       "      <th>times_return</th>\n",
       "      <th>only_gen</th>\n",
       "    </tr>\n",
       "  </thead>\n",
       "  <tbody>\n",
       "    <tr>\n",
       "      <th>0</th>\n",
       "      <td>[{'id': 16, 'name': 'Animation'}, {'id': 35, '...</td>\n",
       "      <td>30000000.0</td>\n",
       "      <td>81.0</td>\n",
       "      <td>12.451801</td>\n",
       "      <td>[Animation, Comedy, Family]</td>\n",
       "    </tr>\n",
       "    <tr>\n",
       "      <th>1</th>\n",
       "      <td>[{'id': 12, 'name': 'Adventure'}, {'id': 14, '...</td>\n",
       "      <td>65000000.0</td>\n",
       "      <td>104.0</td>\n",
       "      <td>4.043035</td>\n",
       "      <td>[Adventure, Fantasy, Family]</td>\n",
       "    </tr>\n",
       "    <tr>\n",
       "      <th>3</th>\n",
       "      <td>[{'id': 35, 'name': 'Comedy'}, {'id': 18, 'nam...</td>\n",
       "      <td>16000000.0</td>\n",
       "      <td>127.0</td>\n",
       "      <td>5.090760</td>\n",
       "      <td>[Comedy, Drama, Romance]</td>\n",
       "    </tr>\n",
       "    <tr>\n",
       "      <th>4</th>\n",
       "      <td>[{'id': 35, 'name': 'Comedy'}]</td>\n",
       "      <td>0.0</td>\n",
       "      <td>106.0</td>\n",
       "      <td>inf</td>\n",
       "      <td>[Comedy]</td>\n",
       "    </tr>\n",
       "    <tr>\n",
       "      <th>5</th>\n",
       "      <td>[{'id': 28, 'name': 'Action'}, {'id': 80, 'nam...</td>\n",
       "      <td>60000000.0</td>\n",
       "      <td>170.0</td>\n",
       "      <td>3.123947</td>\n",
       "      <td>[Action, Crime, Drama, Thriller]</td>\n",
       "    </tr>\n",
       "    <tr>\n",
       "      <th>...</th>\n",
       "      <td>...</td>\n",
       "      <td>...</td>\n",
       "      <td>...</td>\n",
       "      <td>...</td>\n",
       "      <td>...</td>\n",
       "    </tr>\n",
       "    <tr>\n",
       "      <th>45399</th>\n",
       "      <td>[{'id': 80, 'name': 'Crime'}, {'id': 35, 'name...</td>\n",
       "      <td>750000.0</td>\n",
       "      <td>0.0</td>\n",
       "      <td>0.000004</td>\n",
       "      <td>[Crime, Comedy]</td>\n",
       "    </tr>\n",
       "    <tr>\n",
       "      <th>45401</th>\n",
       "      <td>[{'id': 18, 'name': 'Drama'}, {'id': 36, 'name...</td>\n",
       "      <td>0.0</td>\n",
       "      <td>110.0</td>\n",
       "      <td>inf</td>\n",
       "      <td>[Drama, History, Mystery]</td>\n",
       "    </tr>\n",
       "    <tr>\n",
       "      <th>45409</th>\n",
       "      <td>[{'id': 35, 'name': 'Comedy'}, {'id': 18, 'nam...</td>\n",
       "      <td>800000.0</td>\n",
       "      <td>100.0</td>\n",
       "      <td>1.660765</td>\n",
       "      <td>[Comedy, Drama]</td>\n",
       "    </tr>\n",
       "    <tr>\n",
       "      <th>45412</th>\n",
       "      <td>[{'id': 10749, 'name': 'Romance'}, {'id': 18, ...</td>\n",
       "      <td>2000000.0</td>\n",
       "      <td>107.0</td>\n",
       "      <td>0.634397</td>\n",
       "      <td>[Romance, Drama]</td>\n",
       "    </tr>\n",
       "    <tr>\n",
       "      <th>45422</th>\n",
       "      <td>[{'id': 28, 'name': 'Action'}, {'id': 35, 'nam...</td>\n",
       "      <td>5000000.0</td>\n",
       "      <td>91.0</td>\n",
       "      <td>0.282600</td>\n",
       "      <td>[Action, Comedy, Crime, Foreign]</td>\n",
       "    </tr>\n",
       "  </tbody>\n",
       "</table>\n",
       "<p>7380 rows × 5 columns</p>\n",
       "</div>"
      ],
      "text/plain": [
       "                                                  genres      budget  runtime  \\\n",
       "0      [{'id': 16, 'name': 'Animation'}, {'id': 35, '...  30000000.0     81.0   \n",
       "1      [{'id': 12, 'name': 'Adventure'}, {'id': 14, '...  65000000.0    104.0   \n",
       "3      [{'id': 35, 'name': 'Comedy'}, {'id': 18, 'nam...  16000000.0    127.0   \n",
       "4                         [{'id': 35, 'name': 'Comedy'}]         0.0    106.0   \n",
       "5      [{'id': 28, 'name': 'Action'}, {'id': 80, 'nam...  60000000.0    170.0   \n",
       "...                                                  ...         ...      ...   \n",
       "45399  [{'id': 80, 'name': 'Crime'}, {'id': 35, 'name...    750000.0      0.0   \n",
       "45401  [{'id': 18, 'name': 'Drama'}, {'id': 36, 'name...         0.0    110.0   \n",
       "45409  [{'id': 35, 'name': 'Comedy'}, {'id': 18, 'nam...    800000.0    100.0   \n",
       "45412  [{'id': 10749, 'name': 'Romance'}, {'id': 18, ...   2000000.0    107.0   \n",
       "45422  [{'id': 28, 'name': 'Action'}, {'id': 35, 'nam...   5000000.0     91.0   \n",
       "\n",
       "       times_return                          only_gen  \n",
       "0         12.451801       [Animation, Comedy, Family]  \n",
       "1          4.043035      [Adventure, Fantasy, Family]  \n",
       "3          5.090760          [Comedy, Drama, Romance]  \n",
       "4               inf                          [Comedy]  \n",
       "5          3.123947  [Action, Crime, Drama, Thriller]  \n",
       "...             ...                               ...  \n",
       "45399      0.000004                   [Crime, Comedy]  \n",
       "45401           inf         [Drama, History, Mystery]  \n",
       "45409      1.660765                   [Comedy, Drama]  \n",
       "45412      0.634397                  [Romance, Drama]  \n",
       "45422      0.282600  [Action, Comedy, Crime, Foreign]  \n",
       "\n",
       "[7380 rows x 5 columns]"
      ]
     },
     "execution_count": 213,
     "metadata": {},
     "output_type": "execute_result"
    }
   ],
   "source": [
    "genres_df"
   ]
  },
  {
   "cell_type": "code",
   "execution_count": 214,
   "id": "215d4ff0",
   "metadata": {},
   "outputs": [
    {
     "data": {
      "text/plain": [
       "<seaborn.axisgrid.JointGrid at 0x2bded81a880>"
      ]
     },
     "execution_count": 214,
     "metadata": {},
     "output_type": "execute_result"
    },
    {
     "data": {
      "image/png": "[encoded data removed]",
      "text/plain": [
       "<Figure size 432x432 with 3 Axes>"
      ]
     },
     "metadata": {
      "needs_background": "light"
     },
     "output_type": "display_data"
    }
   ],
   "source": [
    "sns.jointplot(data=genres_df,x=\"budget\",y=\"runtime\",)"
   ]
  },
  {
   "cell_type": "code",
   "execution_count": 215,
   "id": "8d929c8e",
   "metadata": {},
   "outputs": [
    {
     "data": {
      "text/plain": [
       "0.2166002043574041"
      ]
     },
     "execution_count": 215,
     "metadata": {},
     "output_type": "execute_result"
    }
   ],
   "source": [
    "genres_df[\"budget\"].corr(genres_df[\"runtime\"])"
   ]
  },
  {
   "cell_type": "code",
   "execution_count": null,
   "id": "edb10d84",
   "metadata": {},
   "outputs": [],
   "source": []
  },
  {
   "cell_type": "code",
   "execution_count": null,
   "id": "e9305692",
   "metadata": {},
   "outputs": [],
   "source": []
  },
  {
   "cell_type": "code",
   "execution_count": null,
   "id": "c797e2f1",
   "metadata": {},
   "outputs": [],
   "source": []
  },
  {
   "cell_type": "code",
   "execution_count": null,
   "id": "ea54afd8",
   "metadata": {},
   "outputs": [],
   "source": []
  },
  {
   "cell_type": "code",
   "execution_count": null,
   "id": "12d47707",
   "metadata": {},
   "outputs": [],
   "source": []
  },
  {
   "cell_type": "code",
   "execution_count": 145,
   "id": "f4527a96",
   "metadata": {},
   "outputs": [],
   "source": [
    "# longest and shortest movies"
   ]
  },
  {
   "cell_type": "code",
   "execution_count": 146,
   "id": "6405500d",
   "metadata": {},
   "outputs": [],
   "source": [
    "longshort_df=pd.DataFrame(df_meta[[\"runtime\",\"title\",\"year_of_release\"]])"
   ]
  },
  {
   "cell_type": "code",
   "execution_count": 147,
   "id": "dbb1ee87",
   "metadata": {},
   "outputs": [],
   "source": [
    "longshort_df[\"runtime\"]=longshort_df[longshort_df[\"runtime\"]!=0]\n"
   ]
  },
  {
   "cell_type": "code",
   "execution_count": 148,
   "id": "f927ecc4",
   "metadata": {},
   "outputs": [],
   "source": [
    "longshort_df.dropna(inplace=True)"
   ]
  },
  {
   "cell_type": "code",
   "execution_count": 205,
   "id": "91228512",
   "metadata": {},
   "outputs": [
    {
     "data": {
      "text/html": [
       "<div>\n",
       "<style scoped>\n",
       "    .dataframe tbody tr th:only-of-type {\n",
       "        vertical-align: middle;\n",
       "    }\n",
       "\n",
       "    .dataframe tbody tr th {\n",
       "        vertical-align: top;\n",
       "    }\n",
       "\n",
       "    .dataframe thead th {\n",
       "        text-align: right;\n",
       "    }\n",
       "</style>\n",
       "<table border=\"1\" class=\"dataframe\">\n",
       "  <thead>\n",
       "    <tr style=\"text-align: right;\">\n",
       "      <th></th>\n",
       "      <th>runtime</th>\n",
       "      <th>title</th>\n",
       "      <th>year_of_release</th>\n",
       "    </tr>\n",
       "  </thead>\n",
       "  <tbody>\n",
       "    <tr>\n",
       "      <th>24178</th>\n",
       "      <td>1256.0</td>\n",
       "      <td>Centennial</td>\n",
       "      <td>1978</td>\n",
       "    </tr>\n",
       "    <tr>\n",
       "      <th>40938</th>\n",
       "      <td>1140.0</td>\n",
       "      <td>Baseball</td>\n",
       "      <td>1994</td>\n",
       "    </tr>\n",
       "    <tr>\n",
       "      <th>19965</th>\n",
       "      <td>1140.0</td>\n",
       "      <td>Jazz</td>\n",
       "      <td>2001</td>\n",
       "    </tr>\n",
       "    <tr>\n",
       "      <th>13767</th>\n",
       "      <td>931.0</td>\n",
       "      <td>Berlin Alexanderplatz</td>\n",
       "      <td>1980</td>\n",
       "    </tr>\n",
       "    <tr>\n",
       "      <th>13953</th>\n",
       "      <td>925.0</td>\n",
       "      <td>Heimat: A Chronicle of Germany</td>\n",
       "      <td>1984</td>\n",
       "    </tr>\n",
       "    <tr>\n",
       "      <th>27855</th>\n",
       "      <td>900.0</td>\n",
       "      <td>The Story of Film: An Odyssey</td>\n",
       "      <td>2011</td>\n",
       "    </tr>\n",
       "    <tr>\n",
       "      <th>26682</th>\n",
       "      <td>877.0</td>\n",
       "      <td>Taken</td>\n",
       "      <td>2002</td>\n",
       "    </tr>\n",
       "    <tr>\n",
       "      <th>19158</th>\n",
       "      <td>874.0</td>\n",
       "      <td>The War</td>\n",
       "      <td>2007</td>\n",
       "    </tr>\n",
       "    <tr>\n",
       "      <th>34667</th>\n",
       "      <td>840.0</td>\n",
       "      <td>The Roosevelts: An Intimate History</td>\n",
       "      <td>2014</td>\n",
       "    </tr>\n",
       "    <tr>\n",
       "      <th>34732</th>\n",
       "      <td>840.0</td>\n",
       "      <td>Seventeen Moments in Spring</td>\n",
       "      <td>1973</td>\n",
       "    </tr>\n",
       "  </tbody>\n",
       "</table>\n",
       "</div>"
      ],
      "text/plain": [
       "      runtime                                title  year_of_release\n",
       "24178  1256.0                           Centennial             1978\n",
       "40938  1140.0                             Baseball             1994\n",
       "19965  1140.0                                 Jazz             2001\n",
       "13767   931.0                Berlin Alexanderplatz             1980\n",
       "13953   925.0       Heimat: A Chronicle of Germany             1984\n",
       "27855   900.0        The Story of Film: An Odyssey             2011\n",
       "26682   877.0                                Taken             2002\n",
       "19158   874.0                              The War             2007\n",
       "34667   840.0  The Roosevelts: An Intimate History             2014\n",
       "34732   840.0          Seventeen Moments in Spring             1973"
      ]
     },
     "execution_count": 205,
     "metadata": {},
     "output_type": "execute_result"
    }
   ],
   "source": [
    "longshort_df.sort_values(by=\"runtime\",ascending=False).head(10)"
   ]
  },
  {
   "cell_type": "code",
   "execution_count": 206,
   "id": "8be39ca6",
   "metadata": {},
   "outputs": [
    {
     "data": {
      "text/html": [
       "<div>\n",
       "<style scoped>\n",
       "    .dataframe tbody tr th:only-of-type {\n",
       "        vertical-align: middle;\n",
       "    }\n",
       "\n",
       "    .dataframe tbody tr th {\n",
       "        vertical-align: top;\n",
       "    }\n",
       "\n",
       "    .dataframe thead th {\n",
       "        text-align: right;\n",
       "    }\n",
       "</style>\n",
       "<table border=\"1\" class=\"dataframe\">\n",
       "  <thead>\n",
       "    <tr style=\"text-align: right;\">\n",
       "      <th></th>\n",
       "      <th>runtime</th>\n",
       "      <th>title</th>\n",
       "      <th>year_of_release</th>\n",
       "    </tr>\n",
       "  </thead>\n",
       "  <tbody>\n",
       "    <tr>\n",
       "      <th>35146</th>\n",
       "      <td>1.0</td>\n",
       "      <td>La Vague</td>\n",
       "      <td>1891</td>\n",
       "    </tr>\n",
       "    <tr>\n",
       "      <th>36577</th>\n",
       "      <td>1.0</td>\n",
       "      <td>Champs de Mars</td>\n",
       "      <td>1900</td>\n",
       "    </tr>\n",
       "    <tr>\n",
       "      <th>36576</th>\n",
       "      <td>1.0</td>\n",
       "      <td>Palace of Electricity</td>\n",
       "      <td>1900</td>\n",
       "    </tr>\n",
       "    <tr>\n",
       "      <th>44965</th>\n",
       "      <td>1.0</td>\n",
       "      <td>Luis Martinetti, Contortionist</td>\n",
       "      <td>1894</td>\n",
       "    </tr>\n",
       "    <tr>\n",
       "      <th>42357</th>\n",
       "      <td>1.0</td>\n",
       "      <td>A Gathering of Cats</td>\n",
       "      <td>2007</td>\n",
       "    </tr>\n",
       "    <tr>\n",
       "      <th>36575</th>\n",
       "      <td>1.0</td>\n",
       "      <td>Eiffel Tower from Trocadero Palace</td>\n",
       "      <td>1900</td>\n",
       "    </tr>\n",
       "    <tr>\n",
       "      <th>36574</th>\n",
       "      <td>1.0</td>\n",
       "      <td>Panorama of Eiffel Tower</td>\n",
       "      <td>1900</td>\n",
       "    </tr>\n",
       "    <tr>\n",
       "      <th>44714</th>\n",
       "      <td>1.0</td>\n",
       "      <td>The Infernal Caldron</td>\n",
       "      <td>1903</td>\n",
       "    </tr>\n",
       "    <tr>\n",
       "      <th>19244</th>\n",
       "      <td>1.0</td>\n",
       "      <td>The Kiss</td>\n",
       "      <td>1896</td>\n",
       "    </tr>\n",
       "    <tr>\n",
       "      <th>44646</th>\n",
       "      <td>1.0</td>\n",
       "      <td>The Vanishing Lady</td>\n",
       "      <td>1896</td>\n",
       "    </tr>\n",
       "  </tbody>\n",
       "</table>\n",
       "</div>"
      ],
      "text/plain": [
       "      runtime                               title  year_of_release\n",
       "35146     1.0                            La Vague             1891\n",
       "36577     1.0                      Champs de Mars             1900\n",
       "36576     1.0               Palace of Electricity             1900\n",
       "44965     1.0      Luis Martinetti, Contortionist             1894\n",
       "42357     1.0                 A Gathering of Cats             2007\n",
       "36575     1.0  Eiffel Tower from Trocadero Palace             1900\n",
       "36574     1.0            Panorama of Eiffel Tower             1900\n",
       "44714     1.0                The Infernal Caldron             1903\n",
       "19244     1.0                            The Kiss             1896\n",
       "44646     1.0                  The Vanishing Lady             1896"
      ]
     },
     "execution_count": 206,
     "metadata": {},
     "output_type": "execute_result"
    }
   ],
   "source": [
    "longshort_df.sort_values(by=\"runtime\",ascending=True).head(10)"
   ]
  },
  {
   "cell_type": "code",
   "execution_count": null,
   "id": "c25d94d4",
   "metadata": {},
   "outputs": [],
   "source": []
  },
  {
   "cell_type": "code",
   "execution_count": null,
   "id": "1671f741",
   "metadata": {},
   "outputs": [],
   "source": []
  },
  {
   "cell_type": "code",
   "execution_count": null,
   "id": "7d351633",
   "metadata": {},
   "outputs": [],
   "source": []
  },
  {
   "cell_type": "code",
   "execution_count": 151,
   "id": "48d6e4b8",
   "metadata": {},
   "outputs": [],
   "source": [
    "# most expensive movies of all time"
   ]
  },
  {
   "cell_type": "code",
   "execution_count": 152,
   "id": "ca59a6bc",
   "metadata": {},
   "outputs": [],
   "source": [
    "# we try to get the movies with the highest budget \n",
    "revenuenbudget_df=df_meta[[\"revenue\",\"budget\",\"title\",\"year_of_release\",\"times_return\"]]"
   ]
  },
  {
   "cell_type": "code",
   "execution_count": 153,
   "id": "86a354f8",
   "metadata": {},
   "outputs": [
    {
     "data": {
      "text/html": [
       "<div>\n",
       "<style scoped>\n",
       "    .dataframe tbody tr th:only-of-type {\n",
       "        vertical-align: middle;\n",
       "    }\n",
       "\n",
       "    .dataframe tbody tr th {\n",
       "        vertical-align: top;\n",
       "    }\n",
       "\n",
       "    .dataframe thead th {\n",
       "        text-align: right;\n",
       "    }\n",
       "</style>\n",
       "<table border=\"1\" class=\"dataframe\">\n",
       "  <thead>\n",
       "    <tr style=\"text-align: right;\">\n",
       "      <th></th>\n",
       "      <th>title</th>\n",
       "      <th>budget</th>\n",
       "      <th>revenue</th>\n",
       "      <th>times_return</th>\n",
       "    </tr>\n",
       "  </thead>\n",
       "  <tbody>\n",
       "    <tr>\n",
       "      <th>17124</th>\n",
       "      <td>Pirates of the Caribbean: On Stranger Tides</td>\n",
       "      <td>380000000.0</td>\n",
       "      <td>1.045714e+09</td>\n",
       "      <td>2.751878</td>\n",
       "    </tr>\n",
       "    <tr>\n",
       "      <th>11827</th>\n",
       "      <td>Pirates of the Caribbean: At World's End</td>\n",
       "      <td>300000000.0</td>\n",
       "      <td>9.610000e+08</td>\n",
       "      <td>3.203333</td>\n",
       "    </tr>\n",
       "    <tr>\n",
       "      <th>26558</th>\n",
       "      <td>Avengers: Age of Ultron</td>\n",
       "      <td>280000000.0</td>\n",
       "      <td>1.405404e+09</td>\n",
       "      <td>5.019299</td>\n",
       "    </tr>\n",
       "    <tr>\n",
       "      <th>11067</th>\n",
       "      <td>Superman Returns</td>\n",
       "      <td>270000000.0</td>\n",
       "      <td>3.910812e+08</td>\n",
       "      <td>1.448449</td>\n",
       "    </tr>\n",
       "    <tr>\n",
       "      <th>16130</th>\n",
       "      <td>Tangled</td>\n",
       "      <td>260000000.0</td>\n",
       "      <td>5.917949e+08</td>\n",
       "      <td>2.276134</td>\n",
       "    </tr>\n",
       "    <tr>\n",
       "      <th>18685</th>\n",
       "      <td>John Carter</td>\n",
       "      <td>260000000.0</td>\n",
       "      <td>2.841391e+08</td>\n",
       "      <td>1.092843</td>\n",
       "    </tr>\n",
       "    <tr>\n",
       "      <th>44842</th>\n",
       "      <td>Transformers: The Last Knight</td>\n",
       "      <td>260000000.0</td>\n",
       "      <td>6.049421e+08</td>\n",
       "      <td>2.326701</td>\n",
       "    </tr>\n",
       "    <tr>\n",
       "      <th>11780</th>\n",
       "      <td>Spider-Man 3</td>\n",
       "      <td>258000000.0</td>\n",
       "      <td>8.908716e+08</td>\n",
       "      <td>3.452991</td>\n",
       "    </tr>\n",
       "    <tr>\n",
       "      <th>21175</th>\n",
       "      <td>The Lone Ranger</td>\n",
       "      <td>255000000.0</td>\n",
       "      <td>8.928991e+07</td>\n",
       "      <td>0.350157</td>\n",
       "    </tr>\n",
       "    <tr>\n",
       "      <th>22059</th>\n",
       "      <td>The Hobbit: The Desolation of Smaug</td>\n",
       "      <td>250000000.0</td>\n",
       "      <td>9.584000e+08</td>\n",
       "      <td>3.833600</td>\n",
       "    </tr>\n",
       "  </tbody>\n",
       "</table>\n",
       "</div>"
      ],
      "text/plain": [
       "                                             title       budget       revenue  \\\n",
       "17124  Pirates of the Caribbean: On Stranger Tides  380000000.0  1.045714e+09   \n",
       "11827     Pirates of the Caribbean: At World's End  300000000.0  9.610000e+08   \n",
       "26558                      Avengers: Age of Ultron  280000000.0  1.405404e+09   \n",
       "11067                             Superman Returns  270000000.0  3.910812e+08   \n",
       "16130                                      Tangled  260000000.0  5.917949e+08   \n",
       "18685                                  John Carter  260000000.0  2.841391e+08   \n",
       "44842                Transformers: The Last Knight  260000000.0  6.049421e+08   \n",
       "11780                                 Spider-Man 3  258000000.0  8.908716e+08   \n",
       "21175                              The Lone Ranger  255000000.0  8.928991e+07   \n",
       "22059          The Hobbit: The Desolation of Smaug  250000000.0  9.584000e+08   \n",
       "\n",
       "       times_return  \n",
       "17124      2.751878  \n",
       "11827      3.203333  \n",
       "26558      5.019299  \n",
       "11067      1.448449  \n",
       "16130      2.276134  \n",
       "18685      1.092843  \n",
       "44842      2.326701  \n",
       "11780      3.452991  \n",
       "21175      0.350157  \n",
       "22059      3.833600  "
      ]
     },
     "execution_count": 153,
     "metadata": {},
     "output_type": "execute_result"
    }
   ],
   "source": [
    "revenuenbudget_df[[\"title\",\"budget\",\"revenue\",\"times_return\"]].dropna().sort_values(by=\"budget\",ascending=False).head(10)"
   ]
  },
  {
   "cell_type": "code",
   "execution_count": null,
   "id": "d69f062c",
   "metadata": {},
   "outputs": [],
   "source": []
  },
  {
   "cell_type": "code",
   "execution_count": 154,
   "id": "e52f1783",
   "metadata": {},
   "outputs": [],
   "source": [
    "# relationship between budget and revenue of movies "
   ]
  },
  {
   "cell_type": "code",
   "execution_count": 155,
   "id": "cf056284",
   "metadata": {},
   "outputs": [
    {
     "data": {
      "text/plain": [
       "0.7445049935262072"
      ]
     },
     "execution_count": 155,
     "metadata": {},
     "output_type": "execute_result"
    }
   ],
   "source": [
    "# this indicates a high pearson correlation coefficient which means there is a comparitively strong relationship\n",
    "revenuenbudget_df[\"budget\"].corr(revenuenbudget_df[\"revenue\"])"
   ]
  },
  {
   "cell_type": "code",
   "execution_count": 156,
   "id": "70b98f8b",
   "metadata": {},
   "outputs": [
    {
     "data": {
      "text/plain": [
       "<seaborn.axisgrid.JointGrid at 0x2bdca6ed2e0>"
      ]
     },
     "execution_count": 156,
     "metadata": {},
     "output_type": "execute_result"
    },
    {
     "data": {
      "text/plain": [
       "<Figure size 1440x504 with 0 Axes>"
      ]
     },
     "metadata": {},
     "output_type": "display_data"
    },
    {
     "data": {
      "image/png": "[encoded data removed]",
      "text/plain": [
       "<Figure size 432x432 with 3 Axes>"
      ]
     },
     "metadata": {
      "needs_background": "light"
     },
     "output_type": "display_data"
    }
   ],
   "source": [
    "plt.figure(figsize=(20,7))\n",
    "sns.jointplot(data=revenuenbudget_df,x=\"budget\",y=\"revenue\",color=\"green\")"
   ]
  },
  {
   "cell_type": "code",
   "execution_count": null,
   "id": "5cf43101",
   "metadata": {},
   "outputs": [],
   "source": []
  },
  {
   "cell_type": "code",
   "execution_count": 218,
   "id": "a0446f5d",
   "metadata": {},
   "outputs": [],
   "source": [
    "# highest grossing films"
   ]
  },
  {
   "cell_type": "code",
   "execution_count": 219,
   "id": "79d88d02",
   "metadata": {},
   "outputs": [
    {
     "data": {
      "text/html": [
       "<div>\n",
       "<style scoped>\n",
       "    .dataframe tbody tr th:only-of-type {\n",
       "        vertical-align: middle;\n",
       "    }\n",
       "\n",
       "    .dataframe tbody tr th {\n",
       "        vertical-align: top;\n",
       "    }\n",
       "\n",
       "    .dataframe thead th {\n",
       "        text-align: right;\n",
       "    }\n",
       "</style>\n",
       "<table border=\"1\" class=\"dataframe\">\n",
       "  <thead>\n",
       "    <tr style=\"text-align: right;\">\n",
       "      <th></th>\n",
       "      <th>revenue</th>\n",
       "      <th>title</th>\n",
       "    </tr>\n",
       "  </thead>\n",
       "  <tbody>\n",
       "    <tr>\n",
       "      <th>14551</th>\n",
       "      <td>2.787965e+09</td>\n",
       "      <td>Avatar</td>\n",
       "    </tr>\n",
       "    <tr>\n",
       "      <th>26555</th>\n",
       "      <td>2.068224e+09</td>\n",
       "      <td>Star Wars: The Force Awakens</td>\n",
       "    </tr>\n",
       "    <tr>\n",
       "      <th>1639</th>\n",
       "      <td>1.845034e+09</td>\n",
       "      <td>Titanic</td>\n",
       "    </tr>\n",
       "    <tr>\n",
       "      <th>17818</th>\n",
       "      <td>1.519558e+09</td>\n",
       "      <td>The Avengers</td>\n",
       "    </tr>\n",
       "    <tr>\n",
       "      <th>25084</th>\n",
       "      <td>1.513529e+09</td>\n",
       "      <td>Jurassic World</td>\n",
       "    </tr>\n",
       "    <tr>\n",
       "      <th>28830</th>\n",
       "      <td>1.506249e+09</td>\n",
       "      <td>Furious 7</td>\n",
       "    </tr>\n",
       "    <tr>\n",
       "      <th>26558</th>\n",
       "      <td>1.405404e+09</td>\n",
       "      <td>Avengers: Age of Ultron</td>\n",
       "    </tr>\n",
       "    <tr>\n",
       "      <th>17437</th>\n",
       "      <td>1.342000e+09</td>\n",
       "      <td>Harry Potter and the Deathly Hallows: Part 2</td>\n",
       "    </tr>\n",
       "    <tr>\n",
       "      <th>22110</th>\n",
       "      <td>1.274219e+09</td>\n",
       "      <td>Frozen</td>\n",
       "    </tr>\n",
       "    <tr>\n",
       "      <th>42222</th>\n",
       "      <td>1.262886e+09</td>\n",
       "      <td>Beauty and the Beast</td>\n",
       "    </tr>\n",
       "  </tbody>\n",
       "</table>\n",
       "</div>"
      ],
      "text/plain": [
       "            revenue                                         title\n",
       "14551  2.787965e+09                                        Avatar\n",
       "26555  2.068224e+09                  Star Wars: The Force Awakens\n",
       "1639   1.845034e+09                                       Titanic\n",
       "17818  1.519558e+09                                  The Avengers\n",
       "25084  1.513529e+09                                Jurassic World\n",
       "28830  1.506249e+09                                     Furious 7\n",
       "26558  1.405404e+09                       Avengers: Age of Ultron\n",
       "17437  1.342000e+09  Harry Potter and the Deathly Hallows: Part 2\n",
       "22110  1.274219e+09                                        Frozen\n",
       "42222  1.262886e+09                          Beauty and the Beast"
      ]
     },
     "execution_count": 219,
     "metadata": {},
     "output_type": "execute_result"
    }
   ],
   "source": [
    "revenuenbudget_df[[\"revenue\",\"title\"]].sort_values(by=\"revenue\",ascending=False).head(10)"
   ]
  },
  {
   "cell_type": "code",
   "execution_count": 220,
   "id": "88299f07",
   "metadata": {},
   "outputs": [
    {
     "data": {
      "text/plain": [
       "<AxesSubplot:xlabel='year_of_release', ylabel='revenue'>"
      ]
     },
     "execution_count": 220,
     "metadata": {},
     "output_type": "execute_result"
    },
    {
     "data": {
      "image/png": "[encoded data removed]",
      "text/plain": [
       "<Figure size 432x288 with 1 Axes>"
      ]
     },
     "metadata": {
      "needs_background": "light"
     },
     "output_type": "display_data"
    }
   ],
   "source": [
    "# from this line plot we can see that the maximum gross has steadily reason over the years \n",
    "sns.lineplot(data=revenuenbudget_df[revenuenbudget_df[\"year_of_release\"]>1900],x=\"year_of_release\",y=\"revenue\")"
   ]
  },
  {
   "cell_type": "code",
   "execution_count": null,
   "id": "b651d123",
   "metadata": {},
   "outputs": [],
   "source": [
    "\n"
   ]
  },
  {
   "cell_type": "code",
   "execution_count": 160,
   "id": "59bc20b3",
   "metadata": {},
   "outputs": [],
   "source": [
    "# most successful movies"
   ]
  },
  {
   "cell_type": "code",
   "execution_count": 161,
   "id": "7dc3c3b8",
   "metadata": {},
   "outputs": [
    {
     "data": {
      "text/html": [
       "<div>\n",
       "<style scoped>\n",
       "    .dataframe tbody tr th:only-of-type {\n",
       "        vertical-align: middle;\n",
       "    }\n",
       "\n",
       "    .dataframe tbody tr th {\n",
       "        vertical-align: top;\n",
       "    }\n",
       "\n",
       "    .dataframe thead th {\n",
       "        text-align: right;\n",
       "    }\n",
       "</style>\n",
       "<table border=\"1\" class=\"dataframe\">\n",
       "  <thead>\n",
       "    <tr style=\"text-align: right;\">\n",
       "      <th></th>\n",
       "      <th>revenue</th>\n",
       "      <th>budget</th>\n",
       "      <th>title</th>\n",
       "      <th>year_of_release</th>\n",
       "      <th>times_return</th>\n",
       "    </tr>\n",
       "  </thead>\n",
       "  <tbody>\n",
       "    <tr>\n",
       "      <th>1003</th>\n",
       "      <td>572000000.0</td>\n",
       "      <td>3000000.0</td>\n",
       "      <td>Alice in Wonderland</td>\n",
       "      <td>1951</td>\n",
       "      <td>190.666667</td>\n",
       "    </tr>\n",
       "    <tr>\n",
       "      <th>587</th>\n",
       "      <td>184925486.0</td>\n",
       "      <td>1488423.0</td>\n",
       "      <td>Snow White and the Seven Dwarfs</td>\n",
       "      <td>1937</td>\n",
       "      <td>124.242561</td>\n",
       "    </tr>\n",
       "    <tr>\n",
       "      <th>893</th>\n",
       "      <td>400176459.0</td>\n",
       "      <td>4000000.0</td>\n",
       "      <td>Gone with the Wind</td>\n",
       "      <td>1939</td>\n",
       "      <td>100.044115</td>\n",
       "    </tr>\n",
       "    <tr>\n",
       "      <th>21344</th>\n",
       "      <td>208000000.0</td>\n",
       "      <td>2200000.0</td>\n",
       "      <td>Lost in Thailand</td>\n",
       "      <td>2012</td>\n",
       "      <td>94.545455</td>\n",
       "    </tr>\n",
       "    <tr>\n",
       "      <th>2542</th>\n",
       "      <td>112892319.0</td>\n",
       "      <td>1200000.0</td>\n",
       "      <td>The Rocky Horror Picture Show</td>\n",
       "      <td>1975</td>\n",
       "      <td>94.076932</td>\n",
       "    </tr>\n",
       "    <tr>\n",
       "      <th>993</th>\n",
       "      <td>263591415.0</td>\n",
       "      <td>2900000.0</td>\n",
       "      <td>Cinderella</td>\n",
       "      <td>1950</td>\n",
       "      <td>90.893591</td>\n",
       "    </tr>\n",
       "    <tr>\n",
       "      <th>8230</th>\n",
       "      <td>103911669.0</td>\n",
       "      <td>1200000.0</td>\n",
       "      <td>Saw</td>\n",
       "      <td>2004</td>\n",
       "      <td>86.593058</td>\n",
       "    </tr>\n",
       "    <tr>\n",
       "      <th>1065</th>\n",
       "      <td>792965326.0</td>\n",
       "      <td>10500000.0</td>\n",
       "      <td>E.T. the Extra-Terrestrial</td>\n",
       "      <td>1982</td>\n",
       "      <td>75.520507</td>\n",
       "    </tr>\n",
       "    <tr>\n",
       "      <th>5165</th>\n",
       "      <td>368744044.0</td>\n",
       "      <td>5000000.0</td>\n",
       "      <td>My Big Fat Greek Wedding</td>\n",
       "      <td>2002</td>\n",
       "      <td>73.748809</td>\n",
       "    </tr>\n",
       "    <tr>\n",
       "      <th>1563</th>\n",
       "      <td>257850122.0</td>\n",
       "      <td>3500000.0</td>\n",
       "      <td>The Full Monty</td>\n",
       "      <td>1997</td>\n",
       "      <td>73.671463</td>\n",
       "    </tr>\n",
       "  </tbody>\n",
       "</table>\n",
       "</div>"
      ],
      "text/plain": [
       "           revenue      budget                            title  \\\n",
       "1003   572000000.0   3000000.0              Alice in Wonderland   \n",
       "587    184925486.0   1488423.0  Snow White and the Seven Dwarfs   \n",
       "893    400176459.0   4000000.0               Gone with the Wind   \n",
       "21344  208000000.0   2200000.0                 Lost in Thailand   \n",
       "2542   112892319.0   1200000.0    The Rocky Horror Picture Show   \n",
       "993    263591415.0   2900000.0                       Cinderella   \n",
       "8230   103911669.0   1200000.0                              Saw   \n",
       "1065   792965326.0  10500000.0       E.T. the Extra-Terrestrial   \n",
       "5165   368744044.0   5000000.0         My Big Fat Greek Wedding   \n",
       "1563   257850122.0   3500000.0                   The Full Monty   \n",
       "\n",
       "       year_of_release  times_return  \n",
       "1003              1951    190.666667  \n",
       "587               1937    124.242561  \n",
       "893               1939    100.044115  \n",
       "21344             2012     94.545455  \n",
       "2542              1975     94.076932  \n",
       "993               1950     90.893591  \n",
       "8230              2004     86.593058  \n",
       "1065              1982     75.520507  \n",
       "5165              2002     73.748809  \n",
       "1563              1997     73.671463  "
      ]
     },
     "execution_count": 161,
     "metadata": {},
     "output_type": "execute_result"
    }
   ],
   "source": [
    "# for this analysis we consider a minimum reasonable budget of the movie (1 million) so that we can avoid vague results\n",
    "revenuenbudget_df[revenuenbudget_df[\"budget\"]>(10**6)].dropna().sort_values(by=\"times_return\",ascending=False).head(10)"
   ]
  },
  {
   "cell_type": "code",
   "execution_count": null,
   "id": "27cb20be",
   "metadata": {},
   "outputs": [],
   "source": []
  },
  {
   "cell_type": "code",
   "execution_count": null,
   "id": "097dffb6",
   "metadata": {},
   "outputs": [],
   "source": [
    "\n"
   ]
  },
  {
   "cell_type": "code",
   "execution_count": 162,
   "id": "b23b2f8b",
   "metadata": {},
   "outputs": [],
   "source": [
    "# genres analysis"
   ]
  },
  {
   "cell_type": "code",
   "execution_count": 163,
   "id": "db938ecf",
   "metadata": {},
   "outputs": [],
   "source": [
    "# counting how many different genres are there in or dataset"
   ]
  },
  {
   "cell_type": "code",
   "execution_count": 221,
   "id": "ccc61b1c",
   "metadata": {},
   "outputs": [],
   "source": [
    "genres_df2=pd.DataFrame(df_meta[[\"year_of_release\",\"title\",\"genres\"]])"
   ]
  },
  {
   "cell_type": "code",
   "execution_count": 222,
   "id": "5a763b4f",
   "metadata": {},
   "outputs": [],
   "source": [
    "genres_df2[\"genres_list_only\"]=genres_df2[\"genres\"].dropna().apply(ast.literal_eval)"
   ]
  },
  {
   "cell_type": "code",
   "execution_count": 223,
   "id": "1fde6e18",
   "metadata": {},
   "outputs": [
    {
     "data": {
      "text/html": [
       "<div>\n",
       "<style scoped>\n",
       "    .dataframe tbody tr th:only-of-type {\n",
       "        vertical-align: middle;\n",
       "    }\n",
       "\n",
       "    .dataframe tbody tr th {\n",
       "        vertical-align: top;\n",
       "    }\n",
       "\n",
       "    .dataframe thead th {\n",
       "        text-align: right;\n",
       "    }\n",
       "</style>\n",
       "<table border=\"1\" class=\"dataframe\">\n",
       "  <thead>\n",
       "    <tr style=\"text-align: right;\">\n",
       "      <th></th>\n",
       "      <th>year_of_release</th>\n",
       "      <th>title</th>\n",
       "      <th>genres</th>\n",
       "      <th>genres_list_only</th>\n",
       "    </tr>\n",
       "  </thead>\n",
       "  <tbody>\n",
       "    <tr>\n",
       "      <th>0</th>\n",
       "      <td>1995</td>\n",
       "      <td>Toy Story</td>\n",
       "      <td>[{'id': 16, 'name': 'Animation'}, {'id': 35, '...</td>\n",
       "      <td>[{'id': 16, 'name': 'Animation'}, {'id': 35, '...</td>\n",
       "    </tr>\n",
       "    <tr>\n",
       "      <th>1</th>\n",
       "      <td>1995</td>\n",
       "      <td>Jumanji</td>\n",
       "      <td>[{'id': 12, 'name': 'Adventure'}, {'id': 14, '...</td>\n",
       "      <td>[{'id': 12, 'name': 'Adventure'}, {'id': 14, '...</td>\n",
       "    </tr>\n",
       "    <tr>\n",
       "      <th>2</th>\n",
       "      <td>1995</td>\n",
       "      <td>Grumpier Old Men</td>\n",
       "      <td>[{'id': 10749, 'name': 'Romance'}, {'id': 35, ...</td>\n",
       "      <td>[{'id': 10749, 'name': 'Romance'}, {'id': 35, ...</td>\n",
       "    </tr>\n",
       "    <tr>\n",
       "      <th>3</th>\n",
       "      <td>1995</td>\n",
       "      <td>Waiting to Exhale</td>\n",
       "      <td>[{'id': 35, 'name': 'Comedy'}, {'id': 18, 'nam...</td>\n",
       "      <td>[{'id': 35, 'name': 'Comedy'}, {'id': 18, 'nam...</td>\n",
       "    </tr>\n",
       "    <tr>\n",
       "      <th>4</th>\n",
       "      <td>1995</td>\n",
       "      <td>Father of the Bride Part II</td>\n",
       "      <td>[{'id': 35, 'name': 'Comedy'}]</td>\n",
       "      <td>[{'id': 35, 'name': 'Comedy'}]</td>\n",
       "    </tr>\n",
       "    <tr>\n",
       "      <th>...</th>\n",
       "      <td>...</td>\n",
       "      <td>...</td>\n",
       "      <td>...</td>\n",
       "      <td>...</td>\n",
       "    </tr>\n",
       "    <tr>\n",
       "      <th>45461</th>\n",
       "      <td>0</td>\n",
       "      <td>Subdue</td>\n",
       "      <td>[{'id': 18, 'name': 'Drama'}, {'id': 10751, 'n...</td>\n",
       "      <td>[{'id': 18, 'name': 'Drama'}, {'id': 10751, 'n...</td>\n",
       "    </tr>\n",
       "    <tr>\n",
       "      <th>45462</th>\n",
       "      <td>2011</td>\n",
       "      <td>Century of Birthing</td>\n",
       "      <td>[{'id': 18, 'name': 'Drama'}]</td>\n",
       "      <td>[{'id': 18, 'name': 'Drama'}]</td>\n",
       "    </tr>\n",
       "    <tr>\n",
       "      <th>45463</th>\n",
       "      <td>2003</td>\n",
       "      <td>Betrayal</td>\n",
       "      <td>[{'id': 28, 'name': 'Action'}, {'id': 18, 'nam...</td>\n",
       "      <td>[{'id': 28, 'name': 'Action'}, {'id': 18, 'nam...</td>\n",
       "    </tr>\n",
       "    <tr>\n",
       "      <th>45464</th>\n",
       "      <td>1917</td>\n",
       "      <td>Satan Triumphant</td>\n",
       "      <td>NaN</td>\n",
       "      <td>NaN</td>\n",
       "    </tr>\n",
       "    <tr>\n",
       "      <th>45465</th>\n",
       "      <td>2017</td>\n",
       "      <td>Queerama</td>\n",
       "      <td>NaN</td>\n",
       "      <td>NaN</td>\n",
       "    </tr>\n",
       "  </tbody>\n",
       "</table>\n",
       "<p>45466 rows × 4 columns</p>\n",
       "</div>"
      ],
      "text/plain": [
       "       year_of_release                        title  \\\n",
       "0                 1995                    Toy Story   \n",
       "1                 1995                      Jumanji   \n",
       "2                 1995             Grumpier Old Men   \n",
       "3                 1995            Waiting to Exhale   \n",
       "4                 1995  Father of the Bride Part II   \n",
       "...                ...                          ...   \n",
       "45461                0                       Subdue   \n",
       "45462             2011          Century of Birthing   \n",
       "45463             2003                     Betrayal   \n",
       "45464             1917             Satan Triumphant   \n",
       "45465             2017                     Queerama   \n",
       "\n",
       "                                                  genres  \\\n",
       "0      [{'id': 16, 'name': 'Animation'}, {'id': 35, '...   \n",
       "1      [{'id': 12, 'name': 'Adventure'}, {'id': 14, '...   \n",
       "2      [{'id': 10749, 'name': 'Romance'}, {'id': 35, ...   \n",
       "3      [{'id': 35, 'name': 'Comedy'}, {'id': 18, 'nam...   \n",
       "4                         [{'id': 35, 'name': 'Comedy'}]   \n",
       "...                                                  ...   \n",
       "45461  [{'id': 18, 'name': 'Drama'}, {'id': 10751, 'n...   \n",
       "45462                      [{'id': 18, 'name': 'Drama'}]   \n",
       "45463  [{'id': 28, 'name': 'Action'}, {'id': 18, 'nam...   \n",
       "45464                                                NaN   \n",
       "45465                                                NaN   \n",
       "\n",
       "                                        genres_list_only  \n",
       "0      [{'id': 16, 'name': 'Animation'}, {'id': 35, '...  \n",
       "1      [{'id': 12, 'name': 'Adventure'}, {'id': 14, '...  \n",
       "2      [{'id': 10749, 'name': 'Romance'}, {'id': 35, ...  \n",
       "3      [{'id': 35, 'name': 'Comedy'}, {'id': 18, 'nam...  \n",
       "4                         [{'id': 35, 'name': 'Comedy'}]  \n",
       "...                                                  ...  \n",
       "45461  [{'id': 18, 'name': 'Drama'}, {'id': 10751, 'n...  \n",
       "45462                      [{'id': 18, 'name': 'Drama'}]  \n",
       "45463  [{'id': 28, 'name': 'Action'}, {'id': 18, 'nam...  \n",
       "45464                                                NaN  \n",
       "45465                                                NaN  \n",
       "\n",
       "[45466 rows x 4 columns]"
      ]
     },
     "execution_count": 223,
     "metadata": {},
     "output_type": "execute_result"
    }
   ],
   "source": [
    "genres_df2"
   ]
  },
  {
   "cell_type": "code",
   "execution_count": 224,
   "id": "9566e90e",
   "metadata": {},
   "outputs": [
    {
     "name": "stdout",
     "output_type": "stream",
     "text": [
      "{'Animation': 1935, 'Comedy': 13182, 'Family': 2770, 'Adventure': 3496, 'Fantasy': 2313, 'Romance': 6735, 'Drama': 20265, 'Action': 6596, 'Crime': 4307, 'Thriller': 7624, 'Horror': 4673, 'History': 1398, 'Science Fiction': 3049, 'Mystery': 2467, 'War': 1323, 'Foreign': 1622, 'Music': 1598, 'Documentary': 3932, 'Western': 1042, 'TV Movie': 767, 'Carousel Productions': 1, 'Vision View Entertainment': 1, 'Telescene Film Group Productions': 1, 'Aniplex': 1, 'GoHands': 1, 'BROSTA TV': 1, 'Mardock Scramble Production Committee': 1, 'Sentai Filmworks': 1, 'Odyssey Media': 1, 'Pulser Productions': 1, 'Rogue State': 1, 'The Cartel': 1}\n"
     ]
    }
   ],
   "source": [
    "# we here take out the number of movies of each genres using the below method\n",
    "unique_gen ={}\n",
    "\n",
    "for i in genres_df2[\"genres_list_only\"]:\n",
    "    if i==np.nan:\n",
    "        pass\n",
    "    elif isinstance(i,list)==False:\n",
    "        pass\n",
    "    else:\n",
    "        for x in i:\n",
    "            if x[\"name\"] in unique_gen:\n",
    "                unique_gen[x[\"name\"]]=unique_gen[x[\"name\"]]+1\n",
    "            else:\n",
    "                unique_gen[x[\"name\"]]=1\n",
    "print(unique_gen)"
   ]
  },
  {
   "cell_type": "code",
   "execution_count": 225,
   "id": "b8d6d88e",
   "metadata": {},
   "outputs": [
    {
     "data": {
      "text/plain": [
       "{'Animation': 1935,\n",
       " 'Comedy': 13182,\n",
       " 'Family': 2770,\n",
       " 'Adventure': 3496,\n",
       " 'Fantasy': 2313,\n",
       " 'Romance': 6735,\n",
       " 'Drama': 20265,\n",
       " 'Action': 6596,\n",
       " 'Crime': 4307,\n",
       " 'Thriller': 7624,\n",
       " 'Horror': 4673,\n",
       " 'History': 1398,\n",
       " 'Science Fiction': 3049,\n",
       " 'Mystery': 2467,\n",
       " 'War': 1323,\n",
       " 'Foreign': 1622,\n",
       " 'Music': 1598,\n",
       " 'Documentary': 3932,\n",
       " 'Western': 1042,\n",
       " 'TV Movie': 767,\n",
       " 'Carousel Productions': 1,\n",
       " 'Vision View Entertainment': 1,\n",
       " 'Telescene Film Group Productions': 1,\n",
       " 'Aniplex': 1,\n",
       " 'GoHands': 1,\n",
       " 'BROSTA TV': 1,\n",
       " 'Mardock Scramble Production Committee': 1,\n",
       " 'Sentai Filmworks': 1,\n",
       " 'Odyssey Media': 1,\n",
       " 'Pulser Productions': 1,\n",
       " 'Rogue State': 1,\n",
       " 'The Cartel': 1}"
      ]
     },
     "execution_count": 225,
     "metadata": {},
     "output_type": "execute_result"
    }
   ],
   "source": [
    "(unique_gen)"
   ]
  },
  {
   "cell_type": "code",
   "execution_count": 226,
   "id": "ccf6c2d9",
   "metadata": {},
   "outputs": [],
   "source": [
    "gen_df3=pd.DataFrame(list(unique_gen.items()))"
   ]
  },
  {
   "cell_type": "code",
   "execution_count": 227,
   "id": "f071f30e",
   "metadata": {},
   "outputs": [],
   "source": [
    "gen_df3.columns=[\"genres\",\"count\"]"
   ]
  },
  {
   "cell_type": "code",
   "execution_count": 230,
   "id": "4ef84848",
   "metadata": {},
   "outputs": [
    {
     "data": {
      "text/html": [
       "<div>\n",
       "<style scoped>\n",
       "    .dataframe tbody tr th:only-of-type {\n",
       "        vertical-align: middle;\n",
       "    }\n",
       "\n",
       "    .dataframe tbody tr th {\n",
       "        vertical-align: top;\n",
       "    }\n",
       "\n",
       "    .dataframe thead th {\n",
       "        text-align: right;\n",
       "    }\n",
       "</style>\n",
       "<table border=\"1\" class=\"dataframe\">\n",
       "  <thead>\n",
       "    <tr style=\"text-align: right;\">\n",
       "      <th></th>\n",
       "      <th>genres</th>\n",
       "      <th>count</th>\n",
       "    </tr>\n",
       "  </thead>\n",
       "  <tbody>\n",
       "    <tr>\n",
       "      <th>6</th>\n",
       "      <td>Drama</td>\n",
       "      <td>20265</td>\n",
       "    </tr>\n",
       "    <tr>\n",
       "      <th>1</th>\n",
       "      <td>Comedy</td>\n",
       "      <td>13182</td>\n",
       "    </tr>\n",
       "    <tr>\n",
       "      <th>9</th>\n",
       "      <td>Thriller</td>\n",
       "      <td>7624</td>\n",
       "    </tr>\n",
       "    <tr>\n",
       "      <th>5</th>\n",
       "      <td>Romance</td>\n",
       "      <td>6735</td>\n",
       "    </tr>\n",
       "    <tr>\n",
       "      <th>7</th>\n",
       "      <td>Action</td>\n",
       "      <td>6596</td>\n",
       "    </tr>\n",
       "    <tr>\n",
       "      <th>10</th>\n",
       "      <td>Horror</td>\n",
       "      <td>4673</td>\n",
       "    </tr>\n",
       "    <tr>\n",
       "      <th>8</th>\n",
       "      <td>Crime</td>\n",
       "      <td>4307</td>\n",
       "    </tr>\n",
       "    <tr>\n",
       "      <th>17</th>\n",
       "      <td>Documentary</td>\n",
       "      <td>3932</td>\n",
       "    </tr>\n",
       "    <tr>\n",
       "      <th>3</th>\n",
       "      <td>Adventure</td>\n",
       "      <td>3496</td>\n",
       "    </tr>\n",
       "    <tr>\n",
       "      <th>12</th>\n",
       "      <td>Science Fiction</td>\n",
       "      <td>3049</td>\n",
       "    </tr>\n",
       "  </tbody>\n",
       "</table>\n",
       "</div>"
      ],
      "text/plain": [
       "             genres  count\n",
       "6             Drama  20265\n",
       "1            Comedy  13182\n",
       "9          Thriller   7624\n",
       "5           Romance   6735\n",
       "7            Action   6596\n",
       "10           Horror   4673\n",
       "8             Crime   4307\n",
       "17      Documentary   3932\n",
       "3         Adventure   3496\n",
       "12  Science Fiction   3049"
      ]
     },
     "execution_count": 230,
     "metadata": {},
     "output_type": "execute_result"
    }
   ],
   "source": [
    "gen_df3.sort_values(by=\"count\",ascending=False).head(10)"
   ]
  },
  {
   "cell_type": "code",
   "execution_count": null,
   "id": "7c8858ee",
   "metadata": {},
   "outputs": [],
   "source": []
  },
  {
   "cell_type": "code",
   "execution_count": 229,
   "id": "b01d4034",
   "metadata": {
    "scrolled": true
   },
   "outputs": [
    {
     "data": {
      "text/plain": [
       "<AxesSubplot:xlabel='genres', ylabel='count'>"
      ]
     },
     "execution_count": 229,
     "metadata": {},
     "output_type": "execute_result"
    },
    {
     "data": {
      "image/png": "[encoded data removed]",
      "text/plain": [
       "<Figure size 1584x504 with 1 Axes>"
      ]
     },
     "metadata": {
      "needs_background": "light"
     },
     "output_type": "display_data"
    }
   ],
   "source": [
    "# plotting the chart of movies according to the genres of the movies\n",
    "plt.figure(figsize=(22,7))\n",
    "sns.barplot(data=gen_df3.sort_values(by=\"count\",ascending=False).head(19),x=\"genres\",y=\"count\")"
   ]
  },
  {
   "cell_type": "code",
   "execution_count": null,
   "id": "8f6ba511",
   "metadata": {},
   "outputs": [],
   "source": []
  }
 ],
 "metadata": {
  "kernelspec": {
   "display_name": "Python 3",
   "language": "python",
   "name": "python3"
  },
  "language_info": {
   "codemirror_mode": {
    "name": "ipython",
    "version": 3
   },
   "file_extension": ".py",
   "mimetype": "text/x-python",
   "name": "python",
   "nbconvert_exporter": "python",
   "pygments_lexer": "ipython3",
   "version": "3.8.8"
  }
 },
 "nbformat": 4,
 "nbformat_minor": 5
}
