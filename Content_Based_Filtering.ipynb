{
 "cells": [
  {
   "cell_type": "code",
   "execution_count": 1,
   "id": "dfb06d43",
   "metadata": {},
   "outputs": [],
   "source": [
    "# this content based filtering system \n",
    "# this is based ONLY ON movie overviews and taglines "
   ]
  },
  {
   "cell_type": "code",
   "execution_count": 2,
   "id": "ef8eac37",
   "metadata": {},
   "outputs": [],
   "source": [
    "import pandas as pd \n",
    "import numpy as np \n",
    "import matplotlib.pyplot as plt \n",
    "import seaborn as sns\n",
    "from sklearn.feature_extraction.text import TfidfVectorizer,CountVectorizer\n",
    "from sklearn.metrics.pairwise import linear_kernel,cosine_similarity"
   ]
  },
  {
   "cell_type": "code",
   "execution_count": 3,
   "id": "a23421c3",
   "metadata": {},
   "outputs": [],
   "source": [
    "ls=pd.read_csv(\"links_small.csv\")"
   ]
  },
  {
   "cell_type": "code",
   "execution_count": 4,
   "id": "cb1b401a",
   "metadata": {},
   "outputs": [],
   "source": [
    "df_movies=pd.read_csv(\"movies_metadata.csv\",low_memory=False)"
   ]
  },
  {
   "cell_type": "code",
   "execution_count": 5,
   "id": "b1ab8001",
   "metadata": {},
   "outputs": [],
   "source": [
    "# to see how we came up with these numbers see the EDA notebook \n",
    "# we have dropped these rows because the data is not correctly entered which may cause problems while analysis\n",
    "df_movies=df_movies.drop([19730,29503,35587])\n"
   ]
  },
  {
   "cell_type": "code",
   "execution_count": 6,
   "id": "edfbd9b7",
   "metadata": {},
   "outputs": [],
   "source": [
    "# converted the id to an integer value (from a string)\n",
    "df_movies[\"id\"]=df_movies[\"id\"].astype('int')"
   ]
  },
  {
   "cell_type": "code",
   "execution_count": 7,
   "id": "c0a90100",
   "metadata": {},
   "outputs": [],
   "source": [
    "# we get all the non null \"tmdbid ids\" and convert them to integers\n",
    "ls=ls[ls[\"tmdbId\"].notnull()][\"tmdbId\"].astype('int')"
   ]
  },
  {
   "cell_type": "code",
   "execution_count": 8,
   "id": "cae1f526",
   "metadata": {},
   "outputs": [
    {
     "data": {
      "text/plain": [
       "0          862\n",
       "1         8844\n",
       "2        15602\n",
       "3        31357\n",
       "4        11862\n",
       "         ...  \n",
       "9120    402672\n",
       "9121    315011\n",
       "9122    391698\n",
       "9123    137608\n",
       "9124    410803\n",
       "Name: tmdbId, Length: 9112, dtype: int32"
      ]
     },
     "execution_count": 8,
     "metadata": {},
     "output_type": "execute_result"
    }
   ],
   "source": [
    "ls"
   ]
  },
  {
   "cell_type": "code",
   "execution_count": 9,
   "id": "b731c1ca",
   "metadata": {},
   "outputs": [],
   "source": [
    "# we create a dataframe where all the id's (common to both the dataframes) are present   \n",
    "df_common_id=df_movies[df_movies[\"id\"].isin(ls)]"
   ]
  },
  {
   "cell_type": "code",
   "execution_count": 10,
   "id": "af7d6c5d",
   "metadata": {},
   "outputs": [
    {
     "data": {
      "text/plain": [
       "(9099, 24)"
      ]
     },
     "execution_count": 10,
     "metadata": {},
     "output_type": "execute_result"
    }
   ],
   "source": [
    "# we have around 9100 common movie id's\n",
    "df_common_id.shape"
   ]
  },
  {
   "cell_type": "code",
   "execution_count": 11,
   "id": "9617b6f9",
   "metadata": {},
   "outputs": [],
   "source": []
  },
  {
   "cell_type": "code",
   "execution_count": 20,
   "id": "43b15b4a",
   "metadata": {},
   "outputs": [],
   "source": [
    "# created a new all words colum which has all the text (the tagline text plus the overview text)\n",
    "df_common_id[\"allwords\"]=df_common_id[\"overview\"]+df_common_id[\"tagline\"]"
   ]
  },
  {
   "cell_type": "code",
   "execution_count": 13,
   "id": "bfaed6a0",
   "metadata": {},
   "outputs": [
    {
     "data": {
      "text/plain": [
       "0                                                      NaN\n",
       "1        When siblings Judy and Peter discover an encha...\n",
       "2        A family wedding reignites the ancient feud be...\n",
       "3        Cheated on, mistreated and stepped on, the wom...\n",
       "4        Just when George Banks has recovered from his ...\n",
       "                               ...                        \n",
       "40224    From the mind behind Evangelion comes a hit la...\n",
       "40503    The band stormed Europe in 1963, and, in 1964,...\n",
       "44821    When Molly Hale's sadness of her father's disa...\n",
       "44826                                                  NaN\n",
       "45265                                                  NaN\n",
       "Name: allwords, Length: 9099, dtype: object"
      ]
     },
     "execution_count": 13,
     "metadata": {},
     "output_type": "execute_result"
    }
   ],
   "source": [
    "df_common_id[\"allwords\"]"
   ]
  },
  {
   "cell_type": "code",
   "execution_count": 21,
   "id": "84f9de35",
   "metadata": {},
   "outputs": [],
   "source": [
    "# replaced the NaN values with an empty string\n",
    "df_common_id[\"allwords\"]=df_common_id[\"allwords\"].fillna('')"
   ]
  },
  {
   "cell_type": "code",
   "execution_count": 15,
   "id": "a1f2e130",
   "metadata": {},
   "outputs": [],
   "source": [
    "# now basically we need to suggest the movies based on taglies and overview , so firstly we need to convert the the words \n",
    "# into some kind of quantative values\n",
    "\n",
    "# so we use the TF-IDF (term frequency-inverse document frequency)\n",
    "# purpose of TF-IDF is to highlight words which are frequent in a document(in this case a particular entry in the \"allwords\") but not across documents \n"
   ]
  },
  {
   "cell_type": "code",
   "execution_count": 16,
   "id": "368b72b1",
   "metadata": {},
   "outputs": [],
   "source": [
    "# An example of a feature vector you might be familiar with is RGB (red-green-blue) color description\n",
    "#A color can be described by how much red, blue, and green there is in it\n",
    "#A feature vector for this would be color = [R, G, B]"
   ]
  },
  {
   "cell_type": "code",
   "execution_count": 17,
   "id": "18426fa1",
   "metadata": {},
   "outputs": [],
   "source": [
    "# then we are fitting the document on the Tfidvectorizer model\n",
    "tf=TfidfVectorizer(analyzer=\"word\",ngram_range=(1,2),min_df=0,stop_words=\"english\")\n",
    "tfid_mat=tf.fit_transform(df_common_id[\"allwords\"])"
   ]
  },
  {
   "cell_type": "code",
   "execution_count": 18,
   "id": "721ffa59",
   "metadata": {},
   "outputs": [
    {
     "data": {
      "text/plain": [
       "TfidfVectorizer(min_df=0, ngram_range=(1, 2), stop_words='english')"
      ]
     },
     "execution_count": 18,
     "metadata": {},
     "output_type": "execute_result"
    }
   ],
   "source": [
    "tf"
   ]
  },
  {
   "cell_type": "code",
   "execution_count": 33,
   "id": "490fcbe2",
   "metadata": {},
   "outputs": [
    {
     "name": "stdout",
     "output_type": "stream",
     "text": [
      "[8.50659178 9.0174174  9.42288251 ... 9.42288251 9.42288251 9.42288251]\n"
     ]
    }
   ],
   "source": [
    "print(tf.idf_)"
   ]
  },
  {
   "cell_type": "code",
   "execution_count": null,
   "id": "3bd1e4d2",
   "metadata": {},
   "outputs": [],
   "source": [
    "# cosine similarity can be used to predict the similarity between 2 movies"
   ]
  },
  {
   "cell_type": "code",
   "execution_count": null,
   "id": "9d74b1d9",
   "metadata": {},
   "outputs": [],
   "source": [
    "#Since we have used the TF-IDF Vectorizer, computing Dot Product will give us the Cosine Similarity Score. \n",
    "#we used sklearn's linear_kernel instead of cosine_similarities as it is faster"
   ]
  },
  {
   "cell_type": "code",
   "execution_count": 22,
   "id": "36c912f3",
   "metadata": {},
   "outputs": [],
   "source": [
    "cos_sim=linear_kernel(tfid_mat,tfid_mat)"
   ]
  },
  {
   "cell_type": "code",
   "execution_count": 37,
   "id": "faad834c",
   "metadata": {},
   "outputs": [
    {
     "data": {
      "text/plain": [
       "array([[0.        , 0.        , 0.        , ..., 0.        , 0.        ,\n",
       "        0.        ],\n",
       "       [0.        , 1.        , 0.01604733, ..., 0.00390818, 0.        ,\n",
       "        0.        ],\n",
       "       [0.        , 0.01604733, 1.        , ..., 0.        , 0.        ,\n",
       "        0.        ],\n",
       "       ...,\n",
       "       [0.        , 0.00390818, 0.        , ..., 1.        , 0.        ,\n",
       "        0.        ],\n",
       "       [0.        , 0.        , 0.        , ..., 0.        , 0.        ,\n",
       "        0.        ],\n",
       "       [0.        , 0.        , 0.        , ..., 0.        , 0.        ,\n",
       "        0.        ]])"
      ]
     },
     "execution_count": 37,
     "metadata": {},
     "output_type": "execute_result"
    }
   ],
   "source": [
    "# this is bascially the pairwise similarity between each and every movie \n",
    "cos_sim"
   ]
  },
  {
   "cell_type": "code",
   "execution_count": 24,
   "id": "e57e1a12",
   "metadata": {},
   "outputs": [],
   "source": [
    "df_common_id=df_common_id.reset_index()"
   ]
  },
  {
   "cell_type": "code",
   "execution_count": 25,
   "id": "32788562",
   "metadata": {},
   "outputs": [],
   "source": [
    "movie_names=df_common_id[\"title\"]"
   ]
  },
  {
   "cell_type": "code",
   "execution_count": 26,
   "id": "86a4e37a",
   "metadata": {},
   "outputs": [],
   "source": [
    "name_series=pd.Series(df_common_id.index,index=df_common_id[\"title\"])"
   ]
  },
  {
   "cell_type": "code",
   "execution_count": 27,
   "id": "b27ee009",
   "metadata": {},
   "outputs": [
    {
     "data": {
      "text/plain": [
       "title\n",
       "Toy Story                                                0\n",
       "Jumanji                                                  1\n",
       "Grumpier Old Men                                         2\n",
       "Waiting to Exhale                                        3\n",
       "Father of the Bride Part II                              4\n",
       "                                                      ... \n",
       "Shin Godzilla                                         9094\n",
       "The Beatles: Eight Days a Week - The Touring Years    9095\n",
       "Pokémon: Spell of the Unknown                         9096\n",
       "Pokémon 4Ever: Celebi - Voice of the Forest           9097\n",
       "Force Majeure                                         9098\n",
       "Length: 9099, dtype: int64"
      ]
     },
     "execution_count": 27,
     "metadata": {},
     "output_type": "execute_result"
    }
   ],
   "source": [
    "name_series"
   ]
  },
  {
   "cell_type": "code",
   "execution_count": null,
   "id": "7bce55a1",
   "metadata": {},
   "outputs": [],
   "source": []
  },
  {
   "cell_type": "code",
   "execution_count": 38,
   "id": "8ed68dab",
   "metadata": {},
   "outputs": [],
   "source": [
    "# this function returns 20 most similar movies to the based on cosine similarity score \n",
    "def recommend_related_to(title):\n",
    "    index=name_series[title]\n",
    "    s_score=list(enumerate(cos_sim[index]))\n",
    "    s_score=sorted(s_score,key= lambda x:x[1],reverse=True)\n",
    "    s_score=s_score[1:21]\n",
    "    movie_ind=[i[0] for i in s_score]\n",
    "    return movie_names.iloc[movie_ind]\n",
    "    "
   ]
  },
  {
   "cell_type": "code",
   "execution_count": 39,
   "id": "a6efce1f",
   "metadata": {},
   "outputs": [
    {
     "data": {
      "text/plain": [
       "949                          The Empire Strikes Back\n",
       "8755                    Star Wars: The Force Awakens\n",
       "962                               Return of the Jedi\n",
       "6690                                 Shrek the Third\n",
       "6125    Star Wars: Episode III - Revenge of the Sith\n",
       "4815                               Where Eagles Dare\n",
       "7539                             Shrek Forever After\n",
       "2896                 On Her Majesty's Secret Service\n",
       "515                                 Princess Caraboo\n",
       "5805                                 The Ice Pirates\n",
       "Name: title, dtype: object"
      ]
     },
     "execution_count": 39,
     "metadata": {},
     "output_type": "execute_result"
    }
   ],
   "source": [
    "recommend_related_to(\"Star Wars\").head(10)"
   ]
  },
  {
   "cell_type": "code",
   "execution_count": 40,
   "id": "f76afc85",
   "metadata": {},
   "outputs": [
    {
     "data": {
      "text/plain": [
       "472        Schindler's List\n",
       "6971     The Rape of Europa\n",
       "3765        The Big Red One\n",
       "823              Cinderella\n",
       "4370      Escape to Victory\n",
       "8660    Challenge to Lassie\n",
       "8129               Sinister\n",
       "1495           Mrs. Miniver\n",
       "4624        Mr & Mrs Bridge\n",
       "2135           Notting Hill\n",
       "Name: title, dtype: object"
      ]
     },
     "execution_count": 40,
     "metadata": {},
     "output_type": "execute_result"
    }
   ],
   "source": [
    "recommend_related_to(\"Life Is Beautiful\").head(10)"
   ]
  },
  {
   "cell_type": "code",
   "execution_count": null,
   "id": "5eac4811",
   "metadata": {},
   "outputs": [],
   "source": []
  },
  {
   "cell_type": "code",
   "execution_count": null,
   "id": "2318d4fc",
   "metadata": {},
   "outputs": [],
   "source": []
  }
 ],
 "metadata": {
  "kernelspec": {
   "display_name": "Python 3",
   "language": "python",
   "name": "python3"
  },
  "language_info": {
   "codemirror_mode": {
    "name": "ipython",
    "version": 3
   },
   "file_extension": ".py",
   "mimetype": "text/x-python",
   "name": "python",
   "nbconvert_exporter": "python",
   "pygments_lexer": "ipython3",
   "version": "3.8.8"
  }
 },
 "nbformat": 4,
 "nbformat_minor": 5
}
